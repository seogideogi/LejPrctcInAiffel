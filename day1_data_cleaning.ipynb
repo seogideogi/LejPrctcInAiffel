{
 "cells": [
  {
   "cell_type": "code",
   "execution_count": 60,
   "id": "b9a75288",
   "metadata": {},
   "outputs": [],
   "source": [
    "import pandas as pd"
   ]
  },
  {
   "cell_type": "code",
   "execution_count": 61,
   "id": "a0c13233",
   "metadata": {},
   "outputs": [],
   "source": [
    "data = pd.read_csv('../data/titanic.csv')\n"
   ]
  },
  {
   "cell_type": "code",
   "execution_count": 62,
   "id": "1d1d81b3",
   "metadata": {},
   "outputs": [
    {
     "data": {
      "text/html": [
       "<div>\n",
       "<style scoped>\n",
       "    .dataframe tbody tr th:only-of-type {\n",
       "        vertical-align: middle;\n",
       "    }\n",
       "\n",
       "    .dataframe tbody tr th {\n",
       "        vertical-align: top;\n",
       "    }\n",
       "\n",
       "    .dataframe thead th {\n",
       "        text-align: right;\n",
       "    }\n",
       "</style>\n",
       "<table border=\"1\" class=\"dataframe\">\n",
       "  <thead>\n",
       "    <tr style=\"text-align: right;\">\n",
       "      <th></th>\n",
       "      <th>Pclass</th>\n",
       "      <th>Name</th>\n",
       "      <th>Gendr</th>\n",
       "      <th>Age</th>\n",
       "      <th>SibSp</th>\n",
       "      <th>Parch</th>\n",
       "      <th>Ticket</th>\n",
       "      <th>Embarked</th>\n",
       "      <th>Survived</th>\n",
       "      <th>ticket_date</th>\n",
       "    </tr>\n",
       "  </thead>\n",
       "  <tbody>\n",
       "    <tr>\n",
       "      <th>25</th>\n",
       "      <td>3</td>\n",
       "      <td>Palsson, Miss. Torborg Danira</td>\n",
       "      <td>female</td>\n",
       "      <td>8.0</td>\n",
       "      <td>3</td>\n",
       "      <td>1</td>\n",
       "      <td>349909</td>\n",
       "      <td>S</td>\n",
       "      <td>0</td>\n",
       "      <td>1912-03-14</td>\n",
       "    </tr>\n",
       "    <tr>\n",
       "      <th>632</th>\n",
       "      <td>3</td>\n",
       "      <td>Skoog, Miss. Mabel</td>\n",
       "      <td>female</td>\n",
       "      <td>9.0</td>\n",
       "      <td>3</td>\n",
       "      <td>2</td>\n",
       "      <td>347088</td>\n",
       "      <td>S</td>\n",
       "      <td>0</td>\n",
       "      <td>1912-03-16</td>\n",
       "    </tr>\n",
       "    <tr>\n",
       "      <th>714</th>\n",
       "      <td>1</td>\n",
       "      <td>Endres, Miss. Caroline Louise</td>\n",
       "      <td>female</td>\n",
       "      <td>38.0</td>\n",
       "      <td>0</td>\n",
       "      <td>0</td>\n",
       "      <td>PC 17757</td>\n",
       "      <td>C</td>\n",
       "      <td>1</td>\n",
       "      <td>1912-03-14</td>\n",
       "    </tr>\n",
       "  </tbody>\n",
       "</table>\n",
       "</div>"
      ],
      "text/plain": [
       "     Pclass                           Name   Gendr   Age  SibSp  Parch  \\\n",
       "25        3  Palsson, Miss. Torborg Danira  female   8.0      3      1   \n",
       "632       3             Skoog, Miss. Mabel  female   9.0      3      2   \n",
       "714       1  Endres, Miss. Caroline Louise  female  38.0      0      0   \n",
       "\n",
       "       Ticket Embarked  Survived ticket_date  \n",
       "25     349909        S         0  1912-03-14  \n",
       "632    347088        S         0  1912-03-16  \n",
       "714  PC 17757        C         1  1912-03-14  "
      ]
     },
     "execution_count": 62,
     "metadata": {},
     "output_type": "execute_result"
    }
   ],
   "source": [
    "## 중복 확인\n",
    "data[data.duplicated()]"
   ]
  },
  {
   "cell_type": "code",
   "execution_count": 63,
   "id": "7b474170",
   "metadata": {},
   "outputs": [
    {
     "data": {
      "text/html": [
       "<div>\n",
       "<style scoped>\n",
       "    .dataframe tbody tr th:only-of-type {\n",
       "        vertical-align: middle;\n",
       "    }\n",
       "\n",
       "    .dataframe tbody tr th {\n",
       "        vertical-align: top;\n",
       "    }\n",
       "\n",
       "    .dataframe thead th {\n",
       "        text-align: right;\n",
       "    }\n",
       "</style>\n",
       "<table border=\"1\" class=\"dataframe\">\n",
       "  <thead>\n",
       "    <tr style=\"text-align: right;\">\n",
       "      <th></th>\n",
       "      <th>Pclass</th>\n",
       "      <th>Name</th>\n",
       "      <th>Gendr</th>\n",
       "      <th>Age</th>\n",
       "      <th>SibSp</th>\n",
       "      <th>Parch</th>\n",
       "      <th>Ticket</th>\n",
       "      <th>Embarked</th>\n",
       "      <th>Survived</th>\n",
       "      <th>ticket_date</th>\n",
       "    </tr>\n",
       "  </thead>\n",
       "  <tbody>\n",
       "    <tr>\n",
       "      <th>24</th>\n",
       "      <td>3</td>\n",
       "      <td>Palsson, Miss. Torborg Danira</td>\n",
       "      <td>female</td>\n",
       "      <td>8.0</td>\n",
       "      <td>3</td>\n",
       "      <td>1</td>\n",
       "      <td>349909</td>\n",
       "      <td>S</td>\n",
       "      <td>0</td>\n",
       "      <td>1912-03-14</td>\n",
       "    </tr>\n",
       "    <tr>\n",
       "      <th>25</th>\n",
       "      <td>3</td>\n",
       "      <td>Palsson, Miss. Torborg Danira</td>\n",
       "      <td>female</td>\n",
       "      <td>8.0</td>\n",
       "      <td>3</td>\n",
       "      <td>1</td>\n",
       "      <td>349909</td>\n",
       "      <td>S</td>\n",
       "      <td>0</td>\n",
       "      <td>1912-03-14</td>\n",
       "    </tr>\n",
       "  </tbody>\n",
       "</table>\n",
       "</div>"
      ],
      "text/plain": [
       "    Pclass                           Name   Gendr  Age  SibSp  Parch  Ticket  \\\n",
       "24       3  Palsson, Miss. Torborg Danira  female  8.0      3      1  349909   \n",
       "25       3  Palsson, Miss. Torborg Danira  female  8.0      3      1  349909   \n",
       "\n",
       "   Embarked  Survived ticket_date  \n",
       "24        S         0  1912-03-14  \n",
       "25        S         0  1912-03-14  "
      ]
     },
     "execution_count": 63,
     "metadata": {},
     "output_type": "execute_result"
    }
   ],
   "source": [
    "data[data['Name'] == 'Palsson, Miss. Torborg Danira']  ## 중복여부 확인 . 이런 중복 데이터는 drop 해주시라."
   ]
  },
  {
   "cell_type": "code",
   "execution_count": 64,
   "id": "a7628691",
   "metadata": {},
   "outputs": [],
   "source": [
    "data = data.drop_duplicates() # 중복삭제 . 삭제 결과 건수 882"
   ]
  },
  {
   "cell_type": "code",
   "execution_count": 65,
   "id": "4940207c",
   "metadata": {},
   "outputs": [
    {
     "data": {
      "text/html": [
       "<div>\n",
       "<style scoped>\n",
       "    .dataframe tbody tr th:only-of-type {\n",
       "        vertical-align: middle;\n",
       "    }\n",
       "\n",
       "    .dataframe tbody tr th {\n",
       "        vertical-align: top;\n",
       "    }\n",
       "\n",
       "    .dataframe thead th {\n",
       "        text-align: right;\n",
       "    }\n",
       "</style>\n",
       "<table border=\"1\" class=\"dataframe\">\n",
       "  <thead>\n",
       "    <tr style=\"text-align: right;\">\n",
       "      <th></th>\n",
       "      <th>Pclass</th>\n",
       "      <th>Name</th>\n",
       "      <th>Gendr</th>\n",
       "      <th>Age</th>\n",
       "      <th>SibSp</th>\n",
       "      <th>Parch</th>\n",
       "      <th>Ticket</th>\n",
       "      <th>Embarked</th>\n",
       "      <th>Survived</th>\n",
       "      <th>ticket_date</th>\n",
       "    </tr>\n",
       "  </thead>\n",
       "  <tbody>\n",
       "    <tr>\n",
       "      <th>0</th>\n",
       "      <td>3</td>\n",
       "      <td>Braund, Mr. Owen Harris</td>\n",
       "      <td>male</td>\n",
       "      <td>22.0</td>\n",
       "      <td>1</td>\n",
       "      <td>0</td>\n",
       "      <td>A/5 21171</td>\n",
       "      <td>S</td>\n",
       "      <td>0</td>\n",
       "      <td>1912-01-12</td>\n",
       "    </tr>\n",
       "    <tr>\n",
       "      <th>1</th>\n",
       "      <td>1</td>\n",
       "      <td>Cumings, Mrs. John Bradley (Florence Briggs Th...</td>\n",
       "      <td>female</td>\n",
       "      <td>38.0</td>\n",
       "      <td>1</td>\n",
       "      <td>0</td>\n",
       "      <td>PC 17599</td>\n",
       "      <td>C</td>\n",
       "      <td>1</td>\n",
       "      <td>1912-03-29</td>\n",
       "    </tr>\n",
       "    <tr>\n",
       "      <th>2</th>\n",
       "      <td>3</td>\n",
       "      <td>Heikkinen, Miss. Laina</td>\n",
       "      <td>female</td>\n",
       "      <td>26.0</td>\n",
       "      <td>0</td>\n",
       "      <td>0</td>\n",
       "      <td>STON/O2. 3101282</td>\n",
       "      <td>S</td>\n",
       "      <td>1</td>\n",
       "      <td>1912-02-23</td>\n",
       "    </tr>\n",
       "    <tr>\n",
       "      <th>3</th>\n",
       "      <td>1</td>\n",
       "      <td>Futrelle, Mrs. Jacques Heath (Lily May Peel)</td>\n",
       "      <td>female</td>\n",
       "      <td>NaN</td>\n",
       "      <td>1</td>\n",
       "      <td>0</td>\n",
       "      <td>113803</td>\n",
       "      <td>S</td>\n",
       "      <td>1</td>\n",
       "      <td>1912-03-28</td>\n",
       "    </tr>\n",
       "    <tr>\n",
       "      <th>4</th>\n",
       "      <td>3</td>\n",
       "      <td>Allen, Mr. William Henry</td>\n",
       "      <td>male</td>\n",
       "      <td>35.0</td>\n",
       "      <td>0</td>\n",
       "      <td>0</td>\n",
       "      <td>373450</td>\n",
       "      <td>S</td>\n",
       "      <td>0</td>\n",
       "      <td>1912-04-03</td>\n",
       "    </tr>\n",
       "    <tr>\n",
       "      <th>...</th>\n",
       "      <td>...</td>\n",
       "      <td>...</td>\n",
       "      <td>...</td>\n",
       "      <td>...</td>\n",
       "      <td>...</td>\n",
       "      <td>...</td>\n",
       "      <td>...</td>\n",
       "      <td>...</td>\n",
       "      <td>...</td>\n",
       "      <td>...</td>\n",
       "    </tr>\n",
       "    <tr>\n",
       "      <th>880</th>\n",
       "      <td>2</td>\n",
       "      <td>Montvila, Rev. Juozas</td>\n",
       "      <td>male</td>\n",
       "      <td>27.0</td>\n",
       "      <td>0</td>\n",
       "      <td>0</td>\n",
       "      <td>211536</td>\n",
       "      <td>S</td>\n",
       "      <td>0</td>\n",
       "      <td>1912-01-29</td>\n",
       "    </tr>\n",
       "    <tr>\n",
       "      <th>881</th>\n",
       "      <td>1</td>\n",
       "      <td>Graham, Miss. Margaret Edith</td>\n",
       "      <td>female</td>\n",
       "      <td>19.0</td>\n",
       "      <td>0</td>\n",
       "      <td>0</td>\n",
       "      <td>112053</td>\n",
       "      <td>S</td>\n",
       "      <td>1</td>\n",
       "      <td>1912-03-30</td>\n",
       "    </tr>\n",
       "    <tr>\n",
       "      <th>882</th>\n",
       "      <td>3</td>\n",
       "      <td>Johnston, Miss. Catherine Helen \"Carrie\"</td>\n",
       "      <td>female</td>\n",
       "      <td>28.0</td>\n",
       "      <td>1</td>\n",
       "      <td>2</td>\n",
       "      <td>W./C. 6607</td>\n",
       "      <td>S</td>\n",
       "      <td>0</td>\n",
       "      <td>1912-04-07</td>\n",
       "    </tr>\n",
       "    <tr>\n",
       "      <th>883</th>\n",
       "      <td>1</td>\n",
       "      <td>Behr, Mr. Karl Howell</td>\n",
       "      <td>male</td>\n",
       "      <td>26.0</td>\n",
       "      <td>0</td>\n",
       "      <td>0</td>\n",
       "      <td>111369</td>\n",
       "      <td>C</td>\n",
       "      <td>1</td>\n",
       "      <td>1912-03-01</td>\n",
       "    </tr>\n",
       "    <tr>\n",
       "      <th>884</th>\n",
       "      <td>3</td>\n",
       "      <td>Dooley, Mr. Patrick</td>\n",
       "      <td>male</td>\n",
       "      <td>32.0</td>\n",
       "      <td>0</td>\n",
       "      <td>0</td>\n",
       "      <td>370376</td>\n",
       "      <td>Q</td>\n",
       "      <td>0</td>\n",
       "      <td>1912-03-05</td>\n",
       "    </tr>\n",
       "  </tbody>\n",
       "</table>\n",
       "<p>882 rows × 10 columns</p>\n",
       "</div>"
      ],
      "text/plain": [
       "     Pclass                                               Name   Gendr   Age  \\\n",
       "0         3                            Braund, Mr. Owen Harris    male  22.0   \n",
       "1         1  Cumings, Mrs. John Bradley (Florence Briggs Th...  female  38.0   \n",
       "2         3                             Heikkinen, Miss. Laina  female  26.0   \n",
       "3         1       Futrelle, Mrs. Jacques Heath (Lily May Peel)  female   NaN   \n",
       "4         3                           Allen, Mr. William Henry    male  35.0   \n",
       "..      ...                                                ...     ...   ...   \n",
       "880       2                              Montvila, Rev. Juozas    male  27.0   \n",
       "881       1                       Graham, Miss. Margaret Edith  female  19.0   \n",
       "882       3           Johnston, Miss. Catherine Helen \"Carrie\"  female  28.0   \n",
       "883       1                              Behr, Mr. Karl Howell    male  26.0   \n",
       "884       3                                Dooley, Mr. Patrick    male  32.0   \n",
       "\n",
       "     SibSp  Parch            Ticket Embarked  Survived ticket_date  \n",
       "0        1      0         A/5 21171        S         0  1912-01-12  \n",
       "1        1      0          PC 17599        C         1  1912-03-29  \n",
       "2        0      0  STON/O2. 3101282        S         1  1912-02-23  \n",
       "3        1      0            113803        S         1  1912-03-28  \n",
       "4        0      0            373450        S         0  1912-04-03  \n",
       "..     ...    ...               ...      ...       ...         ...  \n",
       "880      0      0            211536        S         0  1912-01-29  \n",
       "881      0      0            112053        S         1  1912-03-30  \n",
       "882      1      2        W./C. 6607        S         0  1912-04-07  \n",
       "883      0      0            111369        C         1  1912-03-01  \n",
       "884      0      0            370376        Q         0  1912-03-05  \n",
       "\n",
       "[882 rows x 10 columns]"
      ]
     },
     "execution_count": 65,
     "metadata": {},
     "output_type": "execute_result"
    }
   ],
   "source": [
    "data"
   ]
  },
  {
   "cell_type": "code",
   "execution_count": 66,
   "id": "2144aade",
   "metadata": {},
   "outputs": [
    {
     "data": {
      "text/html": [
       "<div>\n",
       "<style scoped>\n",
       "    .dataframe tbody tr th:only-of-type {\n",
       "        vertical-align: middle;\n",
       "    }\n",
       "\n",
       "    .dataframe tbody tr th {\n",
       "        vertical-align: top;\n",
       "    }\n",
       "\n",
       "    .dataframe thead th {\n",
       "        text-align: right;\n",
       "    }\n",
       "</style>\n",
       "<table border=\"1\" class=\"dataframe\">\n",
       "  <thead>\n",
       "    <tr style=\"text-align: right;\">\n",
       "      <th></th>\n",
       "      <th>Pclass</th>\n",
       "      <th>Gendr</th>\n",
       "      <th>Age</th>\n",
       "      <th>SibSp</th>\n",
       "      <th>Parch</th>\n",
       "      <th>Ticket</th>\n",
       "      <th>Embarked</th>\n",
       "      <th>Survived</th>\n",
       "      <th>ticket_date</th>\n",
       "    </tr>\n",
       "  </thead>\n",
       "  <tbody>\n",
       "    <tr>\n",
       "      <th>0</th>\n",
       "      <td>3</td>\n",
       "      <td>male</td>\n",
       "      <td>22.0</td>\n",
       "      <td>1</td>\n",
       "      <td>0</td>\n",
       "      <td>A/5 21171</td>\n",
       "      <td>S</td>\n",
       "      <td>0</td>\n",
       "      <td>1912-01-12</td>\n",
       "    </tr>\n",
       "    <tr>\n",
       "      <th>1</th>\n",
       "      <td>1</td>\n",
       "      <td>female</td>\n",
       "      <td>38.0</td>\n",
       "      <td>1</td>\n",
       "      <td>0</td>\n",
       "      <td>PC 17599</td>\n",
       "      <td>C</td>\n",
       "      <td>1</td>\n",
       "      <td>1912-03-29</td>\n",
       "    </tr>\n",
       "    <tr>\n",
       "      <th>2</th>\n",
       "      <td>3</td>\n",
       "      <td>female</td>\n",
       "      <td>26.0</td>\n",
       "      <td>0</td>\n",
       "      <td>0</td>\n",
       "      <td>STON/O2. 3101282</td>\n",
       "      <td>S</td>\n",
       "      <td>1</td>\n",
       "      <td>1912-02-23</td>\n",
       "    </tr>\n",
       "    <tr>\n",
       "      <th>3</th>\n",
       "      <td>1</td>\n",
       "      <td>female</td>\n",
       "      <td>NaN</td>\n",
       "      <td>1</td>\n",
       "      <td>0</td>\n",
       "      <td>113803</td>\n",
       "      <td>S</td>\n",
       "      <td>1</td>\n",
       "      <td>1912-03-28</td>\n",
       "    </tr>\n",
       "    <tr>\n",
       "      <th>4</th>\n",
       "      <td>3</td>\n",
       "      <td>male</td>\n",
       "      <td>35.0</td>\n",
       "      <td>0</td>\n",
       "      <td>0</td>\n",
       "      <td>373450</td>\n",
       "      <td>S</td>\n",
       "      <td>0</td>\n",
       "      <td>1912-04-03</td>\n",
       "    </tr>\n",
       "    <tr>\n",
       "      <th>...</th>\n",
       "      <td>...</td>\n",
       "      <td>...</td>\n",
       "      <td>...</td>\n",
       "      <td>...</td>\n",
       "      <td>...</td>\n",
       "      <td>...</td>\n",
       "      <td>...</td>\n",
       "      <td>...</td>\n",
       "      <td>...</td>\n",
       "    </tr>\n",
       "    <tr>\n",
       "      <th>880</th>\n",
       "      <td>2</td>\n",
       "      <td>male</td>\n",
       "      <td>27.0</td>\n",
       "      <td>0</td>\n",
       "      <td>0</td>\n",
       "      <td>211536</td>\n",
       "      <td>S</td>\n",
       "      <td>0</td>\n",
       "      <td>1912-01-29</td>\n",
       "    </tr>\n",
       "    <tr>\n",
       "      <th>881</th>\n",
       "      <td>1</td>\n",
       "      <td>female</td>\n",
       "      <td>19.0</td>\n",
       "      <td>0</td>\n",
       "      <td>0</td>\n",
       "      <td>112053</td>\n",
       "      <td>S</td>\n",
       "      <td>1</td>\n",
       "      <td>1912-03-30</td>\n",
       "    </tr>\n",
       "    <tr>\n",
       "      <th>882</th>\n",
       "      <td>3</td>\n",
       "      <td>female</td>\n",
       "      <td>28.0</td>\n",
       "      <td>1</td>\n",
       "      <td>2</td>\n",
       "      <td>W./C. 6607</td>\n",
       "      <td>S</td>\n",
       "      <td>0</td>\n",
       "      <td>1912-04-07</td>\n",
       "    </tr>\n",
       "    <tr>\n",
       "      <th>883</th>\n",
       "      <td>1</td>\n",
       "      <td>male</td>\n",
       "      <td>26.0</td>\n",
       "      <td>0</td>\n",
       "      <td>0</td>\n",
       "      <td>111369</td>\n",
       "      <td>C</td>\n",
       "      <td>1</td>\n",
       "      <td>1912-03-01</td>\n",
       "    </tr>\n",
       "    <tr>\n",
       "      <th>884</th>\n",
       "      <td>3</td>\n",
       "      <td>male</td>\n",
       "      <td>32.0</td>\n",
       "      <td>0</td>\n",
       "      <td>0</td>\n",
       "      <td>370376</td>\n",
       "      <td>Q</td>\n",
       "      <td>0</td>\n",
       "      <td>1912-03-05</td>\n",
       "    </tr>\n",
       "  </tbody>\n",
       "</table>\n",
       "<p>882 rows × 9 columns</p>\n",
       "</div>"
      ],
      "text/plain": [
       "     Pclass   Gendr   Age  SibSp  Parch            Ticket Embarked  Survived  \\\n",
       "0         3    male  22.0      1      0         A/5 21171        S         0   \n",
       "1         1  female  38.0      1      0          PC 17599        C         1   \n",
       "2         3  female  26.0      0      0  STON/O2. 3101282        S         1   \n",
       "3         1  female   NaN      1      0            113803        S         1   \n",
       "4         3    male  35.0      0      0            373450        S         0   \n",
       "..      ...     ...   ...    ...    ...               ...      ...       ...   \n",
       "880       2    male  27.0      0      0            211536        S         0   \n",
       "881       1  female  19.0      0      0            112053        S         1   \n",
       "882       3  female  28.0      1      2        W./C. 6607        S         0   \n",
       "883       1    male  26.0      0      0            111369        C         1   \n",
       "884       3    male  32.0      0      0            370376        Q         0   \n",
       "\n",
       "    ticket_date  \n",
       "0    1912-01-12  \n",
       "1    1912-03-29  \n",
       "2    1912-02-23  \n",
       "3    1912-03-28  \n",
       "4    1912-04-03  \n",
       "..          ...  \n",
       "880  1912-01-29  \n",
       "881  1912-03-30  \n",
       "882  1912-04-07  \n",
       "883  1912-03-01  \n",
       "884  1912-03-05  \n",
       "\n",
       "[882 rows x 9 columns]"
      ]
     },
     "execution_count": 66,
     "metadata": {},
     "output_type": "execute_result"
    }
   ],
   "source": [
    "data.drop('Name', axis = 1) # 데이터를 삭제 한 것은 아님.   data 를 다시 저장할땐, data = ~~ 이렇게  or data.drop('Name', axis = 1, inplace = True)"
   ]
  },
  {
   "cell_type": "code",
   "execution_count": 67,
   "id": "38d8f9e7",
   "metadata": {},
   "outputs": [
    {
     "data": {
      "text/html": [
       "<div>\n",
       "<style scoped>\n",
       "    .dataframe tbody tr th:only-of-type {\n",
       "        vertical-align: middle;\n",
       "    }\n",
       "\n",
       "    .dataframe tbody tr th {\n",
       "        vertical-align: top;\n",
       "    }\n",
       "\n",
       "    .dataframe thead th {\n",
       "        text-align: right;\n",
       "    }\n",
       "</style>\n",
       "<table border=\"1\" class=\"dataframe\">\n",
       "  <thead>\n",
       "    <tr style=\"text-align: right;\">\n",
       "      <th></th>\n",
       "      <th>Pclass</th>\n",
       "      <th>Name</th>\n",
       "      <th>Gendr</th>\n",
       "      <th>Age</th>\n",
       "      <th>SibSp</th>\n",
       "      <th>Parch</th>\n",
       "      <th>Ticket</th>\n",
       "      <th>Embarked</th>\n",
       "      <th>Survived</th>\n",
       "      <th>ticket_date</th>\n",
       "    </tr>\n",
       "  </thead>\n",
       "  <tbody>\n",
       "    <tr>\n",
       "      <th>0</th>\n",
       "      <td>3</td>\n",
       "      <td>Braund, Mr. Owen Harris</td>\n",
       "      <td>male</td>\n",
       "      <td>22.0</td>\n",
       "      <td>1</td>\n",
       "      <td>0</td>\n",
       "      <td>A/5 21171</td>\n",
       "      <td>S</td>\n",
       "      <td>0</td>\n",
       "      <td>1912-01-12</td>\n",
       "    </tr>\n",
       "    <tr>\n",
       "      <th>1</th>\n",
       "      <td>1</td>\n",
       "      <td>Cumings, Mrs. John Bradley (Florence Briggs Th...</td>\n",
       "      <td>female</td>\n",
       "      <td>38.0</td>\n",
       "      <td>1</td>\n",
       "      <td>0</td>\n",
       "      <td>PC 17599</td>\n",
       "      <td>C</td>\n",
       "      <td>1</td>\n",
       "      <td>1912-03-29</td>\n",
       "    </tr>\n",
       "    <tr>\n",
       "      <th>2</th>\n",
       "      <td>3</td>\n",
       "      <td>Heikkinen, Miss. Laina</td>\n",
       "      <td>female</td>\n",
       "      <td>26.0</td>\n",
       "      <td>0</td>\n",
       "      <td>0</td>\n",
       "      <td>STON/O2. 3101282</td>\n",
       "      <td>S</td>\n",
       "      <td>1</td>\n",
       "      <td>1912-02-23</td>\n",
       "    </tr>\n",
       "    <tr>\n",
       "      <th>3</th>\n",
       "      <td>1</td>\n",
       "      <td>Futrelle, Mrs. Jacques Heath (Lily May Peel)</td>\n",
       "      <td>female</td>\n",
       "      <td>NaN</td>\n",
       "      <td>1</td>\n",
       "      <td>0</td>\n",
       "      <td>113803</td>\n",
       "      <td>S</td>\n",
       "      <td>1</td>\n",
       "      <td>1912-03-28</td>\n",
       "    </tr>\n",
       "    <tr>\n",
       "      <th>4</th>\n",
       "      <td>3</td>\n",
       "      <td>Allen, Mr. William Henry</td>\n",
       "      <td>male</td>\n",
       "      <td>35.0</td>\n",
       "      <td>0</td>\n",
       "      <td>0</td>\n",
       "      <td>373450</td>\n",
       "      <td>S</td>\n",
       "      <td>0</td>\n",
       "      <td>1912-04-03</td>\n",
       "    </tr>\n",
       "  </tbody>\n",
       "</table>\n",
       "</div>"
      ],
      "text/plain": [
       "   Pclass                                               Name   Gendr   Age  \\\n",
       "0       3                            Braund, Mr. Owen Harris    male  22.0   \n",
       "1       1  Cumings, Mrs. John Bradley (Florence Briggs Th...  female  38.0   \n",
       "2       3                             Heikkinen, Miss. Laina  female  26.0   \n",
       "3       1       Futrelle, Mrs. Jacques Heath (Lily May Peel)  female   NaN   \n",
       "4       3                           Allen, Mr. William Henry    male  35.0   \n",
       "\n",
       "   SibSp  Parch            Ticket Embarked  Survived ticket_date  \n",
       "0      1      0         A/5 21171        S         0  1912-01-12  \n",
       "1      1      0          PC 17599        C         1  1912-03-29  \n",
       "2      0      0  STON/O2. 3101282        S         1  1912-02-23  \n",
       "3      1      0            113803        S         1  1912-03-28  \n",
       "4      0      0            373450        S         0  1912-04-03  "
      ]
     },
     "execution_count": 67,
     "metadata": {},
     "output_type": "execute_result"
    }
   ],
   "source": [
    "data.head()"
   ]
  },
  {
   "cell_type": "code",
   "execution_count": 68,
   "id": "61f62430",
   "metadata": {},
   "outputs": [],
   "source": [
    "data.drop('Name', axis = 1, inplace=True)  # name 데이터 없애기 실제로 데이터 없앰. axis =1 컬럼 드랍. axis = 0 이 기본. 열 드랍."
   ]
  },
  {
   "cell_type": "code",
   "execution_count": 69,
   "id": "9591cc5b",
   "metadata": {},
   "outputs": [
    {
     "data": {
      "text/html": [
       "<div>\n",
       "<style scoped>\n",
       "    .dataframe tbody tr th:only-of-type {\n",
       "        vertical-align: middle;\n",
       "    }\n",
       "\n",
       "    .dataframe tbody tr th {\n",
       "        vertical-align: top;\n",
       "    }\n",
       "\n",
       "    .dataframe thead th {\n",
       "        text-align: right;\n",
       "    }\n",
       "</style>\n",
       "<table border=\"1\" class=\"dataframe\">\n",
       "  <thead>\n",
       "    <tr style=\"text-align: right;\">\n",
       "      <th></th>\n",
       "      <th>Pclass</th>\n",
       "      <th>Gendr</th>\n",
       "      <th>Age</th>\n",
       "      <th>SibSp</th>\n",
       "      <th>Parch</th>\n",
       "      <th>Ticket</th>\n",
       "      <th>Embarked</th>\n",
       "      <th>Survived</th>\n",
       "      <th>ticket_date</th>\n",
       "    </tr>\n",
       "  </thead>\n",
       "  <tbody>\n",
       "    <tr>\n",
       "      <th>0</th>\n",
       "      <td>3</td>\n",
       "      <td>male</td>\n",
       "      <td>22.0</td>\n",
       "      <td>1</td>\n",
       "      <td>0</td>\n",
       "      <td>A/5 21171</td>\n",
       "      <td>S</td>\n",
       "      <td>0</td>\n",
       "      <td>1912-01-12</td>\n",
       "    </tr>\n",
       "    <tr>\n",
       "      <th>1</th>\n",
       "      <td>1</td>\n",
       "      <td>female</td>\n",
       "      <td>38.0</td>\n",
       "      <td>1</td>\n",
       "      <td>0</td>\n",
       "      <td>PC 17599</td>\n",
       "      <td>C</td>\n",
       "      <td>1</td>\n",
       "      <td>1912-03-29</td>\n",
       "    </tr>\n",
       "    <tr>\n",
       "      <th>2</th>\n",
       "      <td>3</td>\n",
       "      <td>female</td>\n",
       "      <td>26.0</td>\n",
       "      <td>0</td>\n",
       "      <td>0</td>\n",
       "      <td>STON/O2. 3101282</td>\n",
       "      <td>S</td>\n",
       "      <td>1</td>\n",
       "      <td>1912-02-23</td>\n",
       "    </tr>\n",
       "    <tr>\n",
       "      <th>3</th>\n",
       "      <td>1</td>\n",
       "      <td>female</td>\n",
       "      <td>NaN</td>\n",
       "      <td>1</td>\n",
       "      <td>0</td>\n",
       "      <td>113803</td>\n",
       "      <td>S</td>\n",
       "      <td>1</td>\n",
       "      <td>1912-03-28</td>\n",
       "    </tr>\n",
       "    <tr>\n",
       "      <th>4</th>\n",
       "      <td>3</td>\n",
       "      <td>male</td>\n",
       "      <td>35.0</td>\n",
       "      <td>0</td>\n",
       "      <td>0</td>\n",
       "      <td>373450</td>\n",
       "      <td>S</td>\n",
       "      <td>0</td>\n",
       "      <td>1912-04-03</td>\n",
       "    </tr>\n",
       "  </tbody>\n",
       "</table>\n",
       "</div>"
      ],
      "text/plain": [
       "   Pclass   Gendr   Age  SibSp  Parch            Ticket Embarked  Survived  \\\n",
       "0       3    male  22.0      1      0         A/5 21171        S         0   \n",
       "1       1  female  38.0      1      0          PC 17599        C         1   \n",
       "2       3  female  26.0      0      0  STON/O2. 3101282        S         1   \n",
       "3       1  female   NaN      1      0            113803        S         1   \n",
       "4       3    male  35.0      0      0            373450        S         0   \n",
       "\n",
       "  ticket_date  \n",
       "0  1912-01-12  \n",
       "1  1912-03-29  \n",
       "2  1912-02-23  \n",
       "3  1912-03-28  \n",
       "4  1912-04-03  "
      ]
     },
     "execution_count": 69,
     "metadata": {},
     "output_type": "execute_result"
    }
   ],
   "source": [
    "data.head() # name 데이터 사라졌는지 체크"
   ]
  },
  {
   "cell_type": "code",
   "execution_count": 70,
   "id": "3cee16a8",
   "metadata": {},
   "outputs": [
    {
     "data": {
      "text/html": [
       "<div>\n",
       "<style scoped>\n",
       "    .dataframe tbody tr th:only-of-type {\n",
       "        vertical-align: middle;\n",
       "    }\n",
       "\n",
       "    .dataframe tbody tr th {\n",
       "        vertical-align: top;\n",
       "    }\n",
       "\n",
       "    .dataframe thead th {\n",
       "        text-align: right;\n",
       "    }\n",
       "</style>\n",
       "<table border=\"1\" class=\"dataframe\">\n",
       "  <thead>\n",
       "    <tr style=\"text-align: right;\">\n",
       "      <th></th>\n",
       "      <th>Gendr</th>\n",
       "      <th>SibSp</th>\n",
       "      <th>Parch</th>\n",
       "      <th>Ticket</th>\n",
       "      <th>Embarked</th>\n",
       "      <th>Survived</th>\n",
       "      <th>ticket_date</th>\n",
       "    </tr>\n",
       "  </thead>\n",
       "  <tbody>\n",
       "    <tr>\n",
       "      <th>0</th>\n",
       "      <td>male</td>\n",
       "      <td>1</td>\n",
       "      <td>0</td>\n",
       "      <td>A/5 21171</td>\n",
       "      <td>S</td>\n",
       "      <td>0</td>\n",
       "      <td>1912-01-12</td>\n",
       "    </tr>\n",
       "    <tr>\n",
       "      <th>1</th>\n",
       "      <td>female</td>\n",
       "      <td>1</td>\n",
       "      <td>0</td>\n",
       "      <td>PC 17599</td>\n",
       "      <td>C</td>\n",
       "      <td>1</td>\n",
       "      <td>1912-03-29</td>\n",
       "    </tr>\n",
       "    <tr>\n",
       "      <th>2</th>\n",
       "      <td>female</td>\n",
       "      <td>0</td>\n",
       "      <td>0</td>\n",
       "      <td>STON/O2. 3101282</td>\n",
       "      <td>S</td>\n",
       "      <td>1</td>\n",
       "      <td>1912-02-23</td>\n",
       "    </tr>\n",
       "    <tr>\n",
       "      <th>3</th>\n",
       "      <td>female</td>\n",
       "      <td>1</td>\n",
       "      <td>0</td>\n",
       "      <td>113803</td>\n",
       "      <td>S</td>\n",
       "      <td>1</td>\n",
       "      <td>1912-03-28</td>\n",
       "    </tr>\n",
       "    <tr>\n",
       "      <th>4</th>\n",
       "      <td>male</td>\n",
       "      <td>0</td>\n",
       "      <td>0</td>\n",
       "      <td>373450</td>\n",
       "      <td>S</td>\n",
       "      <td>0</td>\n",
       "      <td>1912-04-03</td>\n",
       "    </tr>\n",
       "    <tr>\n",
       "      <th>...</th>\n",
       "      <td>...</td>\n",
       "      <td>...</td>\n",
       "      <td>...</td>\n",
       "      <td>...</td>\n",
       "      <td>...</td>\n",
       "      <td>...</td>\n",
       "      <td>...</td>\n",
       "    </tr>\n",
       "    <tr>\n",
       "      <th>880</th>\n",
       "      <td>male</td>\n",
       "      <td>0</td>\n",
       "      <td>0</td>\n",
       "      <td>211536</td>\n",
       "      <td>S</td>\n",
       "      <td>0</td>\n",
       "      <td>1912-01-29</td>\n",
       "    </tr>\n",
       "    <tr>\n",
       "      <th>881</th>\n",
       "      <td>female</td>\n",
       "      <td>0</td>\n",
       "      <td>0</td>\n",
       "      <td>112053</td>\n",
       "      <td>S</td>\n",
       "      <td>1</td>\n",
       "      <td>1912-03-30</td>\n",
       "    </tr>\n",
       "    <tr>\n",
       "      <th>882</th>\n",
       "      <td>female</td>\n",
       "      <td>1</td>\n",
       "      <td>2</td>\n",
       "      <td>W./C. 6607</td>\n",
       "      <td>S</td>\n",
       "      <td>0</td>\n",
       "      <td>1912-04-07</td>\n",
       "    </tr>\n",
       "    <tr>\n",
       "      <th>883</th>\n",
       "      <td>male</td>\n",
       "      <td>0</td>\n",
       "      <td>0</td>\n",
       "      <td>111369</td>\n",
       "      <td>C</td>\n",
       "      <td>1</td>\n",
       "      <td>1912-03-01</td>\n",
       "    </tr>\n",
       "    <tr>\n",
       "      <th>884</th>\n",
       "      <td>male</td>\n",
       "      <td>0</td>\n",
       "      <td>0</td>\n",
       "      <td>370376</td>\n",
       "      <td>Q</td>\n",
       "      <td>0</td>\n",
       "      <td>1912-03-05</td>\n",
       "    </tr>\n",
       "  </tbody>\n",
       "</table>\n",
       "<p>882 rows × 7 columns</p>\n",
       "</div>"
      ],
      "text/plain": [
       "      Gendr  SibSp  Parch            Ticket Embarked  Survived ticket_date\n",
       "0      male      1      0         A/5 21171        S         0  1912-01-12\n",
       "1    female      1      0          PC 17599        C         1  1912-03-29\n",
       "2    female      0      0  STON/O2. 3101282        S         1  1912-02-23\n",
       "3    female      1      0            113803        S         1  1912-03-28\n",
       "4      male      0      0            373450        S         0  1912-04-03\n",
       "..      ...    ...    ...               ...      ...       ...         ...\n",
       "880    male      0      0            211536        S         0  1912-01-29\n",
       "881  female      0      0            112053        S         1  1912-03-30\n",
       "882  female      1      2        W./C. 6607        S         0  1912-04-07\n",
       "883    male      0      0            111369        C         1  1912-03-01\n",
       "884    male      0      0            370376        Q         0  1912-03-05\n",
       "\n",
       "[882 rows x 7 columns]"
      ]
     },
     "execution_count": 70,
     "metadata": {},
     "output_type": "execute_result"
    }
   ],
   "source": [
    "##ta.drop('Pclass', 'Age') 드랍은 하나의 값만 받음. 여러 컬럼을 삭제 할 경우 리스트로 묶고, axis = 1 지정. 해야 컬럼.\n",
    "data.drop(['Pclass', 'Age'], axis=1)"
   ]
  },
  {
   "cell_type": "code",
   "execution_count": 71,
   "id": "c176e9f6",
   "metadata": {},
   "outputs": [
    {
     "data": {
      "text/plain": [
       "<bound method NDFrame.head of      Pclass   Gendr   Age  SibSp  Parch            Ticket Embarked  Survived  \\\n",
       "0         3    male  22.0      1      0         A/5 21171        S         0   \n",
       "1         1  female  38.0      1      0          PC 17599        C         1   \n",
       "2         3  female  26.0      0      0  STON/O2. 3101282        S         1   \n",
       "3         1  female   NaN      1      0            113803        S         1   \n",
       "4         3    male  35.0      0      0            373450        S         0   \n",
       "..      ...     ...   ...    ...    ...               ...      ...       ...   \n",
       "880       2    male  27.0      0      0            211536        S         0   \n",
       "881       1  female  19.0      0      0            112053        S         1   \n",
       "882       3  female  28.0      1      2        W./C. 6607        S         0   \n",
       "883       1    male  26.0      0      0            111369        C         1   \n",
       "884       3    male  32.0      0      0            370376        Q         0   \n",
       "\n",
       "    ticket_date  \n",
       "0    1912-01-12  \n",
       "1    1912-03-29  \n",
       "2    1912-02-23  \n",
       "3    1912-03-28  \n",
       "4    1912-04-03  \n",
       "..          ...  \n",
       "880  1912-01-29  \n",
       "881  1912-03-30  \n",
       "882  1912-04-07  \n",
       "883  1912-03-01  \n",
       "884  1912-03-05  \n",
       "\n",
       "[882 rows x 9 columns]>"
      ]
     },
     "execution_count": 71,
     "metadata": {},
     "output_type": "execute_result"
    }
   ],
   "source": [
    "data.head"
   ]
  },
  {
   "cell_type": "code",
   "execution_count": 72,
   "id": "766fa31f",
   "metadata": {},
   "outputs": [
    {
     "data": {
      "text/plain": [
       "Pclass                  3\n",
       "Gendr                male\n",
       "Age                  28.0\n",
       "SibSp                   0\n",
       "Parch                   0\n",
       "Ticket             330877\n",
       "Embarked                Q\n",
       "Survived                0\n",
       "ticket_date    1912-03-30\n",
       "Name: 5, dtype: object"
      ]
     },
     "execution_count": 72,
     "metadata": {},
     "output_type": "execute_result"
    }
   ],
   "source": [
    "# 결측치 처리\n",
    "data.loc[5]"
   ]
  },
  {
   "cell_type": "code",
   "execution_count": 73,
   "id": "f257192f",
   "metadata": {},
   "outputs": [
    {
     "data": {
      "text/html": [
       "<div>\n",
       "<style scoped>\n",
       "    .dataframe tbody tr th:only-of-type {\n",
       "        vertical-align: middle;\n",
       "    }\n",
       "\n",
       "    .dataframe tbody tr th {\n",
       "        vertical-align: top;\n",
       "    }\n",
       "\n",
       "    .dataframe thead th {\n",
       "        text-align: right;\n",
       "    }\n",
       "</style>\n",
       "<table border=\"1\" class=\"dataframe\">\n",
       "  <thead>\n",
       "    <tr style=\"text-align: right;\">\n",
       "      <th></th>\n",
       "      <th>Pclass</th>\n",
       "      <th>Gendr</th>\n",
       "      <th>Age</th>\n",
       "      <th>SibSp</th>\n",
       "      <th>Parch</th>\n",
       "      <th>Ticket</th>\n",
       "      <th>Embarked</th>\n",
       "      <th>Survived</th>\n",
       "      <th>ticket_date</th>\n",
       "    </tr>\n",
       "  </thead>\n",
       "  <tbody>\n",
       "    <tr>\n",
       "      <th>4</th>\n",
       "      <td>3</td>\n",
       "      <td>male</td>\n",
       "      <td>35.0</td>\n",
       "      <td>0</td>\n",
       "      <td>0</td>\n",
       "      <td>373450</td>\n",
       "      <td>S</td>\n",
       "      <td>0</td>\n",
       "      <td>1912-04-03</td>\n",
       "    </tr>\n",
       "    <tr>\n",
       "      <th>5</th>\n",
       "      <td>3</td>\n",
       "      <td>male</td>\n",
       "      <td>28.0</td>\n",
       "      <td>0</td>\n",
       "      <td>0</td>\n",
       "      <td>330877</td>\n",
       "      <td>Q</td>\n",
       "      <td>0</td>\n",
       "      <td>1912-03-30</td>\n",
       "    </tr>\n",
       "    <tr>\n",
       "      <th>6</th>\n",
       "      <td>1</td>\n",
       "      <td>male</td>\n",
       "      <td>54.0</td>\n",
       "      <td>0</td>\n",
       "      <td>0</td>\n",
       "      <td>17463</td>\n",
       "      <td>S</td>\n",
       "      <td>0</td>\n",
       "      <td>1912-03-14</td>\n",
       "    </tr>\n",
       "  </tbody>\n",
       "</table>\n",
       "</div>"
      ],
      "text/plain": [
       "   Pclass Gendr   Age  SibSp  Parch  Ticket Embarked  Survived ticket_date\n",
       "4       3  male  35.0      0      0  373450        S         0  1912-04-03\n",
       "5       3  male  28.0      0      0  330877        Q         0  1912-03-30\n",
       "6       1  male  54.0      0      0   17463        S         0  1912-03-14"
      ]
     },
     "execution_count": 73,
     "metadata": {},
     "output_type": "execute_result"
    }
   ],
   "source": [
    "# 여러개 불러 오기\n",
    "data.loc[ [4,5,6] ] # 열 이름으로 불러오기"
   ]
  },
  {
   "cell_type": "code",
   "execution_count": 74,
   "id": "e838411e",
   "metadata": {},
   "outputs": [
    {
     "data": {
      "text/html": [
       "<div>\n",
       "<style scoped>\n",
       "    .dataframe tbody tr th:only-of-type {\n",
       "        vertical-align: middle;\n",
       "    }\n",
       "\n",
       "    .dataframe tbody tr th {\n",
       "        vertical-align: top;\n",
       "    }\n",
       "\n",
       "    .dataframe thead th {\n",
       "        text-align: right;\n",
       "    }\n",
       "</style>\n",
       "<table border=\"1\" class=\"dataframe\">\n",
       "  <thead>\n",
       "    <tr style=\"text-align: right;\">\n",
       "      <th></th>\n",
       "      <th>Pclass</th>\n",
       "      <th>Gendr</th>\n",
       "      <th>Age</th>\n",
       "      <th>SibSp</th>\n",
       "      <th>Parch</th>\n",
       "      <th>Ticket</th>\n",
       "      <th>Embarked</th>\n",
       "      <th>Survived</th>\n",
       "      <th>ticket_date</th>\n",
       "    </tr>\n",
       "  </thead>\n",
       "  <tbody>\n",
       "    <tr>\n",
       "      <th>4</th>\n",
       "      <td>3</td>\n",
       "      <td>male</td>\n",
       "      <td>35.0</td>\n",
       "      <td>0</td>\n",
       "      <td>0</td>\n",
       "      <td>373450</td>\n",
       "      <td>S</td>\n",
       "      <td>0</td>\n",
       "      <td>1912-04-03</td>\n",
       "    </tr>\n",
       "    <tr>\n",
       "      <th>5</th>\n",
       "      <td>3</td>\n",
       "      <td>male</td>\n",
       "      <td>28.0</td>\n",
       "      <td>0</td>\n",
       "      <td>0</td>\n",
       "      <td>330877</td>\n",
       "      <td>Q</td>\n",
       "      <td>0</td>\n",
       "      <td>1912-03-30</td>\n",
       "    </tr>\n",
       "    <tr>\n",
       "      <th>6</th>\n",
       "      <td>1</td>\n",
       "      <td>male</td>\n",
       "      <td>54.0</td>\n",
       "      <td>0</td>\n",
       "      <td>0</td>\n",
       "      <td>17463</td>\n",
       "      <td>S</td>\n",
       "      <td>0</td>\n",
       "      <td>1912-03-14</td>\n",
       "    </tr>\n",
       "  </tbody>\n",
       "</table>\n",
       "</div>"
      ],
      "text/plain": [
       "   Pclass Gendr   Age  SibSp  Parch  Ticket Embarked  Survived ticket_date\n",
       "4       3  male  35.0      0      0  373450        S         0  1912-04-03\n",
       "5       3  male  28.0      0      0  330877        Q         0  1912-03-30\n",
       "6       1  male  54.0      0      0   17463        S         0  1912-03-14"
      ]
     },
     "execution_count": 74,
     "metadata": {},
     "output_type": "execute_result"
    }
   ],
   "source": [
    "data.iloc[ [4,5,6] ]    # 숫자로 불러오기."
   ]
  },
  {
   "cell_type": "code",
   "execution_count": 75,
   "id": "302c39e5",
   "metadata": {},
   "outputs": [],
   "source": [
    "temp = data.head().copy()"
   ]
  },
  {
   "cell_type": "code",
   "execution_count": 76,
   "id": "6908b9eb",
   "metadata": {},
   "outputs": [
    {
     "data": {
      "text/html": [
       "<div>\n",
       "<style scoped>\n",
       "    .dataframe tbody tr th:only-of-type {\n",
       "        vertical-align: middle;\n",
       "    }\n",
       "\n",
       "    .dataframe tbody tr th {\n",
       "        vertical-align: top;\n",
       "    }\n",
       "\n",
       "    .dataframe thead th {\n",
       "        text-align: right;\n",
       "    }\n",
       "</style>\n",
       "<table border=\"1\" class=\"dataframe\">\n",
       "  <thead>\n",
       "    <tr style=\"text-align: right;\">\n",
       "      <th></th>\n",
       "      <th>Pclass</th>\n",
       "      <th>Gendr</th>\n",
       "      <th>Age</th>\n",
       "      <th>SibSp</th>\n",
       "      <th>Parch</th>\n",
       "      <th>Ticket</th>\n",
       "      <th>Embarked</th>\n",
       "      <th>Survived</th>\n",
       "      <th>ticket_date</th>\n",
       "    </tr>\n",
       "  </thead>\n",
       "  <tbody>\n",
       "    <tr>\n",
       "      <th>0</th>\n",
       "      <td>3</td>\n",
       "      <td>male</td>\n",
       "      <td>22.0</td>\n",
       "      <td>1</td>\n",
       "      <td>0</td>\n",
       "      <td>A/5 21171</td>\n",
       "      <td>S</td>\n",
       "      <td>0</td>\n",
       "      <td>1912-01-12</td>\n",
       "    </tr>\n",
       "    <tr>\n",
       "      <th>1</th>\n",
       "      <td>1</td>\n",
       "      <td>female</td>\n",
       "      <td>38.0</td>\n",
       "      <td>1</td>\n",
       "      <td>0</td>\n",
       "      <td>PC 17599</td>\n",
       "      <td>C</td>\n",
       "      <td>1</td>\n",
       "      <td>1912-03-29</td>\n",
       "    </tr>\n",
       "    <tr>\n",
       "      <th>2</th>\n",
       "      <td>3</td>\n",
       "      <td>female</td>\n",
       "      <td>26.0</td>\n",
       "      <td>0</td>\n",
       "      <td>0</td>\n",
       "      <td>STON/O2. 3101282</td>\n",
       "      <td>S</td>\n",
       "      <td>1</td>\n",
       "      <td>1912-02-23</td>\n",
       "    </tr>\n",
       "    <tr>\n",
       "      <th>3</th>\n",
       "      <td>1</td>\n",
       "      <td>female</td>\n",
       "      <td>NaN</td>\n",
       "      <td>1</td>\n",
       "      <td>0</td>\n",
       "      <td>113803</td>\n",
       "      <td>S</td>\n",
       "      <td>1</td>\n",
       "      <td>1912-03-28</td>\n",
       "    </tr>\n",
       "    <tr>\n",
       "      <th>4</th>\n",
       "      <td>3</td>\n",
       "      <td>male</td>\n",
       "      <td>35.0</td>\n",
       "      <td>0</td>\n",
       "      <td>0</td>\n",
       "      <td>373450</td>\n",
       "      <td>S</td>\n",
       "      <td>0</td>\n",
       "      <td>1912-04-03</td>\n",
       "    </tr>\n",
       "  </tbody>\n",
       "</table>\n",
       "</div>"
      ],
      "text/plain": [
       "   Pclass   Gendr   Age  SibSp  Parch            Ticket Embarked  Survived  \\\n",
       "0       3    male  22.0      1      0         A/5 21171        S         0   \n",
       "1       1  female  38.0      1      0          PC 17599        C         1   \n",
       "2       3  female  26.0      0      0  STON/O2. 3101282        S         1   \n",
       "3       1  female   NaN      1      0            113803        S         1   \n",
       "4       3    male  35.0      0      0            373450        S         0   \n",
       "\n",
       "  ticket_date  \n",
       "0  1912-01-12  \n",
       "1  1912-03-29  \n",
       "2  1912-02-23  \n",
       "3  1912-03-28  \n",
       "4  1912-04-03  "
      ]
     },
     "execution_count": 76,
     "metadata": {},
     "output_type": "execute_result"
    }
   ],
   "source": [
    "temp # 열의 이름 변경 하기"
   ]
  },
  {
   "cell_type": "code",
   "execution_count": 77,
   "id": "72399ece",
   "metadata": {},
   "outputs": [
    {
     "data": {
      "text/plain": [
       "Int64Index([0, 1, 2, 3, 4], dtype='int64')"
      ]
     },
     "execution_count": 77,
     "metadata": {},
     "output_type": "execute_result"
    }
   ],
   "source": [
    "temp.index"
   ]
  },
  {
   "cell_type": "code",
   "execution_count": 78,
   "id": "3299a365",
   "metadata": {},
   "outputs": [],
   "source": [
    "temp.index = ['a', 'b', 'c', 'd', 'e']"
   ]
  },
  {
   "cell_type": "code",
   "execution_count": 79,
   "id": "0c992aaa",
   "metadata": {},
   "outputs": [
    {
     "data": {
      "text/html": [
       "<div>\n",
       "<style scoped>\n",
       "    .dataframe tbody tr th:only-of-type {\n",
       "        vertical-align: middle;\n",
       "    }\n",
       "\n",
       "    .dataframe tbody tr th {\n",
       "        vertical-align: top;\n",
       "    }\n",
       "\n",
       "    .dataframe thead th {\n",
       "        text-align: right;\n",
       "    }\n",
       "</style>\n",
       "<table border=\"1\" class=\"dataframe\">\n",
       "  <thead>\n",
       "    <tr style=\"text-align: right;\">\n",
       "      <th></th>\n",
       "      <th>Pclass</th>\n",
       "      <th>Gendr</th>\n",
       "      <th>Age</th>\n",
       "      <th>SibSp</th>\n",
       "      <th>Parch</th>\n",
       "      <th>Ticket</th>\n",
       "      <th>Embarked</th>\n",
       "      <th>Survived</th>\n",
       "      <th>ticket_date</th>\n",
       "    </tr>\n",
       "  </thead>\n",
       "  <tbody>\n",
       "    <tr>\n",
       "      <th>a</th>\n",
       "      <td>3</td>\n",
       "      <td>male</td>\n",
       "      <td>22.0</td>\n",
       "      <td>1</td>\n",
       "      <td>0</td>\n",
       "      <td>A/5 21171</td>\n",
       "      <td>S</td>\n",
       "      <td>0</td>\n",
       "      <td>1912-01-12</td>\n",
       "    </tr>\n",
       "    <tr>\n",
       "      <th>b</th>\n",
       "      <td>1</td>\n",
       "      <td>female</td>\n",
       "      <td>38.0</td>\n",
       "      <td>1</td>\n",
       "      <td>0</td>\n",
       "      <td>PC 17599</td>\n",
       "      <td>C</td>\n",
       "      <td>1</td>\n",
       "      <td>1912-03-29</td>\n",
       "    </tr>\n",
       "    <tr>\n",
       "      <th>c</th>\n",
       "      <td>3</td>\n",
       "      <td>female</td>\n",
       "      <td>26.0</td>\n",
       "      <td>0</td>\n",
       "      <td>0</td>\n",
       "      <td>STON/O2. 3101282</td>\n",
       "      <td>S</td>\n",
       "      <td>1</td>\n",
       "      <td>1912-02-23</td>\n",
       "    </tr>\n",
       "    <tr>\n",
       "      <th>d</th>\n",
       "      <td>1</td>\n",
       "      <td>female</td>\n",
       "      <td>NaN</td>\n",
       "      <td>1</td>\n",
       "      <td>0</td>\n",
       "      <td>113803</td>\n",
       "      <td>S</td>\n",
       "      <td>1</td>\n",
       "      <td>1912-03-28</td>\n",
       "    </tr>\n",
       "    <tr>\n",
       "      <th>e</th>\n",
       "      <td>3</td>\n",
       "      <td>male</td>\n",
       "      <td>35.0</td>\n",
       "      <td>0</td>\n",
       "      <td>0</td>\n",
       "      <td>373450</td>\n",
       "      <td>S</td>\n",
       "      <td>0</td>\n",
       "      <td>1912-04-03</td>\n",
       "    </tr>\n",
       "  </tbody>\n",
       "</table>\n",
       "</div>"
      ],
      "text/plain": [
       "   Pclass   Gendr   Age  SibSp  Parch            Ticket Embarked  Survived  \\\n",
       "a       3    male  22.0      1      0         A/5 21171        S         0   \n",
       "b       1  female  38.0      1      0          PC 17599        C         1   \n",
       "c       3  female  26.0      0      0  STON/O2. 3101282        S         1   \n",
       "d       1  female   NaN      1      0            113803        S         1   \n",
       "e       3    male  35.0      0      0            373450        S         0   \n",
       "\n",
       "  ticket_date  \n",
       "a  1912-01-12  \n",
       "b  1912-03-29  \n",
       "c  1912-02-23  \n",
       "d  1912-03-28  \n",
       "e  1912-04-03  "
      ]
     },
     "execution_count": 79,
     "metadata": {},
     "output_type": "execute_result"
    }
   ],
   "source": [
    "temp"
   ]
  },
  {
   "cell_type": "code",
   "execution_count": 80,
   "id": "01115d8b",
   "metadata": {},
   "outputs": [
    {
     "data": {
      "text/plain": [
       "Pclass                        3\n",
       "Gendr                    female\n",
       "Age                        26.0\n",
       "SibSp                         0\n",
       "Parch                         0\n",
       "Ticket         STON/O2. 3101282\n",
       "Embarked                      S\n",
       "Survived                      1\n",
       "ticket_date          1912-02-23\n",
       "Name: c, dtype: object"
      ]
     },
     "execution_count": 80,
     "metadata": {},
     "output_type": "execute_result"
    }
   ],
   "source": [
    "temp.loc['c']  # 이름으로 불러 오기"
   ]
  },
  {
   "cell_type": "code",
   "execution_count": 81,
   "id": "4c84c390",
   "metadata": {},
   "outputs": [
    {
     "data": {
      "text/plain": [
       "Pclass                        3\n",
       "Gendr                    female\n",
       "Age                        26.0\n",
       "SibSp                         0\n",
       "Parch                         0\n",
       "Ticket         STON/O2. 3101282\n",
       "Embarked                      S\n",
       "Survived                      1\n",
       "ticket_date          1912-02-23\n",
       "Name: c, dtype: object"
      ]
     },
     "execution_count": 81,
     "metadata": {},
     "output_type": "execute_result"
    }
   ],
   "source": [
    "temp.iloc[2] # 숫자로 불러 오기"
   ]
  },
  {
   "cell_type": "code",
   "execution_count": 82,
   "id": "798ff259",
   "metadata": {},
   "outputs": [
    {
     "data": {
      "text/plain": [
       "Pclass         0\n",
       "Gendr          0\n",
       "Age            6\n",
       "SibSp          0\n",
       "Parch          0\n",
       "Ticket         0\n",
       "Embarked       2\n",
       "Survived       0\n",
       "ticket_date    0\n",
       "dtype: int64"
      ]
     },
     "execution_count": 82,
     "metadata": {},
     "output_type": "execute_result"
    }
   ],
   "source": [
    "# data.isna()  # 각 값의 null 여부 확인\n",
    "\n",
    "data.isna().sum()  # null 여부 확인 True는 1, False 는 0 로 계산"
   ]
  },
  {
   "cell_type": "code",
   "execution_count": 83,
   "id": "4d1fc26c",
   "metadata": {},
   "outputs": [
    {
     "name": "stderr",
     "output_type": "stream",
     "text": [
      "/tmp/ipykernel_30/1784725563.py:1: FutureWarning: Dropping of nuisance columns in DataFrame reductions (with 'numeric_only=None') is deprecated; in a future version this will raise TypeError.  Select only valid columns before calling the reduction.\n",
      "  data.sum()\n",
      "/tmp/ipykernel_30/1784725563.py:2: FutureWarning: Dropping of nuisance columns in DataFrame reductions (with 'numeric_only=None') is deprecated; in a future version this will raise TypeError.  Select only valid columns before calling the reduction.\n",
      "  data.mean()\n"
     ]
    },
    {
     "data": {
      "text/plain": [
       "Pclass       2.311791\n",
       "Age         29.718037\n",
       "SibSp        0.520408\n",
       "Parch        0.375283\n",
       "Survived     0.377551\n",
       "dtype: float64"
      ]
     },
     "execution_count": 83,
     "metadata": {},
     "output_type": "execute_result"
    }
   ],
   "source": [
    "data.sum()\n",
    "data.mean()"
   ]
  },
  {
   "cell_type": "code",
   "execution_count": 84,
   "id": "49f5bb33",
   "metadata": {},
   "outputs": [
    {
     "data": {
      "text/plain": [
       "Pclass         0.000000\n",
       "Gendr          0.000000\n",
       "Age            0.006803\n",
       "SibSp          0.000000\n",
       "Parch          0.000000\n",
       "Ticket         0.000000\n",
       "Embarked       0.002268\n",
       "Survived       0.000000\n",
       "ticket_date    0.000000\n",
       "dtype: float64"
      ]
     },
     "execution_count": 84,
     "metadata": {},
     "output_type": "execute_result"
    }
   ],
   "source": [
    "data.isna().mean()  # 전체 데이터 중 몇 % 가 null 인가"
   ]
  },
  {
   "cell_type": "code",
   "execution_count": 85,
   "id": "5d858ea1",
   "metadata": {},
   "outputs": [],
   "source": [
    "#data['Age'].isna()\n",
    "\n",
    "data [  data['Age'].isna() ]  ## 데이터가 null인 행만 출력\n",
    "\n",
    "age_na_index = data [  data['Age'].isna() ].index  ## 데이터가 null인 행번호 Int64Index([3, 106, 156, 185, 213, 241], dtype='int64')"
   ]
  },
  {
   "cell_type": "code",
   "execution_count": 86,
   "id": "406cfb92",
   "metadata": {},
   "outputs": [
    {
     "data": {
      "text/plain": [
       "Int64Index([3, 106, 156, 185, 213, 241], dtype='int64')"
      ]
     },
     "execution_count": 86,
     "metadata": {},
     "output_type": "execute_result"
    }
   ],
   "source": [
    "age_na_index"
   ]
  },
  {
   "cell_type": "code",
   "execution_count": 87,
   "id": "56c2c767",
   "metadata": {},
   "outputs": [],
   "source": [
    "embarked_na_index = data [  data['Embarked'].isna() ].index"
   ]
  },
  {
   "cell_type": "code",
   "execution_count": 88,
   "id": "85ceadc6",
   "metadata": {},
   "outputs": [
    {
     "data": {
      "text/html": [
       "<div>\n",
       "<style scoped>\n",
       "    .dataframe tbody tr th:only-of-type {\n",
       "        vertical-align: middle;\n",
       "    }\n",
       "\n",
       "    .dataframe tbody tr th {\n",
       "        vertical-align: top;\n",
       "    }\n",
       "\n",
       "    .dataframe thead th {\n",
       "        text-align: right;\n",
       "    }\n",
       "</style>\n",
       "<table border=\"1\" class=\"dataframe\">\n",
       "  <thead>\n",
       "    <tr style=\"text-align: right;\">\n",
       "      <th></th>\n",
       "      <th>Pclass</th>\n",
       "      <th>Gendr</th>\n",
       "      <th>Age</th>\n",
       "      <th>SibSp</th>\n",
       "      <th>Parch</th>\n",
       "      <th>Ticket</th>\n",
       "      <th>Embarked</th>\n",
       "      <th>Survived</th>\n",
       "      <th>ticket_date</th>\n",
       "    </tr>\n",
       "  </thead>\n",
       "  <tbody>\n",
       "    <tr>\n",
       "      <th>15</th>\n",
       "      <td>2</td>\n",
       "      <td>female</td>\n",
       "      <td>55.0</td>\n",
       "      <td>0</td>\n",
       "      <td>0</td>\n",
       "      <td>248706</td>\n",
       "      <td>NaN</td>\n",
       "      <td>1</td>\n",
       "      <td>1912-03-05</td>\n",
       "    </tr>\n",
       "    <tr>\n",
       "      <th>322</th>\n",
       "      <td>3</td>\n",
       "      <td>male</td>\n",
       "      <td>28.0</td>\n",
       "      <td>8</td>\n",
       "      <td>2</td>\n",
       "      <td>CA. 2343</td>\n",
       "      <td>NaN</td>\n",
       "      <td>0</td>\n",
       "      <td>1912-03-26</td>\n",
       "    </tr>\n",
       "  </tbody>\n",
       "</table>\n",
       "</div>"
      ],
      "text/plain": [
       "     Pclass   Gendr   Age  SibSp  Parch    Ticket Embarked  Survived  \\\n",
       "15        2  female  55.0      0      0    248706      NaN         1   \n",
       "322       3    male  28.0      8      2  CA. 2343      NaN         0   \n",
       "\n",
       "    ticket_date  \n",
       "15   1912-03-05  \n",
       "322  1912-03-26  "
      ]
     },
     "execution_count": 88,
     "metadata": {},
     "output_type": "execute_result"
    }
   ],
   "source": [
    "embarked_na_index\n",
    "\n",
    "data.loc[embarked_na_index]"
   ]
  },
  {
   "cell_type": "code",
   "execution_count": 89,
   "id": "529793f7",
   "metadata": {},
   "outputs": [],
   "source": [
    "####### null 처리 "
   ]
  },
  {
   "cell_type": "code",
   "execution_count": 90,
   "id": "3a91f2b2",
   "metadata": {},
   "outputs": [
    {
     "data": {
      "text/plain": [
       "882"
      ]
     },
     "execution_count": 90,
     "metadata": {},
     "output_type": "execute_result"
    }
   ],
   "source": [
    "len(data)"
   ]
  },
  {
   "cell_type": "code",
   "execution_count": 91,
   "id": "a42aa890",
   "metadata": {},
   "outputs": [
    {
     "data": {
      "text/html": [
       "<div>\n",
       "<style scoped>\n",
       "    .dataframe tbody tr th:only-of-type {\n",
       "        vertical-align: middle;\n",
       "    }\n",
       "\n",
       "    .dataframe tbody tr th {\n",
       "        vertical-align: top;\n",
       "    }\n",
       "\n",
       "    .dataframe thead th {\n",
       "        text-align: right;\n",
       "    }\n",
       "</style>\n",
       "<table border=\"1\" class=\"dataframe\">\n",
       "  <thead>\n",
       "    <tr style=\"text-align: right;\">\n",
       "      <th></th>\n",
       "      <th>Pclass</th>\n",
       "      <th>Gendr</th>\n",
       "      <th>Age</th>\n",
       "      <th>SibSp</th>\n",
       "      <th>Parch</th>\n",
       "      <th>Ticket</th>\n",
       "      <th>Embarked</th>\n",
       "      <th>Survived</th>\n",
       "      <th>ticket_date</th>\n",
       "    </tr>\n",
       "  </thead>\n",
       "  <tbody>\n",
       "    <tr>\n",
       "      <th>0</th>\n",
       "      <td>3</td>\n",
       "      <td>male</td>\n",
       "      <td>22.0</td>\n",
       "      <td>1</td>\n",
       "      <td>0</td>\n",
       "      <td>A/5 21171</td>\n",
       "      <td>S</td>\n",
       "      <td>0</td>\n",
       "      <td>1912-01-12</td>\n",
       "    </tr>\n",
       "    <tr>\n",
       "      <th>1</th>\n",
       "      <td>1</td>\n",
       "      <td>female</td>\n",
       "      <td>38.0</td>\n",
       "      <td>1</td>\n",
       "      <td>0</td>\n",
       "      <td>PC 17599</td>\n",
       "      <td>C</td>\n",
       "      <td>1</td>\n",
       "      <td>1912-03-29</td>\n",
       "    </tr>\n",
       "    <tr>\n",
       "      <th>2</th>\n",
       "      <td>3</td>\n",
       "      <td>female</td>\n",
       "      <td>26.0</td>\n",
       "      <td>0</td>\n",
       "      <td>0</td>\n",
       "      <td>STON/O2. 3101282</td>\n",
       "      <td>S</td>\n",
       "      <td>1</td>\n",
       "      <td>1912-02-23</td>\n",
       "    </tr>\n",
       "    <tr>\n",
       "      <th>4</th>\n",
       "      <td>3</td>\n",
       "      <td>male</td>\n",
       "      <td>35.0</td>\n",
       "      <td>0</td>\n",
       "      <td>0</td>\n",
       "      <td>373450</td>\n",
       "      <td>S</td>\n",
       "      <td>0</td>\n",
       "      <td>1912-04-03</td>\n",
       "    </tr>\n",
       "    <tr>\n",
       "      <th>5</th>\n",
       "      <td>3</td>\n",
       "      <td>male</td>\n",
       "      <td>28.0</td>\n",
       "      <td>0</td>\n",
       "      <td>0</td>\n",
       "      <td>330877</td>\n",
       "      <td>Q</td>\n",
       "      <td>0</td>\n",
       "      <td>1912-03-30</td>\n",
       "    </tr>\n",
       "    <tr>\n",
       "      <th>...</th>\n",
       "      <td>...</td>\n",
       "      <td>...</td>\n",
       "      <td>...</td>\n",
       "      <td>...</td>\n",
       "      <td>...</td>\n",
       "      <td>...</td>\n",
       "      <td>...</td>\n",
       "      <td>...</td>\n",
       "      <td>...</td>\n",
       "    </tr>\n",
       "    <tr>\n",
       "      <th>880</th>\n",
       "      <td>2</td>\n",
       "      <td>male</td>\n",
       "      <td>27.0</td>\n",
       "      <td>0</td>\n",
       "      <td>0</td>\n",
       "      <td>211536</td>\n",
       "      <td>S</td>\n",
       "      <td>0</td>\n",
       "      <td>1912-01-29</td>\n",
       "    </tr>\n",
       "    <tr>\n",
       "      <th>881</th>\n",
       "      <td>1</td>\n",
       "      <td>female</td>\n",
       "      <td>19.0</td>\n",
       "      <td>0</td>\n",
       "      <td>0</td>\n",
       "      <td>112053</td>\n",
       "      <td>S</td>\n",
       "      <td>1</td>\n",
       "      <td>1912-03-30</td>\n",
       "    </tr>\n",
       "    <tr>\n",
       "      <th>882</th>\n",
       "      <td>3</td>\n",
       "      <td>female</td>\n",
       "      <td>28.0</td>\n",
       "      <td>1</td>\n",
       "      <td>2</td>\n",
       "      <td>W./C. 6607</td>\n",
       "      <td>S</td>\n",
       "      <td>0</td>\n",
       "      <td>1912-04-07</td>\n",
       "    </tr>\n",
       "    <tr>\n",
       "      <th>883</th>\n",
       "      <td>1</td>\n",
       "      <td>male</td>\n",
       "      <td>26.0</td>\n",
       "      <td>0</td>\n",
       "      <td>0</td>\n",
       "      <td>111369</td>\n",
       "      <td>C</td>\n",
       "      <td>1</td>\n",
       "      <td>1912-03-01</td>\n",
       "    </tr>\n",
       "    <tr>\n",
       "      <th>884</th>\n",
       "      <td>3</td>\n",
       "      <td>male</td>\n",
       "      <td>32.0</td>\n",
       "      <td>0</td>\n",
       "      <td>0</td>\n",
       "      <td>370376</td>\n",
       "      <td>Q</td>\n",
       "      <td>0</td>\n",
       "      <td>1912-03-05</td>\n",
       "    </tr>\n",
       "  </tbody>\n",
       "</table>\n",
       "<p>874 rows × 9 columns</p>\n",
       "</div>"
      ],
      "text/plain": [
       "     Pclass   Gendr   Age  SibSp  Parch            Ticket Embarked  Survived  \\\n",
       "0         3    male  22.0      1      0         A/5 21171        S         0   \n",
       "1         1  female  38.0      1      0          PC 17599        C         1   \n",
       "2         3  female  26.0      0      0  STON/O2. 3101282        S         1   \n",
       "4         3    male  35.0      0      0            373450        S         0   \n",
       "5         3    male  28.0      0      0            330877        Q         0   \n",
       "..      ...     ...   ...    ...    ...               ...      ...       ...   \n",
       "880       2    male  27.0      0      0            211536        S         0   \n",
       "881       1  female  19.0      0      0            112053        S         1   \n",
       "882       3  female  28.0      1      2        W./C. 6607        S         0   \n",
       "883       1    male  26.0      0      0            111369        C         1   \n",
       "884       3    male  32.0      0      0            370376        Q         0   \n",
       "\n",
       "    ticket_date  \n",
       "0    1912-01-12  \n",
       "1    1912-03-29  \n",
       "2    1912-02-23  \n",
       "4    1912-04-03  \n",
       "5    1912-03-30  \n",
       "..          ...  \n",
       "880  1912-01-29  \n",
       "881  1912-03-30  \n",
       "882  1912-04-07  \n",
       "883  1912-03-01  \n",
       "884  1912-03-05  \n",
       "\n",
       "[874 rows x 9 columns]"
      ]
     },
     "execution_count": 91,
     "metadata": {},
     "output_type": "execute_result"
    }
   ],
   "source": [
    "data.dropna() ## null 삭제"
   ]
  },
  {
   "cell_type": "code",
   "execution_count": 92,
   "id": "99ec3ab7",
   "metadata": {
    "scrolled": true
   },
   "outputs": [
    {
     "data": {
      "text/html": [
       "<div>\n",
       "<style scoped>\n",
       "    .dataframe tbody tr th:only-of-type {\n",
       "        vertical-align: middle;\n",
       "    }\n",
       "\n",
       "    .dataframe tbody tr th {\n",
       "        vertical-align: top;\n",
       "    }\n",
       "\n",
       "    .dataframe thead th {\n",
       "        text-align: right;\n",
       "    }\n",
       "</style>\n",
       "<table border=\"1\" class=\"dataframe\">\n",
       "  <thead>\n",
       "    <tr style=\"text-align: right;\">\n",
       "      <th></th>\n",
       "      <th>Pclass</th>\n",
       "      <th>Gendr</th>\n",
       "      <th>Age</th>\n",
       "      <th>SibSp</th>\n",
       "      <th>Parch</th>\n",
       "      <th>Ticket</th>\n",
       "      <th>Embarked</th>\n",
       "      <th>Survived</th>\n",
       "      <th>ticket_date</th>\n",
       "    </tr>\n",
       "  </thead>\n",
       "  <tbody>\n",
       "    <tr>\n",
       "      <th>0</th>\n",
       "      <td>3</td>\n",
       "      <td>male</td>\n",
       "      <td>22.0</td>\n",
       "      <td>1</td>\n",
       "      <td>0</td>\n",
       "      <td>A/5 21171</td>\n",
       "      <td>S</td>\n",
       "      <td>0</td>\n",
       "      <td>1912-01-12</td>\n",
       "    </tr>\n",
       "    <tr>\n",
       "      <th>1</th>\n",
       "      <td>1</td>\n",
       "      <td>female</td>\n",
       "      <td>38.0</td>\n",
       "      <td>1</td>\n",
       "      <td>0</td>\n",
       "      <td>PC 17599</td>\n",
       "      <td>C</td>\n",
       "      <td>1</td>\n",
       "      <td>1912-03-29</td>\n",
       "    </tr>\n",
       "    <tr>\n",
       "      <th>2</th>\n",
       "      <td>3</td>\n",
       "      <td>female</td>\n",
       "      <td>26.0</td>\n",
       "      <td>0</td>\n",
       "      <td>0</td>\n",
       "      <td>STON/O2. 3101282</td>\n",
       "      <td>S</td>\n",
       "      <td>1</td>\n",
       "      <td>1912-02-23</td>\n",
       "    </tr>\n",
       "    <tr>\n",
       "      <th>3</th>\n",
       "      <td>1</td>\n",
       "      <td>female</td>\n",
       "      <td>NaN</td>\n",
       "      <td>1</td>\n",
       "      <td>0</td>\n",
       "      <td>113803</td>\n",
       "      <td>S</td>\n",
       "      <td>1</td>\n",
       "      <td>1912-03-28</td>\n",
       "    </tr>\n",
       "    <tr>\n",
       "      <th>4</th>\n",
       "      <td>3</td>\n",
       "      <td>male</td>\n",
       "      <td>35.0</td>\n",
       "      <td>0</td>\n",
       "      <td>0</td>\n",
       "      <td>373450</td>\n",
       "      <td>S</td>\n",
       "      <td>0</td>\n",
       "      <td>1912-04-03</td>\n",
       "    </tr>\n",
       "    <tr>\n",
       "      <th>...</th>\n",
       "      <td>...</td>\n",
       "      <td>...</td>\n",
       "      <td>...</td>\n",
       "      <td>...</td>\n",
       "      <td>...</td>\n",
       "      <td>...</td>\n",
       "      <td>...</td>\n",
       "      <td>...</td>\n",
       "      <td>...</td>\n",
       "    </tr>\n",
       "    <tr>\n",
       "      <th>880</th>\n",
       "      <td>2</td>\n",
       "      <td>male</td>\n",
       "      <td>27.0</td>\n",
       "      <td>0</td>\n",
       "      <td>0</td>\n",
       "      <td>211536</td>\n",
       "      <td>S</td>\n",
       "      <td>0</td>\n",
       "      <td>1912-01-29</td>\n",
       "    </tr>\n",
       "    <tr>\n",
       "      <th>881</th>\n",
       "      <td>1</td>\n",
       "      <td>female</td>\n",
       "      <td>19.0</td>\n",
       "      <td>0</td>\n",
       "      <td>0</td>\n",
       "      <td>112053</td>\n",
       "      <td>S</td>\n",
       "      <td>1</td>\n",
       "      <td>1912-03-30</td>\n",
       "    </tr>\n",
       "    <tr>\n",
       "      <th>882</th>\n",
       "      <td>3</td>\n",
       "      <td>female</td>\n",
       "      <td>28.0</td>\n",
       "      <td>1</td>\n",
       "      <td>2</td>\n",
       "      <td>W./C. 6607</td>\n",
       "      <td>S</td>\n",
       "      <td>0</td>\n",
       "      <td>1912-04-07</td>\n",
       "    </tr>\n",
       "    <tr>\n",
       "      <th>883</th>\n",
       "      <td>1</td>\n",
       "      <td>male</td>\n",
       "      <td>26.0</td>\n",
       "      <td>0</td>\n",
       "      <td>0</td>\n",
       "      <td>111369</td>\n",
       "      <td>C</td>\n",
       "      <td>1</td>\n",
       "      <td>1912-03-01</td>\n",
       "    </tr>\n",
       "    <tr>\n",
       "      <th>884</th>\n",
       "      <td>3</td>\n",
       "      <td>male</td>\n",
       "      <td>32.0</td>\n",
       "      <td>0</td>\n",
       "      <td>0</td>\n",
       "      <td>370376</td>\n",
       "      <td>Q</td>\n",
       "      <td>0</td>\n",
       "      <td>1912-03-05</td>\n",
       "    </tr>\n",
       "  </tbody>\n",
       "</table>\n",
       "<p>880 rows × 9 columns</p>\n",
       "</div>"
      ],
      "text/plain": [
       "     Pclass   Gendr   Age  SibSp  Parch            Ticket Embarked  Survived  \\\n",
       "0         3    male  22.0      1      0         A/5 21171        S         0   \n",
       "1         1  female  38.0      1      0          PC 17599        C         1   \n",
       "2         3  female  26.0      0      0  STON/O2. 3101282        S         1   \n",
       "3         1  female   NaN      1      0            113803        S         1   \n",
       "4         3    male  35.0      0      0            373450        S         0   \n",
       "..      ...     ...   ...    ...    ...               ...      ...       ...   \n",
       "880       2    male  27.0      0      0            211536        S         0   \n",
       "881       1  female  19.0      0      0            112053        S         1   \n",
       "882       3  female  28.0      1      2        W./C. 6607        S         0   \n",
       "883       1    male  26.0      0      0            111369        C         1   \n",
       "884       3    male  32.0      0      0            370376        Q         0   \n",
       "\n",
       "    ticket_date  \n",
       "0    1912-01-12  \n",
       "1    1912-03-29  \n",
       "2    1912-02-23  \n",
       "3    1912-03-28  \n",
       "4    1912-04-03  \n",
       "..          ...  \n",
       "880  1912-01-29  \n",
       "881  1912-03-30  \n",
       "882  1912-04-07  \n",
       "883  1912-03-01  \n",
       "884  1912-03-05  \n",
       "\n",
       "[880 rows x 9 columns]"
      ]
     },
     "execution_count": 92,
     "metadata": {},
     "output_type": "execute_result"
    }
   ],
   "source": [
    "## 특정 컬럼의 null 만 제거 . 컬럼명 리스트 형태로 줄 것\n",
    "data.dropna( subset = ['Embarked']) ## 2개 이상 넣을 수 있지. 리스트니까. but 데이터가 적으면 함부로 지우지 말고 활용 하라네."
   ]
  },
  {
   "cell_type": "code",
   "execution_count": 93,
   "id": "c33f71a6",
   "metadata": {},
   "outputs": [
    {
     "data": {
      "text/plain": [
       "29.718036529680365"
      ]
     },
     "execution_count": 93,
     "metadata": {},
     "output_type": "execute_result"
    }
   ],
   "source": [
    "data['Age'].mean() # 평균"
   ]
  },
  {
   "cell_type": "code",
   "execution_count": 94,
   "id": "3b3480ea",
   "metadata": {},
   "outputs": [
    {
     "data": {
      "text/plain": [
       "28.0"
      ]
     },
     "execution_count": 94,
     "metadata": {},
     "output_type": "execute_result"
    }
   ],
   "source": [
    "data['Age'].median() # 중앙값 메디안."
   ]
  },
  {
   "cell_type": "code",
   "execution_count": 95,
   "id": "af0f85d6",
   "metadata": {},
   "outputs": [
    {
     "data": {
      "text/html": [
       "<div>\n",
       "<style scoped>\n",
       "    .dataframe tbody tr th:only-of-type {\n",
       "        vertical-align: middle;\n",
       "    }\n",
       "\n",
       "    .dataframe tbody tr th {\n",
       "        vertical-align: top;\n",
       "    }\n",
       "\n",
       "    .dataframe thead th {\n",
       "        text-align: right;\n",
       "    }\n",
       "</style>\n",
       "<table border=\"1\" class=\"dataframe\">\n",
       "  <thead>\n",
       "    <tr style=\"text-align: right;\">\n",
       "      <th></th>\n",
       "      <th>Pclass</th>\n",
       "      <th>Gendr</th>\n",
       "      <th>Age</th>\n",
       "      <th>SibSp</th>\n",
       "      <th>Parch</th>\n",
       "      <th>Ticket</th>\n",
       "      <th>Embarked</th>\n",
       "      <th>Survived</th>\n",
       "      <th>ticket_date</th>\n",
       "    </tr>\n",
       "  </thead>\n",
       "  <tbody>\n",
       "    <tr>\n",
       "      <th>0</th>\n",
       "      <td>3</td>\n",
       "      <td>male</td>\n",
       "      <td>22.0</td>\n",
       "      <td>1</td>\n",
       "      <td>0</td>\n",
       "      <td>A/5 21171</td>\n",
       "      <td>S</td>\n",
       "      <td>0</td>\n",
       "      <td>1912-01-12</td>\n",
       "    </tr>\n",
       "    <tr>\n",
       "      <th>1</th>\n",
       "      <td>1</td>\n",
       "      <td>female</td>\n",
       "      <td>38.0</td>\n",
       "      <td>1</td>\n",
       "      <td>0</td>\n",
       "      <td>PC 17599</td>\n",
       "      <td>C</td>\n",
       "      <td>1</td>\n",
       "      <td>1912-03-29</td>\n",
       "    </tr>\n",
       "    <tr>\n",
       "      <th>2</th>\n",
       "      <td>3</td>\n",
       "      <td>female</td>\n",
       "      <td>26.0</td>\n",
       "      <td>0</td>\n",
       "      <td>0</td>\n",
       "      <td>STON/O2. 3101282</td>\n",
       "      <td>S</td>\n",
       "      <td>1</td>\n",
       "      <td>1912-02-23</td>\n",
       "    </tr>\n",
       "    <tr>\n",
       "      <th>3</th>\n",
       "      <td>1</td>\n",
       "      <td>female</td>\n",
       "      <td>28.0</td>\n",
       "      <td>1</td>\n",
       "      <td>0</td>\n",
       "      <td>113803</td>\n",
       "      <td>S</td>\n",
       "      <td>1</td>\n",
       "      <td>1912-03-28</td>\n",
       "    </tr>\n",
       "    <tr>\n",
       "      <th>4</th>\n",
       "      <td>3</td>\n",
       "      <td>male</td>\n",
       "      <td>35.0</td>\n",
       "      <td>0</td>\n",
       "      <td>0</td>\n",
       "      <td>373450</td>\n",
       "      <td>S</td>\n",
       "      <td>0</td>\n",
       "      <td>1912-04-03</td>\n",
       "    </tr>\n",
       "    <tr>\n",
       "      <th>...</th>\n",
       "      <td>...</td>\n",
       "      <td>...</td>\n",
       "      <td>...</td>\n",
       "      <td>...</td>\n",
       "      <td>...</td>\n",
       "      <td>...</td>\n",
       "      <td>...</td>\n",
       "      <td>...</td>\n",
       "      <td>...</td>\n",
       "    </tr>\n",
       "    <tr>\n",
       "      <th>880</th>\n",
       "      <td>2</td>\n",
       "      <td>male</td>\n",
       "      <td>27.0</td>\n",
       "      <td>0</td>\n",
       "      <td>0</td>\n",
       "      <td>211536</td>\n",
       "      <td>S</td>\n",
       "      <td>0</td>\n",
       "      <td>1912-01-29</td>\n",
       "    </tr>\n",
       "    <tr>\n",
       "      <th>881</th>\n",
       "      <td>1</td>\n",
       "      <td>female</td>\n",
       "      <td>19.0</td>\n",
       "      <td>0</td>\n",
       "      <td>0</td>\n",
       "      <td>112053</td>\n",
       "      <td>S</td>\n",
       "      <td>1</td>\n",
       "      <td>1912-03-30</td>\n",
       "    </tr>\n",
       "    <tr>\n",
       "      <th>882</th>\n",
       "      <td>3</td>\n",
       "      <td>female</td>\n",
       "      <td>28.0</td>\n",
       "      <td>1</td>\n",
       "      <td>2</td>\n",
       "      <td>W./C. 6607</td>\n",
       "      <td>S</td>\n",
       "      <td>0</td>\n",
       "      <td>1912-04-07</td>\n",
       "    </tr>\n",
       "    <tr>\n",
       "      <th>883</th>\n",
       "      <td>1</td>\n",
       "      <td>male</td>\n",
       "      <td>26.0</td>\n",
       "      <td>0</td>\n",
       "      <td>0</td>\n",
       "      <td>111369</td>\n",
       "      <td>C</td>\n",
       "      <td>1</td>\n",
       "      <td>1912-03-01</td>\n",
       "    </tr>\n",
       "    <tr>\n",
       "      <th>884</th>\n",
       "      <td>3</td>\n",
       "      <td>male</td>\n",
       "      <td>32.0</td>\n",
       "      <td>0</td>\n",
       "      <td>0</td>\n",
       "      <td>370376</td>\n",
       "      <td>Q</td>\n",
       "      <td>0</td>\n",
       "      <td>1912-03-05</td>\n",
       "    </tr>\n",
       "  </tbody>\n",
       "</table>\n",
       "<p>882 rows × 9 columns</p>\n",
       "</div>"
      ],
      "text/plain": [
       "     Pclass   Gendr   Age  SibSp  Parch            Ticket Embarked  Survived  \\\n",
       "0         3    male  22.0      1      0         A/5 21171        S         0   \n",
       "1         1  female  38.0      1      0          PC 17599        C         1   \n",
       "2         3  female  26.0      0      0  STON/O2. 3101282        S         1   \n",
       "3         1  female  28.0      1      0            113803        S         1   \n",
       "4         3    male  35.0      0      0            373450        S         0   \n",
       "..      ...     ...   ...    ...    ...               ...      ...       ...   \n",
       "880       2    male  27.0      0      0            211536        S         0   \n",
       "881       1  female  19.0      0      0            112053        S         1   \n",
       "882       3  female  28.0      1      2        W./C. 6607        S         0   \n",
       "883       1    male  26.0      0      0            111369        C         1   \n",
       "884       3    male  32.0      0      0            370376        Q         0   \n",
       "\n",
       "    ticket_date  \n",
       "0    1912-01-12  \n",
       "1    1912-03-29  \n",
       "2    1912-02-23  \n",
       "3    1912-03-28  \n",
       "4    1912-04-03  \n",
       "..          ...  \n",
       "880  1912-01-29  \n",
       "881  1912-03-30  \n",
       "882  1912-04-07  \n",
       "883  1912-03-01  \n",
       "884  1912-03-05  \n",
       "\n",
       "[882 rows x 9 columns]"
      ]
     },
     "execution_count": 95,
     "metadata": {},
     "output_type": "execute_result"
    }
   ],
   "source": [
    "## null 채우기\n",
    "\n",
    "data.fillna(28) #  메디안으로 대체"
   ]
  },
  {
   "cell_type": "code",
   "execution_count": 96,
   "id": "57188eda",
   "metadata": {},
   "outputs": [
    {
     "data": {
      "text/plain": [
       "0      22.0\n",
       "1      38.0\n",
       "2      26.0\n",
       "3      30.0\n",
       "4      35.0\n",
       "       ... \n",
       "880    27.0\n",
       "881    19.0\n",
       "882    28.0\n",
       "883    26.0\n",
       "884    32.0\n",
       "Name: Age, Length: 882, dtype: float64"
      ]
     },
     "execution_count": 96,
     "metadata": {},
     "output_type": "execute_result"
    }
   ],
   "source": [
    "data['Age'].fillna(30)  ## 특정 컬럼에만 null fill적용     평균보다 메디안을 대체값으로 쓰는 것을 권고. 이상치 ( 아웃라이어 때문 )"
   ]
  },
  {
   "cell_type": "code",
   "execution_count": 97,
   "id": "6be71bf8",
   "metadata": {},
   "outputs": [],
   "source": [
    "data['Age'] = data['Age'].fillna( data['Age'].median() )  ## 메디안값 넣어 주기"
   ]
  },
  {
   "cell_type": "code",
   "execution_count": 98,
   "id": "2a305c81",
   "metadata": {},
   "outputs": [
    {
     "data": {
      "text/html": [
       "<div>\n",
       "<style scoped>\n",
       "    .dataframe tbody tr th:only-of-type {\n",
       "        vertical-align: middle;\n",
       "    }\n",
       "\n",
       "    .dataframe tbody tr th {\n",
       "        vertical-align: top;\n",
       "    }\n",
       "\n",
       "    .dataframe thead th {\n",
       "        text-align: right;\n",
       "    }\n",
       "</style>\n",
       "<table border=\"1\" class=\"dataframe\">\n",
       "  <thead>\n",
       "    <tr style=\"text-align: right;\">\n",
       "      <th></th>\n",
       "      <th>Pclass</th>\n",
       "      <th>Gendr</th>\n",
       "      <th>Age</th>\n",
       "      <th>SibSp</th>\n",
       "      <th>Parch</th>\n",
       "      <th>Ticket</th>\n",
       "      <th>Embarked</th>\n",
       "      <th>Survived</th>\n",
       "      <th>ticket_date</th>\n",
       "    </tr>\n",
       "  </thead>\n",
       "  <tbody>\n",
       "    <tr>\n",
       "      <th>0</th>\n",
       "      <td>3</td>\n",
       "      <td>male</td>\n",
       "      <td>22.0</td>\n",
       "      <td>1</td>\n",
       "      <td>0</td>\n",
       "      <td>A/5 21171</td>\n",
       "      <td>S</td>\n",
       "      <td>0</td>\n",
       "      <td>1912-01-12</td>\n",
       "    </tr>\n",
       "    <tr>\n",
       "      <th>1</th>\n",
       "      <td>1</td>\n",
       "      <td>female</td>\n",
       "      <td>38.0</td>\n",
       "      <td>1</td>\n",
       "      <td>0</td>\n",
       "      <td>PC 17599</td>\n",
       "      <td>C</td>\n",
       "      <td>1</td>\n",
       "      <td>1912-03-29</td>\n",
       "    </tr>\n",
       "    <tr>\n",
       "      <th>2</th>\n",
       "      <td>3</td>\n",
       "      <td>female</td>\n",
       "      <td>26.0</td>\n",
       "      <td>0</td>\n",
       "      <td>0</td>\n",
       "      <td>STON/O2. 3101282</td>\n",
       "      <td>S</td>\n",
       "      <td>1</td>\n",
       "      <td>1912-02-23</td>\n",
       "    </tr>\n",
       "    <tr>\n",
       "      <th>3</th>\n",
       "      <td>1</td>\n",
       "      <td>female</td>\n",
       "      <td>28.0</td>\n",
       "      <td>1</td>\n",
       "      <td>0</td>\n",
       "      <td>113803</td>\n",
       "      <td>S</td>\n",
       "      <td>1</td>\n",
       "      <td>1912-03-28</td>\n",
       "    </tr>\n",
       "    <tr>\n",
       "      <th>4</th>\n",
       "      <td>3</td>\n",
       "      <td>male</td>\n",
       "      <td>35.0</td>\n",
       "      <td>0</td>\n",
       "      <td>0</td>\n",
       "      <td>373450</td>\n",
       "      <td>S</td>\n",
       "      <td>0</td>\n",
       "      <td>1912-04-03</td>\n",
       "    </tr>\n",
       "    <tr>\n",
       "      <th>...</th>\n",
       "      <td>...</td>\n",
       "      <td>...</td>\n",
       "      <td>...</td>\n",
       "      <td>...</td>\n",
       "      <td>...</td>\n",
       "      <td>...</td>\n",
       "      <td>...</td>\n",
       "      <td>...</td>\n",
       "      <td>...</td>\n",
       "    </tr>\n",
       "    <tr>\n",
       "      <th>880</th>\n",
       "      <td>2</td>\n",
       "      <td>male</td>\n",
       "      <td>27.0</td>\n",
       "      <td>0</td>\n",
       "      <td>0</td>\n",
       "      <td>211536</td>\n",
       "      <td>S</td>\n",
       "      <td>0</td>\n",
       "      <td>1912-01-29</td>\n",
       "    </tr>\n",
       "    <tr>\n",
       "      <th>881</th>\n",
       "      <td>1</td>\n",
       "      <td>female</td>\n",
       "      <td>19.0</td>\n",
       "      <td>0</td>\n",
       "      <td>0</td>\n",
       "      <td>112053</td>\n",
       "      <td>S</td>\n",
       "      <td>1</td>\n",
       "      <td>1912-03-30</td>\n",
       "    </tr>\n",
       "    <tr>\n",
       "      <th>882</th>\n",
       "      <td>3</td>\n",
       "      <td>female</td>\n",
       "      <td>28.0</td>\n",
       "      <td>1</td>\n",
       "      <td>2</td>\n",
       "      <td>W./C. 6607</td>\n",
       "      <td>S</td>\n",
       "      <td>0</td>\n",
       "      <td>1912-04-07</td>\n",
       "    </tr>\n",
       "    <tr>\n",
       "      <th>883</th>\n",
       "      <td>1</td>\n",
       "      <td>male</td>\n",
       "      <td>26.0</td>\n",
       "      <td>0</td>\n",
       "      <td>0</td>\n",
       "      <td>111369</td>\n",
       "      <td>C</td>\n",
       "      <td>1</td>\n",
       "      <td>1912-03-01</td>\n",
       "    </tr>\n",
       "    <tr>\n",
       "      <th>884</th>\n",
       "      <td>3</td>\n",
       "      <td>male</td>\n",
       "      <td>32.0</td>\n",
       "      <td>0</td>\n",
       "      <td>0</td>\n",
       "      <td>370376</td>\n",
       "      <td>Q</td>\n",
       "      <td>0</td>\n",
       "      <td>1912-03-05</td>\n",
       "    </tr>\n",
       "  </tbody>\n",
       "</table>\n",
       "<p>882 rows × 9 columns</p>\n",
       "</div>"
      ],
      "text/plain": [
       "     Pclass   Gendr   Age  SibSp  Parch            Ticket Embarked  Survived  \\\n",
       "0         3    male  22.0      1      0         A/5 21171        S         0   \n",
       "1         1  female  38.0      1      0          PC 17599        C         1   \n",
       "2         3  female  26.0      0      0  STON/O2. 3101282        S         1   \n",
       "3         1  female  28.0      1      0            113803        S         1   \n",
       "4         3    male  35.0      0      0            373450        S         0   \n",
       "..      ...     ...   ...    ...    ...               ...      ...       ...   \n",
       "880       2    male  27.0      0      0            211536        S         0   \n",
       "881       1  female  19.0      0      0            112053        S         1   \n",
       "882       3  female  28.0      1      2        W./C. 6607        S         0   \n",
       "883       1    male  26.0      0      0            111369        C         1   \n",
       "884       3    male  32.0      0      0            370376        Q         0   \n",
       "\n",
       "    ticket_date  \n",
       "0    1912-01-12  \n",
       "1    1912-03-29  \n",
       "2    1912-02-23  \n",
       "3    1912-03-28  \n",
       "4    1912-04-03  \n",
       "..          ...  \n",
       "880  1912-01-29  \n",
       "881  1912-03-30  \n",
       "882  1912-04-07  \n",
       "883  1912-03-01  \n",
       "884  1912-03-05  \n",
       "\n",
       "[882 rows x 9 columns]"
      ]
     },
     "execution_count": 98,
     "metadata": {},
     "output_type": "execute_result"
    }
   ],
   "source": [
    "data"
   ]
  },
  {
   "cell_type": "code",
   "execution_count": 99,
   "id": "36077ae1",
   "metadata": {},
   "outputs": [
    {
     "data": {
      "text/html": [
       "<div>\n",
       "<style scoped>\n",
       "    .dataframe tbody tr th:only-of-type {\n",
       "        vertical-align: middle;\n",
       "    }\n",
       "\n",
       "    .dataframe tbody tr th {\n",
       "        vertical-align: top;\n",
       "    }\n",
       "\n",
       "    .dataframe thead th {\n",
       "        text-align: right;\n",
       "    }\n",
       "</style>\n",
       "<table border=\"1\" class=\"dataframe\">\n",
       "  <thead>\n",
       "    <tr style=\"text-align: right;\">\n",
       "      <th></th>\n",
       "      <th>Pclass</th>\n",
       "      <th>Gendr</th>\n",
       "      <th>Age</th>\n",
       "      <th>SibSp</th>\n",
       "      <th>Parch</th>\n",
       "      <th>Ticket</th>\n",
       "      <th>Embarked</th>\n",
       "      <th>Survived</th>\n",
       "      <th>ticket_date</th>\n",
       "    </tr>\n",
       "  </thead>\n",
       "  <tbody>\n",
       "    <tr>\n",
       "      <th>3</th>\n",
       "      <td>1</td>\n",
       "      <td>female</td>\n",
       "      <td>28.0</td>\n",
       "      <td>1</td>\n",
       "      <td>0</td>\n",
       "      <td>113803</td>\n",
       "      <td>S</td>\n",
       "      <td>1</td>\n",
       "      <td>1912-03-28</td>\n",
       "    </tr>\n",
       "    <tr>\n",
       "      <th>106</th>\n",
       "      <td>3</td>\n",
       "      <td>male</td>\n",
       "      <td>28.0</td>\n",
       "      <td>0</td>\n",
       "      <td>0</td>\n",
       "      <td>312991</td>\n",
       "      <td>S</td>\n",
       "      <td>1</td>\n",
       "      <td>1912-01-27</td>\n",
       "    </tr>\n",
       "    <tr>\n",
       "      <th>156</th>\n",
       "      <td>3</td>\n",
       "      <td>male</td>\n",
       "      <td>28.0</td>\n",
       "      <td>0</td>\n",
       "      <td>0</td>\n",
       "      <td>SOTON/OQ 392090</td>\n",
       "      <td>S</td>\n",
       "      <td>0</td>\n",
       "      <td>1912-04-01</td>\n",
       "    </tr>\n",
       "    <tr>\n",
       "      <th>185</th>\n",
       "      <td>3</td>\n",
       "      <td>female</td>\n",
       "      <td>28.0</td>\n",
       "      <td>1</td>\n",
       "      <td>0</td>\n",
       "      <td>370365</td>\n",
       "      <td>Q</td>\n",
       "      <td>1</td>\n",
       "      <td>1912-03-25</td>\n",
       "    </tr>\n",
       "    <tr>\n",
       "      <th>213</th>\n",
       "      <td>3</td>\n",
       "      <td>male</td>\n",
       "      <td>28.0</td>\n",
       "      <td>1</td>\n",
       "      <td>0</td>\n",
       "      <td>367229</td>\n",
       "      <td>Q</td>\n",
       "      <td>0</td>\n",
       "      <td>1912-02-12</td>\n",
       "    </tr>\n",
       "    <tr>\n",
       "      <th>241</th>\n",
       "      <td>2</td>\n",
       "      <td>male</td>\n",
       "      <td>28.0</td>\n",
       "      <td>0</td>\n",
       "      <td>0</td>\n",
       "      <td>W./C. 14263</td>\n",
       "      <td>S</td>\n",
       "      <td>0</td>\n",
       "      <td>1912-01-31</td>\n",
       "    </tr>\n",
       "  </tbody>\n",
       "</table>\n",
       "</div>"
      ],
      "text/plain": [
       "     Pclass   Gendr   Age  SibSp  Parch           Ticket Embarked  Survived  \\\n",
       "3         1  female  28.0      1      0           113803        S         1   \n",
       "106       3    male  28.0      0      0           312991        S         1   \n",
       "156       3    male  28.0      0      0  SOTON/OQ 392090        S         0   \n",
       "185       3  female  28.0      1      0           370365        Q         1   \n",
       "213       3    male  28.0      1      0           367229        Q         0   \n",
       "241       2    male  28.0      0      0      W./C. 14263        S         0   \n",
       "\n",
       "    ticket_date  \n",
       "3    1912-03-28  \n",
       "106  1912-01-27  \n",
       "156  1912-04-01  \n",
       "185  1912-03-25  \n",
       "213  1912-02-12  \n",
       "241  1912-01-31  "
      ]
     },
     "execution_count": 99,
     "metadata": {},
     "output_type": "execute_result"
    }
   ],
   "source": [
    "data.loc[age_na_index]"
   ]
  },
  {
   "cell_type": "code",
   "execution_count": 100,
   "id": "90b2b7cf",
   "metadata": {},
   "outputs": [
    {
     "data": {
      "text/plain": [
       "S    638\n",
       "C    165\n",
       "Q     77\n",
       "Name: Embarked, dtype: int64"
      ]
     },
     "execution_count": 100,
     "metadata": {},
     "output_type": "execute_result"
    }
   ],
   "source": [
    "data['Embarked'].value_counts()  ## distinct count"
   ]
  },
  {
   "cell_type": "code",
   "execution_count": 101,
   "id": "94a52d1c",
   "metadata": {},
   "outputs": [
    {
     "data": {
      "text/plain": [
       "0.7231638418079096"
      ]
     },
     "execution_count": 101,
     "metadata": {},
     "output_type": "execute_result"
    }
   ],
   "source": [
    "640/885 # 위 방법 S로 채우기 위한 근거 데이터"
   ]
  },
  {
   "cell_type": "code",
   "execution_count": 102,
   "id": "ac6edccf",
   "metadata": {},
   "outputs": [
    {
     "data": {
      "text/plain": [
       "0      S\n",
       "1      C\n",
       "2      S\n",
       "3      S\n",
       "4      S\n",
       "      ..\n",
       "880    S\n",
       "881    S\n",
       "882    S\n",
       "883    C\n",
       "884    Q\n",
       "Name: Embarked, Length: 882, dtype: object"
      ]
     },
     "execution_count": 102,
     "metadata": {},
     "output_type": "execute_result"
    }
   ],
   "source": [
    "data['Embarked'].fillna('N/A') # 아예 null값임을 문자열로 표시"
   ]
  },
  {
   "cell_type": "code",
   "execution_count": 103,
   "id": "ee035e79",
   "metadata": {},
   "outputs": [],
   "source": [
    "data['Embarked'] = data['Embarked'].fillna('S') # 대부분의 값이 S 이면 null 을 S로 채워주기도. ( code value 일 경우 )"
   ]
  },
  {
   "cell_type": "code",
   "execution_count": 104,
   "id": "06d87255",
   "metadata": {},
   "outputs": [
    {
     "data": {
      "text/html": [
       "<div>\n",
       "<style scoped>\n",
       "    .dataframe tbody tr th:only-of-type {\n",
       "        vertical-align: middle;\n",
       "    }\n",
       "\n",
       "    .dataframe tbody tr th {\n",
       "        vertical-align: top;\n",
       "    }\n",
       "\n",
       "    .dataframe thead th {\n",
       "        text-align: right;\n",
       "    }\n",
       "</style>\n",
       "<table border=\"1\" class=\"dataframe\">\n",
       "  <thead>\n",
       "    <tr style=\"text-align: right;\">\n",
       "      <th></th>\n",
       "      <th>Pclass</th>\n",
       "      <th>Gendr</th>\n",
       "      <th>SibSp</th>\n",
       "      <th>Parch</th>\n",
       "      <th>Ticket</th>\n",
       "      <th>Embarked</th>\n",
       "      <th>Survived</th>\n",
       "      <th>ticket_date</th>\n",
       "    </tr>\n",
       "  </thead>\n",
       "  <tbody>\n",
       "    <tr>\n",
       "      <th>0</th>\n",
       "      <td>3</td>\n",
       "      <td>male</td>\n",
       "      <td>1</td>\n",
       "      <td>0</td>\n",
       "      <td>A/5 21171</td>\n",
       "      <td>S</td>\n",
       "      <td>0</td>\n",
       "      <td>1912-01-12</td>\n",
       "    </tr>\n",
       "    <tr>\n",
       "      <th>1</th>\n",
       "      <td>1</td>\n",
       "      <td>female</td>\n",
       "      <td>1</td>\n",
       "      <td>0</td>\n",
       "      <td>PC 17599</td>\n",
       "      <td>C</td>\n",
       "      <td>1</td>\n",
       "      <td>1912-03-29</td>\n",
       "    </tr>\n",
       "    <tr>\n",
       "      <th>2</th>\n",
       "      <td>3</td>\n",
       "      <td>female</td>\n",
       "      <td>0</td>\n",
       "      <td>0</td>\n",
       "      <td>STON/O2. 3101282</td>\n",
       "      <td>S</td>\n",
       "      <td>1</td>\n",
       "      <td>1912-02-23</td>\n",
       "    </tr>\n",
       "    <tr>\n",
       "      <th>3</th>\n",
       "      <td>1</td>\n",
       "      <td>female</td>\n",
       "      <td>1</td>\n",
       "      <td>0</td>\n",
       "      <td>113803</td>\n",
       "      <td>S</td>\n",
       "      <td>1</td>\n",
       "      <td>1912-03-28</td>\n",
       "    </tr>\n",
       "    <tr>\n",
       "      <th>4</th>\n",
       "      <td>3</td>\n",
       "      <td>male</td>\n",
       "      <td>0</td>\n",
       "      <td>0</td>\n",
       "      <td>373450</td>\n",
       "      <td>S</td>\n",
       "      <td>0</td>\n",
       "      <td>1912-04-03</td>\n",
       "    </tr>\n",
       "    <tr>\n",
       "      <th>...</th>\n",
       "      <td>...</td>\n",
       "      <td>...</td>\n",
       "      <td>...</td>\n",
       "      <td>...</td>\n",
       "      <td>...</td>\n",
       "      <td>...</td>\n",
       "      <td>...</td>\n",
       "      <td>...</td>\n",
       "    </tr>\n",
       "    <tr>\n",
       "      <th>880</th>\n",
       "      <td>2</td>\n",
       "      <td>male</td>\n",
       "      <td>0</td>\n",
       "      <td>0</td>\n",
       "      <td>211536</td>\n",
       "      <td>S</td>\n",
       "      <td>0</td>\n",
       "      <td>1912-01-29</td>\n",
       "    </tr>\n",
       "    <tr>\n",
       "      <th>881</th>\n",
       "      <td>1</td>\n",
       "      <td>female</td>\n",
       "      <td>0</td>\n",
       "      <td>0</td>\n",
       "      <td>112053</td>\n",
       "      <td>S</td>\n",
       "      <td>1</td>\n",
       "      <td>1912-03-30</td>\n",
       "    </tr>\n",
       "    <tr>\n",
       "      <th>882</th>\n",
       "      <td>3</td>\n",
       "      <td>female</td>\n",
       "      <td>1</td>\n",
       "      <td>2</td>\n",
       "      <td>W./C. 6607</td>\n",
       "      <td>S</td>\n",
       "      <td>0</td>\n",
       "      <td>1912-04-07</td>\n",
       "    </tr>\n",
       "    <tr>\n",
       "      <th>883</th>\n",
       "      <td>1</td>\n",
       "      <td>male</td>\n",
       "      <td>0</td>\n",
       "      <td>0</td>\n",
       "      <td>111369</td>\n",
       "      <td>C</td>\n",
       "      <td>1</td>\n",
       "      <td>1912-03-01</td>\n",
       "    </tr>\n",
       "    <tr>\n",
       "      <th>884</th>\n",
       "      <td>3</td>\n",
       "      <td>male</td>\n",
       "      <td>0</td>\n",
       "      <td>0</td>\n",
       "      <td>370376</td>\n",
       "      <td>Q</td>\n",
       "      <td>0</td>\n",
       "      <td>1912-03-05</td>\n",
       "    </tr>\n",
       "  </tbody>\n",
       "</table>\n",
       "<p>882 rows × 8 columns</p>\n",
       "</div>"
      ],
      "text/plain": [
       "     Pclass   Gendr  SibSp  Parch            Ticket Embarked  Survived  \\\n",
       "0         3    male      1      0         A/5 21171        S         0   \n",
       "1         1  female      1      0          PC 17599        C         1   \n",
       "2         3  female      0      0  STON/O2. 3101282        S         1   \n",
       "3         1  female      1      0            113803        S         1   \n",
       "4         3    male      0      0            373450        S         0   \n",
       "..      ...     ...    ...    ...               ...      ...       ...   \n",
       "880       2    male      0      0            211536        S         0   \n",
       "881       1  female      0      0            112053        S         1   \n",
       "882       3  female      1      2        W./C. 6607        S         0   \n",
       "883       1    male      0      0            111369        C         1   \n",
       "884       3    male      0      0            370376        Q         0   \n",
       "\n",
       "    ticket_date  \n",
       "0    1912-01-12  \n",
       "1    1912-03-29  \n",
       "2    1912-02-23  \n",
       "3    1912-03-28  \n",
       "4    1912-04-03  \n",
       "..          ...  \n",
       "880  1912-01-29  \n",
       "881  1912-03-30  \n",
       "882  1912-04-07  \n",
       "883  1912-03-01  \n",
       "884  1912-03-05  \n",
       "\n",
       "[882 rows x 8 columns]"
      ]
     },
     "execution_count": 104,
     "metadata": {},
     "output_type": "execute_result"
    }
   ],
   "source": [
    "# 과한 결측치를( 70% 이상 머 이런) 굳이 클리닝 할 필요는 없음. 의미 없음.\n",
    "### 컬럼 자체를 제외 하는게 좋음.\n",
    "\n",
    "data.drop('Age', axis=1)"
   ]
  },
  {
   "cell_type": "code",
   "execution_count": 105,
   "id": "e42fda5b",
   "metadata": {},
   "outputs": [
    {
     "data": {
      "text/html": [
       "<div>\n",
       "<style scoped>\n",
       "    .dataframe tbody tr th:only-of-type {\n",
       "        vertical-align: middle;\n",
       "    }\n",
       "\n",
       "    .dataframe tbody tr th {\n",
       "        vertical-align: top;\n",
       "    }\n",
       "\n",
       "    .dataframe thead th {\n",
       "        text-align: right;\n",
       "    }\n",
       "</style>\n",
       "<table border=\"1\" class=\"dataframe\">\n",
       "  <thead>\n",
       "    <tr style=\"text-align: right;\">\n",
       "      <th></th>\n",
       "      <th>Pclass</th>\n",
       "      <th>Gendr</th>\n",
       "      <th>Age</th>\n",
       "      <th>SibSp</th>\n",
       "      <th>Parch</th>\n",
       "      <th>Ticket</th>\n",
       "      <th>Embarked</th>\n",
       "      <th>Survived</th>\n",
       "      <th>ticket_date</th>\n",
       "    </tr>\n",
       "  </thead>\n",
       "  <tbody>\n",
       "    <tr>\n",
       "      <th>884</th>\n",
       "      <td>3</td>\n",
       "      <td>male</td>\n",
       "      <td>32.0</td>\n",
       "      <td>0</td>\n",
       "      <td>0</td>\n",
       "      <td>370376</td>\n",
       "      <td>Q</td>\n",
       "      <td>0</td>\n",
       "      <td>1912-03-05</td>\n",
       "    </tr>\n",
       "  </tbody>\n",
       "</table>\n",
       "</div>"
      ],
      "text/plain": [
       "     Pclass Gendr   Age  SibSp  Parch  Ticket Embarked  Survived ticket_date\n",
       "884       3  male  32.0      0      0  370376        Q         0  1912-03-05"
      ]
     },
     "execution_count": 105,
     "metadata": {},
     "output_type": "execute_result"
    }
   ],
   "source": [
    "data.tail(1)"
   ]
  },
  {
   "cell_type": "code",
   "execution_count": 106,
   "id": "91f0a494",
   "metadata": {},
   "outputs": [],
   "source": [
    "########################## 이상치 감지 처리 ################################"
   ]
  },
  {
   "cell_type": "code",
   "execution_count": 107,
   "id": "45440981",
   "metadata": {},
   "outputs": [
    {
     "data": {
      "text/html": [
       "<div>\n",
       "<style scoped>\n",
       "    .dataframe tbody tr th:only-of-type {\n",
       "        vertical-align: middle;\n",
       "    }\n",
       "\n",
       "    .dataframe tbody tr th {\n",
       "        vertical-align: top;\n",
       "    }\n",
       "\n",
       "    .dataframe thead th {\n",
       "        text-align: right;\n",
       "    }\n",
       "</style>\n",
       "<table border=\"1\" class=\"dataframe\">\n",
       "  <thead>\n",
       "    <tr style=\"text-align: right;\">\n",
       "      <th></th>\n",
       "      <th>Pclass</th>\n",
       "      <th>Age</th>\n",
       "      <th>SibSp</th>\n",
       "      <th>Parch</th>\n",
       "      <th>Survived</th>\n",
       "    </tr>\n",
       "  </thead>\n",
       "  <tbody>\n",
       "    <tr>\n",
       "      <th>count</th>\n",
       "      <td>882.000000</td>\n",
       "      <td>882.000000</td>\n",
       "      <td>882.000000</td>\n",
       "      <td>882.000000</td>\n",
       "      <td>882.000000</td>\n",
       "    </tr>\n",
       "    <tr>\n",
       "      <th>mean</th>\n",
       "      <td>2.311791</td>\n",
       "      <td>29.706349</td>\n",
       "      <td>0.520408</td>\n",
       "      <td>0.375283</td>\n",
       "      <td>0.377551</td>\n",
       "    </tr>\n",
       "    <tr>\n",
       "      <th>std</th>\n",
       "      <td>0.835681</td>\n",
       "      <td>13.496645</td>\n",
       "      <td>1.105210</td>\n",
       "      <td>0.804909</td>\n",
       "      <td>0.485049</td>\n",
       "    </tr>\n",
       "    <tr>\n",
       "      <th>min</th>\n",
       "      <td>1.000000</td>\n",
       "      <td>1.000000</td>\n",
       "      <td>0.000000</td>\n",
       "      <td>0.000000</td>\n",
       "      <td>0.000000</td>\n",
       "    </tr>\n",
       "    <tr>\n",
       "      <th>25%</th>\n",
       "      <td>2.000000</td>\n",
       "      <td>22.000000</td>\n",
       "      <td>0.000000</td>\n",
       "      <td>0.000000</td>\n",
       "      <td>0.000000</td>\n",
       "    </tr>\n",
       "    <tr>\n",
       "      <th>50%</th>\n",
       "      <td>3.000000</td>\n",
       "      <td>28.000000</td>\n",
       "      <td>0.000000</td>\n",
       "      <td>0.000000</td>\n",
       "      <td>0.000000</td>\n",
       "    </tr>\n",
       "    <tr>\n",
       "      <th>75%</th>\n",
       "      <td>3.000000</td>\n",
       "      <td>35.000000</td>\n",
       "      <td>1.000000</td>\n",
       "      <td>0.000000</td>\n",
       "      <td>1.000000</td>\n",
       "    </tr>\n",
       "    <tr>\n",
       "      <th>max</th>\n",
       "      <td>3.000000</td>\n",
       "      <td>145.000000</td>\n",
       "      <td>8.000000</td>\n",
       "      <td>6.000000</td>\n",
       "      <td>1.000000</td>\n",
       "    </tr>\n",
       "  </tbody>\n",
       "</table>\n",
       "</div>"
      ],
      "text/plain": [
       "           Pclass         Age       SibSp       Parch    Survived\n",
       "count  882.000000  882.000000  882.000000  882.000000  882.000000\n",
       "mean     2.311791   29.706349    0.520408    0.375283    0.377551\n",
       "std      0.835681   13.496645    1.105210    0.804909    0.485049\n",
       "min      1.000000    1.000000    0.000000    0.000000    0.000000\n",
       "25%      2.000000   22.000000    0.000000    0.000000    0.000000\n",
       "50%      3.000000   28.000000    0.000000    0.000000    0.000000\n",
       "75%      3.000000   35.000000    1.000000    0.000000    1.000000\n",
       "max      3.000000  145.000000    8.000000    6.000000    1.000000"
      ]
     },
     "execution_count": 107,
     "metadata": {},
     "output_type": "execute_result"
    }
   ],
   "source": [
    "data.describe() ##  min max 사이 값. 각 퍼센트 별로 간격차이를 봄 ex> Age 145 "
   ]
  },
  {
   "cell_type": "code",
   "execution_count": 108,
   "id": "9fb32b78",
   "metadata": {},
   "outputs": [],
   "source": [
    "## Age 확인 오름차순, 내림차순 정렬 데이터 확인\n"
   ]
  },
  {
   "cell_type": "code",
   "execution_count": 109,
   "id": "e7410f49",
   "metadata": {},
   "outputs": [
    {
     "data": {
      "text/plain": [
       "321    145.0\n",
       "279     97.0\n",
       "627     80.0\n",
       "845     74.0\n",
       "490     71.0\n",
       "       ...  \n",
       "163      1.0\n",
       "379      1.0\n",
       "182      1.0\n",
       "823      1.0\n",
       "785      1.0\n",
       "Name: Age, Length: 882, dtype: float64"
      ]
     },
     "execution_count": 109,
     "metadata": {},
     "output_type": "execute_result"
    }
   ],
   "source": [
    "data['Age'].sort_values() # 오름차순\n",
    "data['Age'].sort_values(ascending = False) # 내림차순"
   ]
  },
  {
   "cell_type": "code",
   "execution_count": 110,
   "id": "0fa371c9",
   "metadata": {},
   "outputs": [
    {
     "data": {
      "text/plain": [
       "277    4\n",
       "170    4\n",
       "844    4\n",
       "384    5\n",
       "71     5\n",
       "477    5\n",
       "60     5\n",
       "680    5\n",
       "158    8\n",
       "322    8\n",
       "840    8\n",
       "857    8\n",
       "200    8\n",
       "789    8\n",
       "179    8\n",
       "Name: SibSp, dtype: int64"
      ]
     },
     "execution_count": 110,
     "metadata": {},
     "output_type": "execute_result"
    }
   ],
   "source": [
    "data['SibSp'].sort_values().tail(15) # 오름차순 .. 8 이라는 값이 이상치는 아닌 듯.\n",
    "#data['SibSp'].sort_values(ascending = False) # 내림차순"
   ]
  },
  {
   "cell_type": "code",
   "execution_count": 111,
   "id": "ad160f28",
   "metadata": {},
   "outputs": [],
   "source": [
    "## 분포 확인 plot"
   ]
  },
  {
   "cell_type": "code",
   "execution_count": 112,
   "id": "a2332dbd",
   "metadata": {},
   "outputs": [],
   "source": [
    "import matplotlib.pyplot as plt\n",
    "import seaborn as sns"
   ]
  },
  {
   "cell_type": "code",
   "execution_count": 113,
   "id": "cb95bae2",
   "metadata": {},
   "outputs": [
    {
     "data": {
      "text/plain": [
       "<seaborn.axisgrid.FacetGrid at 0x7fb5266a82b0>"
      ]
     },
     "execution_count": 113,
     "metadata": {},
     "output_type": "execute_result"
    },
    {
     "data": {
      "image/png": "[encoded data removed]",
      "text/plain": [
       "<Figure size 360x360 with 1 Axes>"
      ]
     },
     "metadata": {
      "needs_background": "light"
     },
     "output_type": "display_data"
    }
   ],
   "source": [
    "#sns.distplot(data['SibSp'])\n",
    "sns.displot(data['SibSp'])"
   ]
  },
  {
   "cell_type": "code",
   "execution_count": 114,
   "id": "96907e88",
   "metadata": {},
   "outputs": [
    {
     "data": {
      "text/plain": [
       "<seaborn.axisgrid.FacetGrid at 0x7fb5037f4d30>"
      ]
     },
     "execution_count": 114,
     "metadata": {},
     "output_type": "execute_result"
    },
    {
     "data": {
      "image/png": "[encoded data removed]",
      "text/plain": [
       "<Figure size 360x360 with 1 Axes>"
      ]
     },
     "metadata": {
      "needs_background": "light"
     },
     "output_type": "display_data"
    }
   ],
   "source": [
    "sns.displot(data['Age']) # 80세 이상 140 세"
   ]
  },
  {
   "cell_type": "code",
   "execution_count": 115,
   "id": "927d2ede",
   "metadata": {},
   "outputs": [
    {
     "data": {
      "text/plain": [
       "<AxesSubplot:ylabel='Age'>"
      ]
     },
     "execution_count": 115,
     "metadata": {},
     "output_type": "execute_result"
    },
    {
     "data": {
      "image/png": "[encoded data removed]",
      "text/plain": [
       "<Figure size 432x288 with 1 Axes>"
      ]
     },
     "metadata": {
      "needs_background": "light"
     },
     "output_type": "display_data"
    }
   ],
   "source": [
    "### 스캐터플랏 ( 산 점 도 ) - x, y 축 값을 넣어 줘야 함.  x는 인덱스.. 랜덤한 숫자 넣고 age 보기\n",
    "\n",
    "sns.scatterplot(x=data.index, y=data['Age'])"
   ]
  },
  {
   "cell_type": "code",
   "execution_count": 116,
   "id": "fa91af35",
   "metadata": {},
   "outputs": [
    {
     "data": {
      "text/plain": [
       "<AxesSubplot:ylabel='SibSp'>"
      ]
     },
     "execution_count": 116,
     "metadata": {},
     "output_type": "execute_result"
    },
    {
     "data": {
      "image/png": "[encoded data removed]",
      "text/plain": [
       "<Figure size 432x288 with 1 Axes>"
      ]
     },
     "metadata": {
      "needs_background": "light"
     },
     "output_type": "display_data"
    }
   ],
   "source": [
    "sns.scatterplot(x=data.index, y=data['SibSp'])"
   ]
  },
  {
   "cell_type": "code",
   "execution_count": 117,
   "id": "78f7144f",
   "metadata": {},
   "outputs": [
    {
     "data": {
      "text/plain": [
       "<AxesSubplot:xlabel='Age'>"
      ]
     },
     "execution_count": 117,
     "metadata": {},
     "output_type": "execute_result"
    },
    {
     "data": {
      "image/png": "[encoded data removed]",
      "text/plain": [
       "<Figure size 432x288 with 1 Axes>"
      ]
     },
     "metadata": {
      "needs_background": "light"
     },
     "output_type": "display_data"
    }
   ],
   "source": [
    "sns.boxplot(x=data['Age'])   ### boxplot  data.describe() 정보 라 보면 됨 . 닫힌 선 바깥의 값을 outlier라고 봄.\n",
    "### 사용하는 알고리즘이 너무 단순할 경우 저 outlier가 안좋은 영향을 줄 수 있음. 상황에 따라  outlier 처리를 결정하라."
   ]
  },
  {
   "cell_type": "code",
   "execution_count": 118,
   "id": "b4e4419c",
   "metadata": {},
   "outputs": [
    {
     "ename": "SyntaxError",
     "evalue": "invalid syntax (4100654736.py, line 3)",
     "output_type": "error",
     "traceback": [
      "\u001b[0;36m  File \u001b[0;32m\"/tmp/ipykernel_30/4100654736.py\"\u001b[0;36m, line \u001b[0;32m3\u001b[0m\n\u001b[0;31m    IQR = 75% -25%\u001b[0m\n\u001b[0m                  ^\u001b[0m\n\u001b[0;31mSyntaxError\u001b[0m\u001b[0;31m:\u001b[0m invalid syntax\n"
     ]
    }
   ],
   "source": [
    "data.describe()\n",
    "\n",
    "IQR = 75% -25%\n",
    "IQR * 1.5"
   ]
  },
  {
   "cell_type": "code",
   "execution_count": null,
   "id": "d16b79fd",
   "metadata": {},
   "outputs": [],
   "source": [
    "#### 이상치 제거 . 필터 조건 주어서... \n",
    "data = data[ data['Age'] <= 100 ]"
   ]
  },
  {
   "cell_type": "code",
   "execution_count": null,
   "id": "08829e0c",
   "metadata": {},
   "outputs": [],
   "source": [
    "data['Age'].sort_values() # 복잡한 알고리즘이라면 97 세 걍 둬도 되지만, 알고리즘이 단순하다면. 97 세는 80세등 기준으로 값을 바꿔야 함.\n",
    "# 극단적인 값으로 모델이 왜곡 되는 것을 방지"
   ]
  },
  {
   "cell_type": "code",
   "execution_count": null,
   "id": "443cb1a1",
   "metadata": {},
   "outputs": [],
   "source": [
    "def age_func(x) :\n",
    "    if x > 80 :\n",
    "        return 80\n",
    "    else :\n",
    "        return x"
   ]
  },
  {
   "cell_type": "code",
   "execution_count": null,
   "id": "a2543ae1",
   "metadata": {},
   "outputs": [],
   "source": [
    "# age_func(77)\n",
    "\n",
    "## age_func(['Age']) ## 이러면 에러. 하나의 값이 아닌 판다스 시리즈이므로\n",
    "\n",
    "data['Age'] = data['Age'].apply(age_func)\n",
    "# data['Age'].apply(age_func).max()\n",
    "\n"
   ]
  },
  {
   "cell_type": "code",
   "execution_count": null,
   "id": "87d3b837",
   "metadata": {},
   "outputs": [],
   "source": [
    "data['Age'].sort_values()"
   ]
  },
  {
   "cell_type": "code",
   "execution_count": null,
   "id": "9485e283",
   "metadata": {},
   "outputs": [],
   "source": [
    "def new_age_fun(x) :\n",
    "    if x > 70 :\n",
    "        return 70\n",
    "    else :\n",
    "        return x"
   ]
  },
  {
   "cell_type": "code",
   "execution_count": null,
   "id": "ff54cfe8",
   "metadata": {},
   "outputs": [],
   "source": [
    "## 람다 쓰기\n",
    "\n",
    "# data['Age'].apply(new_age_fun)\n",
    "\n",
    "data['Age'].apply(lambda x: 70 if x > 70 else x )"
   ]
  },
  {
   "cell_type": "code",
   "execution_count": null,
   "id": "c5f0956f",
   "metadata": {},
   "outputs": [],
   "source": [
    "########################## 중복 데이터 제거 ###################################\\\n",
    "## 중복 데이터 확인 - 맨 처음 라인으로 가서 DATA 다시 불러 오고 중복 확인"
   ]
  },
  {
   "cell_type": "code",
   "execution_count": null,
   "id": "eb937177",
   "metadata": {},
   "outputs": [],
   "source": [
    "## 컬럼명 변경 . 딕셔너리 형태로 바꿀 것 넘겨주기   axis 줘야 함.  rename 으로 행, 열 이름 바꿀 수 있다.\n",
    "data = data.rename({'Gendr':'Gender'}, axis=1)  "
   ]
  },
  {
   "cell_type": "code",
   "execution_count": null,
   "id": "544c778f",
   "metadata": {},
   "outputs": [],
   "source": [
    "## replace . 각 행열의 값을 변경\n",
    "data['Embarked'].replace({'S':'Southampton', 'C':'Cherbourg', 'Q' : 'Queenstown'})"
   ]
  },
  {
   "cell_type": "code",
   "execution_count": null,
   "id": "1e2d5692",
   "metadata": {},
   "outputs": [],
   "source": [
    "data.replace({'S':'Southampton', 'C':'Cherbourg', 'Q' : 'Queenstown'})"
   ]
  },
  {
   "cell_type": "code",
   "execution_count": null,
   "id": "b502c6d9",
   "metadata": {},
   "outputs": [],
   "source": [
    "## Parch 0 -> 9\n",
    "data.replace( {0: 999 })"
   ]
  },
  {
   "cell_type": "code",
   "execution_count": null,
   "id": "e5780727",
   "metadata": {},
   "outputs": [],
   "source": [
    "### replace  대신\n",
    "data['Embarked'].replace({'S':'Southampton', 'C':'Cherbourg', 'Q' : 'Queenstown'})  ## 프레임, 시리즈 둘다 작동"
   ]
  },
  {
   "cell_type": "code",
   "execution_count": null,
   "id": "a1919559",
   "metadata": {},
   "outputs": [],
   "source": [
    "data['Embarked'].map({'S':'Southampton', 'C':'Cherbourg', 'Q' : 'Queenstown'})   ## 시리즈에만 작동"
   ]
  },
  {
   "cell_type": "code",
   "execution_count": null,
   "id": "49355fc1",
   "metadata": {},
   "outputs": [],
   "source": [
    "data['Gender'].map(len)   ## 함수 적용 가능 ## "
   ]
  },
  {
   "cell_type": "code",
   "execution_count": null,
   "id": "5eb29d63",
   "metadata": {},
   "outputs": [],
   "source": [
    "data.apply(len)   ## 함수 적용 가능 ## 데이터 프레임 적용 가능"
   ]
  },
  {
   "cell_type": "code",
   "execution_count": null,
   "id": "7dc3d945",
   "metadata": {},
   "outputs": [],
   "source": [
    "################ 텍스트 처리 ###################\n",
    "data.head()"
   ]
  },
  {
   "cell_type": "code",
   "execution_count": null,
   "id": "c6d91a00",
   "metadata": {},
   "outputs": [],
   "source": [
    "data.info()"
   ]
  },
  {
   "cell_type": "code",
   "execution_count": null,
   "id": "18e294e3",
   "metadata": {},
   "outputs": [],
   "source": [
    "## Ticket 데이터로 연습\n",
    "sample_text = 'A/5 21171'"
   ]
  },
  {
   "cell_type": "code",
   "execution_count": null,
   "id": "1be4b00f",
   "metadata": {},
   "outputs": [],
   "source": [
    "sample_text"
   ]
  },
  {
   "cell_type": "code",
   "execution_count": null,
   "id": "935e92fa",
   "metadata": {},
   "outputs": [],
   "source": [
    "## 각 문자열 인덱싱\n",
    "sample_text[1]\n",
    "sample_text[0:] # 끝까지\n",
    "sample_text[:3] # 처음부터\n",
    "sample_text[4:11] # 4~10까지\n",
    "# 뒤에서 부터는 -1 로 시작\n"
   ]
  },
  {
   "cell_type": "code",
   "execution_count": null,
   "id": "5995c6e7",
   "metadata": {},
   "outputs": [],
   "source": [
    "## 소문자\n",
    "sample_text.lower()"
   ]
  },
  {
   "cell_type": "code",
   "execution_count": null,
   "id": "290d09fb",
   "metadata": {},
   "outputs": [],
   "source": [
    "## 대문자\n",
    "sample_text.upper()"
   ]
  },
  {
   "cell_type": "code",
   "execution_count": null,
   "id": "1198b671",
   "metadata": {},
   "outputs": [],
   "source": [
    "## 문자열 나누기\n",
    "sample_text.split() # 띄어 쓰기 기준"
   ]
  },
  {
   "cell_type": "code",
   "execution_count": null,
   "id": "b7a79cb9",
   "metadata": {},
   "outputs": [],
   "source": [
    " # 구분자 주기\n",
    "sample_text.split('/') # 띄어 쓰기 기준  # 결과가 리스트형태. 앞부분만 컨트롤 할경우 "
   ]
  },
  {
   "cell_type": "code",
   "execution_count": null,
   "id": "a74d0450",
   "metadata": {},
   "outputs": [],
   "source": [
    "# 결과가 리스트형태. 특정 부분만 컨트롤 할경우 \n",
    "sample_text.split()[1]"
   ]
  },
  {
   "cell_type": "code",
   "execution_count": null,
   "id": "45a8b43b",
   "metadata": {},
   "outputs": [],
   "source": [
    "# 무조건 맨마지막거는 \n",
    "sample_text.split()[-1]"
   ]
  },
  {
   "cell_type": "code",
   "execution_count": null,
   "id": "df8769f0",
   "metadata": {},
   "outputs": [],
   "source": [
    "## 앞쪽 공백 들어 있을 경우\n",
    "new_text = ' A/5 21171'"
   ]
  },
  {
   "cell_type": "code",
   "execution_count": null,
   "id": "27a7a567",
   "metadata": {},
   "outputs": [],
   "source": [
    "new_text.strip() # 앞, 뒤 공백 제거 중간의 공백은 그냥 둔다."
   ]
  },
  {
   "cell_type": "code",
   "execution_count": null,
   "id": "3a1319fc",
   "metadata": {},
   "outputs": [],
   "source": [
    "data['Ticket'][:3]  # 실즈에서 0~3 열만 가져오게 됨"
   ]
  },
  {
   "cell_type": "code",
   "execution_count": null,
   "id": "369cc360",
   "metadata": {},
   "outputs": [],
   "source": [
    "data['Ticket'].str[-5:]"
   ]
  },
  {
   "cell_type": "code",
   "execution_count": null,
   "id": "056bbf82",
   "metadata": {},
   "outputs": [],
   "source": [
    "data['Ticket'].str.split(expand = True)   #expand = True 프레임 형태로 "
   ]
  },
  {
   "cell_type": "code",
   "execution_count": 125,
   "id": "e6806a59",
   "metadata": {},
   "outputs": [],
   "source": [
    "data['new_ticket'] =data['Ticket'].str.split().apply(lambda x: x[-1])   #expand 안 쓰고 리스트 형태로 둔 상태에서, 각각의 줄에 인덱싱 하여 처리 하기"
   ]
  },
  {
   "cell_type": "code",
   "execution_count": 126,
   "id": "285bb3fe",
   "metadata": {},
   "outputs": [
    {
     "data": {
      "text/html": [
       "<div>\n",
       "<style scoped>\n",
       "    .dataframe tbody tr th:only-of-type {\n",
       "        vertical-align: middle;\n",
       "    }\n",
       "\n",
       "    .dataframe tbody tr th {\n",
       "        vertical-align: top;\n",
       "    }\n",
       "\n",
       "    .dataframe thead th {\n",
       "        text-align: right;\n",
       "    }\n",
       "</style>\n",
       "<table border=\"1\" class=\"dataframe\">\n",
       "  <thead>\n",
       "    <tr style=\"text-align: right;\">\n",
       "      <th></th>\n",
       "      <th>Pclass</th>\n",
       "      <th>Gendr</th>\n",
       "      <th>Age</th>\n",
       "      <th>SibSp</th>\n",
       "      <th>Parch</th>\n",
       "      <th>Ticket</th>\n",
       "      <th>Embarked</th>\n",
       "      <th>Survived</th>\n",
       "      <th>ticket_date</th>\n",
       "      <th>new_ticket</th>\n",
       "    </tr>\n",
       "  </thead>\n",
       "  <tbody>\n",
       "    <tr>\n",
       "      <th>0</th>\n",
       "      <td>3</td>\n",
       "      <td>male</td>\n",
       "      <td>22.0</td>\n",
       "      <td>1</td>\n",
       "      <td>0</td>\n",
       "      <td>A/5 21171</td>\n",
       "      <td>S</td>\n",
       "      <td>0</td>\n",
       "      <td>1912-01-12</td>\n",
       "      <td>21171</td>\n",
       "    </tr>\n",
       "    <tr>\n",
       "      <th>1</th>\n",
       "      <td>1</td>\n",
       "      <td>female</td>\n",
       "      <td>38.0</td>\n",
       "      <td>1</td>\n",
       "      <td>0</td>\n",
       "      <td>PC 17599</td>\n",
       "      <td>C</td>\n",
       "      <td>1</td>\n",
       "      <td>1912-03-29</td>\n",
       "      <td>17599</td>\n",
       "    </tr>\n",
       "    <tr>\n",
       "      <th>2</th>\n",
       "      <td>3</td>\n",
       "      <td>female</td>\n",
       "      <td>26.0</td>\n",
       "      <td>0</td>\n",
       "      <td>0</td>\n",
       "      <td>STON/O2. 3101282</td>\n",
       "      <td>S</td>\n",
       "      <td>1</td>\n",
       "      <td>1912-02-23</td>\n",
       "      <td>3101282</td>\n",
       "    </tr>\n",
       "    <tr>\n",
       "      <th>3</th>\n",
       "      <td>1</td>\n",
       "      <td>female</td>\n",
       "      <td>28.0</td>\n",
       "      <td>1</td>\n",
       "      <td>0</td>\n",
       "      <td>113803</td>\n",
       "      <td>S</td>\n",
       "      <td>1</td>\n",
       "      <td>1912-03-28</td>\n",
       "      <td>113803</td>\n",
       "    </tr>\n",
       "    <tr>\n",
       "      <th>4</th>\n",
       "      <td>3</td>\n",
       "      <td>male</td>\n",
       "      <td>35.0</td>\n",
       "      <td>0</td>\n",
       "      <td>0</td>\n",
       "      <td>373450</td>\n",
       "      <td>S</td>\n",
       "      <td>0</td>\n",
       "      <td>1912-04-03</td>\n",
       "      <td>373450</td>\n",
       "    </tr>\n",
       "    <tr>\n",
       "      <th>...</th>\n",
       "      <td>...</td>\n",
       "      <td>...</td>\n",
       "      <td>...</td>\n",
       "      <td>...</td>\n",
       "      <td>...</td>\n",
       "      <td>...</td>\n",
       "      <td>...</td>\n",
       "      <td>...</td>\n",
       "      <td>...</td>\n",
       "      <td>...</td>\n",
       "    </tr>\n",
       "    <tr>\n",
       "      <th>880</th>\n",
       "      <td>2</td>\n",
       "      <td>male</td>\n",
       "      <td>27.0</td>\n",
       "      <td>0</td>\n",
       "      <td>0</td>\n",
       "      <td>211536</td>\n",
       "      <td>S</td>\n",
       "      <td>0</td>\n",
       "      <td>1912-01-29</td>\n",
       "      <td>211536</td>\n",
       "    </tr>\n",
       "    <tr>\n",
       "      <th>881</th>\n",
       "      <td>1</td>\n",
       "      <td>female</td>\n",
       "      <td>19.0</td>\n",
       "      <td>0</td>\n",
       "      <td>0</td>\n",
       "      <td>112053</td>\n",
       "      <td>S</td>\n",
       "      <td>1</td>\n",
       "      <td>1912-03-30</td>\n",
       "      <td>112053</td>\n",
       "    </tr>\n",
       "    <tr>\n",
       "      <th>882</th>\n",
       "      <td>3</td>\n",
       "      <td>female</td>\n",
       "      <td>28.0</td>\n",
       "      <td>1</td>\n",
       "      <td>2</td>\n",
       "      <td>W./C. 6607</td>\n",
       "      <td>S</td>\n",
       "      <td>0</td>\n",
       "      <td>1912-04-07</td>\n",
       "      <td>6607</td>\n",
       "    </tr>\n",
       "    <tr>\n",
       "      <th>883</th>\n",
       "      <td>1</td>\n",
       "      <td>male</td>\n",
       "      <td>26.0</td>\n",
       "      <td>0</td>\n",
       "      <td>0</td>\n",
       "      <td>111369</td>\n",
       "      <td>C</td>\n",
       "      <td>1</td>\n",
       "      <td>1912-03-01</td>\n",
       "      <td>111369</td>\n",
       "    </tr>\n",
       "    <tr>\n",
       "      <th>884</th>\n",
       "      <td>3</td>\n",
       "      <td>male</td>\n",
       "      <td>32.0</td>\n",
       "      <td>0</td>\n",
       "      <td>0</td>\n",
       "      <td>370376</td>\n",
       "      <td>Q</td>\n",
       "      <td>0</td>\n",
       "      <td>1912-03-05</td>\n",
       "      <td>370376</td>\n",
       "    </tr>\n",
       "  </tbody>\n",
       "</table>\n",
       "<p>882 rows × 10 columns</p>\n",
       "</div>"
      ],
      "text/plain": [
       "     Pclass   Gendr   Age  SibSp  Parch            Ticket Embarked  Survived  \\\n",
       "0         3    male  22.0      1      0         A/5 21171        S         0   \n",
       "1         1  female  38.0      1      0          PC 17599        C         1   \n",
       "2         3  female  26.0      0      0  STON/O2. 3101282        S         1   \n",
       "3         1  female  28.0      1      0            113803        S         1   \n",
       "4         3    male  35.0      0      0            373450        S         0   \n",
       "..      ...     ...   ...    ...    ...               ...      ...       ...   \n",
       "880       2    male  27.0      0      0            211536        S         0   \n",
       "881       1  female  19.0      0      0            112053        S         1   \n",
       "882       3  female  28.0      1      2        W./C. 6607        S         0   \n",
       "883       1    male  26.0      0      0            111369        C         1   \n",
       "884       3    male  32.0      0      0            370376        Q         0   \n",
       "\n",
       "    ticket_date new_ticket  \n",
       "0    1912-01-12      21171  \n",
       "1    1912-03-29      17599  \n",
       "2    1912-02-23    3101282  \n",
       "3    1912-03-28     113803  \n",
       "4    1912-04-03     373450  \n",
       "..          ...        ...  \n",
       "880  1912-01-29     211536  \n",
       "881  1912-03-30     112053  \n",
       "882  1912-04-07       6607  \n",
       "883  1912-03-01     111369  \n",
       "884  1912-03-05     370376  \n",
       "\n",
       "[882 rows x 10 columns]"
      ]
     },
     "execution_count": 126,
     "metadata": {},
     "output_type": "execute_result"
    }
   ],
   "source": [
    "data"
   ]
  },
  {
   "cell_type": "code",
   "execution_count": null,
   "id": "eed4a200",
   "metadata": {},
   "outputs": [],
   "source": [
    "data.info()"
   ]
  },
  {
   "cell_type": "code",
   "execution_count": null,
   "id": "1d3f0852",
   "metadata": {},
   "outputs": [],
   "source": [
    "data['new_ticket'].astype('int')"
   ]
  },
  {
   "cell_type": "code",
   "execution_count": 120,
   "id": "f96587c1",
   "metadata": {},
   "outputs": [],
   "source": [
    "txt_a = '123'\n",
    "txt_b = 'abc'\n",
    "txt_c = '12a'"
   ]
  },
  {
   "cell_type": "code",
   "execution_count": 121,
   "id": "f171d870",
   "metadata": {},
   "outputs": [
    {
     "data": {
      "text/plain": [
       "True"
      ]
     },
     "execution_count": 121,
     "metadata": {},
     "output_type": "execute_result"
    }
   ],
   "source": [
    "txt_a.isdigit()"
   ]
  },
  {
   "cell_type": "code",
   "execution_count": 122,
   "id": "2101655c",
   "metadata": {},
   "outputs": [
    {
     "data": {
      "text/plain": [
       "False"
      ]
     },
     "execution_count": 122,
     "metadata": {},
     "output_type": "execute_result"
    }
   ],
   "source": [
    "txt_b.isdigit()"
   ]
  },
  {
   "cell_type": "code",
   "execution_count": 123,
   "id": "dc35c59b",
   "metadata": {},
   "outputs": [
    {
     "data": {
      "text/plain": [
       "False"
      ]
     },
     "execution_count": 123,
     "metadata": {},
     "output_type": "execute_result"
    }
   ],
   "source": [
    "txt_c.isdigit()"
   ]
  },
  {
   "cell_type": "code",
   "execution_count": 127,
   "id": "3c42c7cb",
   "metadata": {},
   "outputs": [
    {
     "data": {
      "text/plain": [
       "0      True\n",
       "1      True\n",
       "2      True\n",
       "3      True\n",
       "4      True\n",
       "       ... \n",
       "880    True\n",
       "881    True\n",
       "882    True\n",
       "883    True\n",
       "884    True\n",
       "Name: new_ticket, Length: 882, dtype: bool"
      ]
     },
     "execution_count": 127,
     "metadata": {},
     "output_type": "execute_result"
    }
   ],
   "source": [
    "data ['new_ticket'].str.isdigit()"
   ]
  },
  {
   "cell_type": "code",
   "execution_count": 131,
   "id": "6d664e3c",
   "metadata": {},
   "outputs": [
    {
     "data": {
      "text/html": [
       "<div>\n",
       "<style scoped>\n",
       "    .dataframe tbody tr th:only-of-type {\n",
       "        vertical-align: middle;\n",
       "    }\n",
       "\n",
       "    .dataframe tbody tr th {\n",
       "        vertical-align: top;\n",
       "    }\n",
       "\n",
       "    .dataframe thead th {\n",
       "        text-align: right;\n",
       "    }\n",
       "</style>\n",
       "<table border=\"1\" class=\"dataframe\">\n",
       "  <thead>\n",
       "    <tr style=\"text-align: right;\">\n",
       "      <th></th>\n",
       "      <th>Pclass</th>\n",
       "      <th>Gendr</th>\n",
       "      <th>Age</th>\n",
       "      <th>SibSp</th>\n",
       "      <th>Parch</th>\n",
       "      <th>Ticket</th>\n",
       "      <th>Embarked</th>\n",
       "      <th>Survived</th>\n",
       "      <th>ticket_date</th>\n",
       "      <th>new_ticket</th>\n",
       "    </tr>\n",
       "  </thead>\n",
       "  <tbody>\n",
       "    <tr>\n",
       "      <th>178</th>\n",
       "      <td>3</td>\n",
       "      <td>male</td>\n",
       "      <td>36.0</td>\n",
       "      <td>0</td>\n",
       "      <td>0</td>\n",
       "      <td>LINE</td>\n",
       "      <td>S</td>\n",
       "      <td>0</td>\n",
       "      <td>1912-04-08</td>\n",
       "      <td>LINE</td>\n",
       "    </tr>\n",
       "    <tr>\n",
       "      <th>270</th>\n",
       "      <td>3</td>\n",
       "      <td>male</td>\n",
       "      <td>25.0</td>\n",
       "      <td>0</td>\n",
       "      <td>0</td>\n",
       "      <td>LINE</td>\n",
       "      <td>S</td>\n",
       "      <td>1</td>\n",
       "      <td>1912-04-08</td>\n",
       "      <td>LINE</td>\n",
       "    </tr>\n",
       "    <tr>\n",
       "      <th>301</th>\n",
       "      <td>3</td>\n",
       "      <td>male</td>\n",
       "      <td>19.0</td>\n",
       "      <td>0</td>\n",
       "      <td>0</td>\n",
       "      <td>LINE</td>\n",
       "      <td>S</td>\n",
       "      <td>0</td>\n",
       "      <td>1912-04-08</td>\n",
       "      <td>LINE</td>\n",
       "    </tr>\n",
       "    <tr>\n",
       "      <th>594</th>\n",
       "      <td>3</td>\n",
       "      <td>male</td>\n",
       "      <td>49.0</td>\n",
       "      <td>0</td>\n",
       "      <td>0</td>\n",
       "      <td>LINE</td>\n",
       "      <td>S</td>\n",
       "      <td>0</td>\n",
       "      <td>1912-04-08</td>\n",
       "      <td>LINE</td>\n",
       "    </tr>\n",
       "  </tbody>\n",
       "</table>\n",
       "</div>"
      ],
      "text/plain": [
       "     Pclass Gendr   Age  SibSp  Parch Ticket Embarked  Survived ticket_date  \\\n",
       "178       3  male  36.0      0      0   LINE        S         0  1912-04-08   \n",
       "270       3  male  25.0      0      0   LINE        S         1  1912-04-08   \n",
       "301       3  male  19.0      0      0   LINE        S         0  1912-04-08   \n",
       "594       3  male  49.0      0      0   LINE        S         0  1912-04-08   \n",
       "\n",
       "    new_ticket  \n",
       "178       LINE  \n",
       "270       LINE  \n",
       "301       LINE  \n",
       "594       LINE  "
      ]
     },
     "execution_count": 131,
     "metadata": {},
     "output_type": "execute_result"
    }
   ],
   "source": [
    "data[~data ['new_ticket'].str.isdigit()] # 문자 있는 놈 찾기"
   ]
  },
  {
   "cell_type": "code",
   "execution_count": 134,
   "id": "ac3fdbfd",
   "metadata": {},
   "outputs": [],
   "source": [
    "data['new_ticket'] =data ['new_ticket'].replace({'LINE':'999999'}) # 값 변경하기"
   ]
  },
  {
   "cell_type": "code",
   "execution_count": 135,
   "id": "b2f512d2",
   "metadata": {},
   "outputs": [
    {
     "data": {
      "text/html": [
       "<div>\n",
       "<style scoped>\n",
       "    .dataframe tbody tr th:only-of-type {\n",
       "        vertical-align: middle;\n",
       "    }\n",
       "\n",
       "    .dataframe tbody tr th {\n",
       "        vertical-align: top;\n",
       "    }\n",
       "\n",
       "    .dataframe thead th {\n",
       "        text-align: right;\n",
       "    }\n",
       "</style>\n",
       "<table border=\"1\" class=\"dataframe\">\n",
       "  <thead>\n",
       "    <tr style=\"text-align: right;\">\n",
       "      <th></th>\n",
       "      <th>Pclass</th>\n",
       "      <th>Gendr</th>\n",
       "      <th>Age</th>\n",
       "      <th>SibSp</th>\n",
       "      <th>Parch</th>\n",
       "      <th>Ticket</th>\n",
       "      <th>Embarked</th>\n",
       "      <th>Survived</th>\n",
       "      <th>ticket_date</th>\n",
       "      <th>new_ticket</th>\n",
       "    </tr>\n",
       "  </thead>\n",
       "  <tbody>\n",
       "    <tr>\n",
       "      <th>0</th>\n",
       "      <td>3</td>\n",
       "      <td>male</td>\n",
       "      <td>22.0</td>\n",
       "      <td>1</td>\n",
       "      <td>0</td>\n",
       "      <td>A/5 21171</td>\n",
       "      <td>S</td>\n",
       "      <td>0</td>\n",
       "      <td>1912-01-12</td>\n",
       "      <td>21171</td>\n",
       "    </tr>\n",
       "    <tr>\n",
       "      <th>1</th>\n",
       "      <td>1</td>\n",
       "      <td>female</td>\n",
       "      <td>38.0</td>\n",
       "      <td>1</td>\n",
       "      <td>0</td>\n",
       "      <td>PC 17599</td>\n",
       "      <td>C</td>\n",
       "      <td>1</td>\n",
       "      <td>1912-03-29</td>\n",
       "      <td>17599</td>\n",
       "    </tr>\n",
       "    <tr>\n",
       "      <th>2</th>\n",
       "      <td>3</td>\n",
       "      <td>female</td>\n",
       "      <td>26.0</td>\n",
       "      <td>0</td>\n",
       "      <td>0</td>\n",
       "      <td>STON/O2. 3101282</td>\n",
       "      <td>S</td>\n",
       "      <td>1</td>\n",
       "      <td>1912-02-23</td>\n",
       "      <td>3101282</td>\n",
       "    </tr>\n",
       "    <tr>\n",
       "      <th>3</th>\n",
       "      <td>1</td>\n",
       "      <td>female</td>\n",
       "      <td>28.0</td>\n",
       "      <td>1</td>\n",
       "      <td>0</td>\n",
       "      <td>113803</td>\n",
       "      <td>S</td>\n",
       "      <td>1</td>\n",
       "      <td>1912-03-28</td>\n",
       "      <td>113803</td>\n",
       "    </tr>\n",
       "    <tr>\n",
       "      <th>4</th>\n",
       "      <td>3</td>\n",
       "      <td>male</td>\n",
       "      <td>35.0</td>\n",
       "      <td>0</td>\n",
       "      <td>0</td>\n",
       "      <td>373450</td>\n",
       "      <td>S</td>\n",
       "      <td>0</td>\n",
       "      <td>1912-04-03</td>\n",
       "      <td>373450</td>\n",
       "    </tr>\n",
       "    <tr>\n",
       "      <th>...</th>\n",
       "      <td>...</td>\n",
       "      <td>...</td>\n",
       "      <td>...</td>\n",
       "      <td>...</td>\n",
       "      <td>...</td>\n",
       "      <td>...</td>\n",
       "      <td>...</td>\n",
       "      <td>...</td>\n",
       "      <td>...</td>\n",
       "      <td>...</td>\n",
       "    </tr>\n",
       "    <tr>\n",
       "      <th>880</th>\n",
       "      <td>2</td>\n",
       "      <td>male</td>\n",
       "      <td>27.0</td>\n",
       "      <td>0</td>\n",
       "      <td>0</td>\n",
       "      <td>211536</td>\n",
       "      <td>S</td>\n",
       "      <td>0</td>\n",
       "      <td>1912-01-29</td>\n",
       "      <td>211536</td>\n",
       "    </tr>\n",
       "    <tr>\n",
       "      <th>881</th>\n",
       "      <td>1</td>\n",
       "      <td>female</td>\n",
       "      <td>19.0</td>\n",
       "      <td>0</td>\n",
       "      <td>0</td>\n",
       "      <td>112053</td>\n",
       "      <td>S</td>\n",
       "      <td>1</td>\n",
       "      <td>1912-03-30</td>\n",
       "      <td>112053</td>\n",
       "    </tr>\n",
       "    <tr>\n",
       "      <th>882</th>\n",
       "      <td>3</td>\n",
       "      <td>female</td>\n",
       "      <td>28.0</td>\n",
       "      <td>1</td>\n",
       "      <td>2</td>\n",
       "      <td>W./C. 6607</td>\n",
       "      <td>S</td>\n",
       "      <td>0</td>\n",
       "      <td>1912-04-07</td>\n",
       "      <td>6607</td>\n",
       "    </tr>\n",
       "    <tr>\n",
       "      <th>883</th>\n",
       "      <td>1</td>\n",
       "      <td>male</td>\n",
       "      <td>26.0</td>\n",
       "      <td>0</td>\n",
       "      <td>0</td>\n",
       "      <td>111369</td>\n",
       "      <td>C</td>\n",
       "      <td>1</td>\n",
       "      <td>1912-03-01</td>\n",
       "      <td>111369</td>\n",
       "    </tr>\n",
       "    <tr>\n",
       "      <th>884</th>\n",
       "      <td>3</td>\n",
       "      <td>male</td>\n",
       "      <td>32.0</td>\n",
       "      <td>0</td>\n",
       "      <td>0</td>\n",
       "      <td>370376</td>\n",
       "      <td>Q</td>\n",
       "      <td>0</td>\n",
       "      <td>1912-03-05</td>\n",
       "      <td>370376</td>\n",
       "    </tr>\n",
       "  </tbody>\n",
       "</table>\n",
       "<p>882 rows × 10 columns</p>\n",
       "</div>"
      ],
      "text/plain": [
       "     Pclass   Gendr   Age  SibSp  Parch            Ticket Embarked  Survived  \\\n",
       "0         3    male  22.0      1      0         A/5 21171        S         0   \n",
       "1         1  female  38.0      1      0          PC 17599        C         1   \n",
       "2         3  female  26.0      0      0  STON/O2. 3101282        S         1   \n",
       "3         1  female  28.0      1      0            113803        S         1   \n",
       "4         3    male  35.0      0      0            373450        S         0   \n",
       "..      ...     ...   ...    ...    ...               ...      ...       ...   \n",
       "880       2    male  27.0      0      0            211536        S         0   \n",
       "881       1  female  19.0      0      0            112053        S         1   \n",
       "882       3  female  28.0      1      2        W./C. 6607        S         0   \n",
       "883       1    male  26.0      0      0            111369        C         1   \n",
       "884       3    male  32.0      0      0            370376        Q         0   \n",
       "\n",
       "    ticket_date new_ticket  \n",
       "0    1912-01-12      21171  \n",
       "1    1912-03-29      17599  \n",
       "2    1912-02-23    3101282  \n",
       "3    1912-03-28     113803  \n",
       "4    1912-04-03     373450  \n",
       "..          ...        ...  \n",
       "880  1912-01-29     211536  \n",
       "881  1912-03-30     112053  \n",
       "882  1912-04-07       6607  \n",
       "883  1912-03-01     111369  \n",
       "884  1912-03-05     370376  \n",
       "\n",
       "[882 rows x 10 columns]"
      ]
     },
     "execution_count": 135,
     "metadata": {},
     "output_type": "execute_result"
    }
   ],
   "source": [
    "data"
   ]
  },
  {
   "cell_type": "code",
   "execution_count": 136,
   "id": "af6045fe",
   "metadata": {},
   "outputs": [
    {
     "data": {
      "text/html": [
       "<div>\n",
       "<style scoped>\n",
       "    .dataframe tbody tr th:only-of-type {\n",
       "        vertical-align: middle;\n",
       "    }\n",
       "\n",
       "    .dataframe tbody tr th {\n",
       "        vertical-align: top;\n",
       "    }\n",
       "\n",
       "    .dataframe thead th {\n",
       "        text-align: right;\n",
       "    }\n",
       "</style>\n",
       "<table border=\"1\" class=\"dataframe\">\n",
       "  <thead>\n",
       "    <tr style=\"text-align: right;\">\n",
       "      <th></th>\n",
       "      <th>Pclass</th>\n",
       "      <th>Gendr</th>\n",
       "      <th>Age</th>\n",
       "      <th>SibSp</th>\n",
       "      <th>Parch</th>\n",
       "      <th>Ticket</th>\n",
       "      <th>Embarked</th>\n",
       "      <th>Survived</th>\n",
       "      <th>ticket_date</th>\n",
       "      <th>new_ticket</th>\n",
       "    </tr>\n",
       "  </thead>\n",
       "  <tbody>\n",
       "  </tbody>\n",
       "</table>\n",
       "</div>"
      ],
      "text/plain": [
       "Empty DataFrame\n",
       "Columns: [Pclass, Gendr, Age, SibSp, Parch, Ticket, Embarked, Survived, ticket_date, new_ticket]\n",
       "Index: []"
      ]
     },
     "execution_count": 136,
     "metadata": {},
     "output_type": "execute_result"
    }
   ],
   "source": [
    "data[~data ['new_ticket'].str.isdigit()] # 문자 있는 놈 찾기"
   ]
  },
  {
   "cell_type": "code",
   "execution_count": 137,
   "id": "a1136a39",
   "metadata": {},
   "outputs": [
    {
     "data": {
      "text/plain": [
       "0        21171\n",
       "1        17599\n",
       "2      3101282\n",
       "3       113803\n",
       "4       373450\n",
       "        ...   \n",
       "880     211536\n",
       "881     112053\n",
       "882       6607\n",
       "883     111369\n",
       "884     370376\n",
       "Name: new_ticket, Length: 882, dtype: int64"
      ]
     },
     "execution_count": 137,
     "metadata": {},
     "output_type": "execute_result"
    }
   ],
   "source": [
    "data['new_ticket'].astype('int') # "
   ]
  },
  {
   "cell_type": "code",
   "execution_count": 139,
   "id": "f61b3d00",
   "metadata": {},
   "outputs": [],
   "source": [
    "## 다른방법\n",
    "data['new_ticket'] = pd.to_numeric(data['new_ticket'])"
   ]
  },
  {
   "cell_type": "code",
   "execution_count": 140,
   "id": "901e525a",
   "metadata": {},
   "outputs": [
    {
     "name": "stdout",
     "output_type": "stream",
     "text": [
      "<class 'pandas.core.frame.DataFrame'>\n",
      "Int64Index: 882 entries, 0 to 884\n",
      "Data columns (total 10 columns):\n",
      " #   Column       Non-Null Count  Dtype  \n",
      "---  ------       --------------  -----  \n",
      " 0   Pclass       882 non-null    int64  \n",
      " 1   Gendr        882 non-null    object \n",
      " 2   Age          882 non-null    float64\n",
      " 3   SibSp        882 non-null    int64  \n",
      " 4   Parch        882 non-null    int64  \n",
      " 5   Ticket       882 non-null    object \n",
      " 6   Embarked     882 non-null    object \n",
      " 7   Survived     882 non-null    int64  \n",
      " 8   ticket_date  882 non-null    object \n",
      " 9   new_ticket   882 non-null    int64  \n",
      "dtypes: float64(1), int64(5), object(4)\n",
      "memory usage: 108.1+ KB\n"
     ]
    }
   ],
   "source": [
    "data.info()"
   ]
  },
  {
   "cell_type": "code",
   "execution_count": null,
   "id": "148a1c84",
   "metadata": {},
   "outputs": [],
   "source": [
    "############################### 날짜 및 데이터 처리 ##################################"
   ]
  },
  {
   "cell_type": "code",
   "execution_count": 141,
   "id": "0b43873d",
   "metadata": {},
   "outputs": [
    {
     "data": {
      "text/html": [
       "<div>\n",
       "<style scoped>\n",
       "    .dataframe tbody tr th:only-of-type {\n",
       "        vertical-align: middle;\n",
       "    }\n",
       "\n",
       "    .dataframe tbody tr th {\n",
       "        vertical-align: top;\n",
       "    }\n",
       "\n",
       "    .dataframe thead th {\n",
       "        text-align: right;\n",
       "    }\n",
       "</style>\n",
       "<table border=\"1\" class=\"dataframe\">\n",
       "  <thead>\n",
       "    <tr style=\"text-align: right;\">\n",
       "      <th></th>\n",
       "      <th>Pclass</th>\n",
       "      <th>Gendr</th>\n",
       "      <th>Age</th>\n",
       "      <th>SibSp</th>\n",
       "      <th>Parch</th>\n",
       "      <th>Ticket</th>\n",
       "      <th>Embarked</th>\n",
       "      <th>Survived</th>\n",
       "      <th>ticket_date</th>\n",
       "      <th>new_ticket</th>\n",
       "    </tr>\n",
       "  </thead>\n",
       "  <tbody>\n",
       "    <tr>\n",
       "      <th>0</th>\n",
       "      <td>3</td>\n",
       "      <td>male</td>\n",
       "      <td>22.0</td>\n",
       "      <td>1</td>\n",
       "      <td>0</td>\n",
       "      <td>A/5 21171</td>\n",
       "      <td>S</td>\n",
       "      <td>0</td>\n",
       "      <td>1912-01-12</td>\n",
       "      <td>21171</td>\n",
       "    </tr>\n",
       "    <tr>\n",
       "      <th>1</th>\n",
       "      <td>1</td>\n",
       "      <td>female</td>\n",
       "      <td>38.0</td>\n",
       "      <td>1</td>\n",
       "      <td>0</td>\n",
       "      <td>PC 17599</td>\n",
       "      <td>C</td>\n",
       "      <td>1</td>\n",
       "      <td>1912-03-29</td>\n",
       "      <td>17599</td>\n",
       "    </tr>\n",
       "    <tr>\n",
       "      <th>2</th>\n",
       "      <td>3</td>\n",
       "      <td>female</td>\n",
       "      <td>26.0</td>\n",
       "      <td>0</td>\n",
       "      <td>0</td>\n",
       "      <td>STON/O2. 3101282</td>\n",
       "      <td>S</td>\n",
       "      <td>1</td>\n",
       "      <td>1912-02-23</td>\n",
       "      <td>3101282</td>\n",
       "    </tr>\n",
       "    <tr>\n",
       "      <th>3</th>\n",
       "      <td>1</td>\n",
       "      <td>female</td>\n",
       "      <td>28.0</td>\n",
       "      <td>1</td>\n",
       "      <td>0</td>\n",
       "      <td>113803</td>\n",
       "      <td>S</td>\n",
       "      <td>1</td>\n",
       "      <td>1912-03-28</td>\n",
       "      <td>113803</td>\n",
       "    </tr>\n",
       "    <tr>\n",
       "      <th>4</th>\n",
       "      <td>3</td>\n",
       "      <td>male</td>\n",
       "      <td>35.0</td>\n",
       "      <td>0</td>\n",
       "      <td>0</td>\n",
       "      <td>373450</td>\n",
       "      <td>S</td>\n",
       "      <td>0</td>\n",
       "      <td>1912-04-03</td>\n",
       "      <td>373450</td>\n",
       "    </tr>\n",
       "  </tbody>\n",
       "</table>\n",
       "</div>"
      ],
      "text/plain": [
       "   Pclass   Gendr   Age  SibSp  Parch            Ticket Embarked  Survived  \\\n",
       "0       3    male  22.0      1      0         A/5 21171        S         0   \n",
       "1       1  female  38.0      1      0          PC 17599        C         1   \n",
       "2       3  female  26.0      0      0  STON/O2. 3101282        S         1   \n",
       "3       1  female  28.0      1      0            113803        S         1   \n",
       "4       3    male  35.0      0      0            373450        S         0   \n",
       "\n",
       "  ticket_date  new_ticket  \n",
       "0  1912-01-12       21171  \n",
       "1  1912-03-29       17599  \n",
       "2  1912-02-23     3101282  \n",
       "3  1912-03-28      113803  \n",
       "4  1912-04-03      373450  "
      ]
     },
     "execution_count": 141,
     "metadata": {},
     "output_type": "execute_result"
    }
   ],
   "source": [
    "data.head()"
   ]
  },
  {
   "cell_type": "code",
   "execution_count": 146,
   "id": "ecb6f8ed",
   "metadata": {},
   "outputs": [],
   "source": [
    "from datetime import datetime"
   ]
  },
  {
   "cell_type": "code",
   "execution_count": 147,
   "id": "173b30fe",
   "metadata": {},
   "outputs": [],
   "source": [
    "sample_date  = datetime.strptime('2023-01-01', '%Y-%m-%d')"
   ]
  },
  {
   "cell_type": "code",
   "execution_count": 151,
   "id": "b8700bf2",
   "metadata": {},
   "outputs": [
    {
     "data": {
      "text/plain": [
       "datetime.datetime(2023, 1, 1, 0, 0)"
      ]
     },
     "execution_count": 151,
     "metadata": {},
     "output_type": "execute_result"
    }
   ],
   "source": [
    "datetime.strptime('2023-jan-01', '%Y-%b-%d')"
   ]
  },
  {
   "cell_type": "code",
   "execution_count": 155,
   "id": "9ec3d88b",
   "metadata": {},
   "outputs": [
    {
     "data": {
      "text/plain": [
       "'2023-01-01'"
      ]
     },
     "execution_count": 155,
     "metadata": {},
     "output_type": "execute_result"
    }
   ],
   "source": [
    "datetime.strftime(sample_date, '%Y-%m-%d')"
   ]
  },
  {
   "cell_type": "code",
   "execution_count": 157,
   "id": "a6577c27",
   "metadata": {},
   "outputs": [
    {
     "data": {
      "text/plain": [
       "2023"
      ]
     },
     "execution_count": 157,
     "metadata": {},
     "output_type": "execute_result"
    }
   ],
   "source": [
    "sample_date.year"
   ]
  },
  {
   "cell_type": "code",
   "execution_count": 159,
   "id": "abbb13d1",
   "metadata": {},
   "outputs": [
    {
     "data": {
      "text/plain": [
       "1"
      ]
     },
     "execution_count": 159,
     "metadata": {},
     "output_type": "execute_result"
    }
   ],
   "source": [
    "sample_date.month"
   ]
  },
  {
   "cell_type": "code",
   "execution_count": 158,
   "id": "2590438f",
   "metadata": {},
   "outputs": [
    {
     "data": {
      "text/plain": [
       "1"
      ]
     },
     "execution_count": 158,
     "metadata": {},
     "output_type": "execute_result"
    }
   ],
   "source": [
    "sample_date.day"
   ]
  },
  {
   "cell_type": "code",
   "execution_count": 160,
   "id": "6f06470f",
   "metadata": {},
   "outputs": [
    {
     "data": {
      "text/plain": [
       "0"
      ]
     },
     "execution_count": 160,
     "metadata": {},
     "output_type": "execute_result"
    }
   ],
   "source": [
    "sample_date.hour"
   ]
  },
  {
   "cell_type": "code",
   "execution_count": 161,
   "id": "7edba76e",
   "metadata": {},
   "outputs": [],
   "source": [
    "next_date  = datetime.strptime('2023-05-05', '%Y-%m-%d')"
   ]
  },
  {
   "cell_type": "code",
   "execution_count": 162,
   "id": "ba46e3b6",
   "metadata": {},
   "outputs": [
    {
     "data": {
      "text/plain": [
       "datetime.timedelta(days=124)"
      ]
     },
     "execution_count": 162,
     "metadata": {},
     "output_type": "execute_result"
    }
   ],
   "source": [
    "next_date - sample_date"
   ]
  },
  {
   "cell_type": "code",
   "execution_count": 163,
   "id": "8cc5064e",
   "metadata": {},
   "outputs": [
    {
     "name": "stdout",
     "output_type": "stream",
     "text": [
      "<class 'pandas.core.frame.DataFrame'>\n",
      "Int64Index: 882 entries, 0 to 884\n",
      "Data columns (total 10 columns):\n",
      " #   Column       Non-Null Count  Dtype  \n",
      "---  ------       --------------  -----  \n",
      " 0   Pclass       882 non-null    int64  \n",
      " 1   Gendr        882 non-null    object \n",
      " 2   Age          882 non-null    float64\n",
      " 3   SibSp        882 non-null    int64  \n",
      " 4   Parch        882 non-null    int64  \n",
      " 5   Ticket       882 non-null    object \n",
      " 6   Embarked     882 non-null    object \n",
      " 7   Survived     882 non-null    int64  \n",
      " 8   ticket_date  882 non-null    object \n",
      " 9   new_ticket   882 non-null    int64  \n",
      "dtypes: float64(1), int64(5), object(4)\n",
      "memory usage: 108.1+ KB\n"
     ]
    }
   ],
   "source": [
    "data.info()"
   ]
  },
  {
   "cell_type": "code",
   "execution_count": 165,
   "id": "f869df51",
   "metadata": {},
   "outputs": [],
   "source": [
    "data['ticket_date'] = pd.to_datetime(data['ticket_date'])"
   ]
  },
  {
   "cell_type": "code",
   "execution_count": 168,
   "id": "3bbc750c",
   "metadata": {},
   "outputs": [
    {
     "name": "stdout",
     "output_type": "stream",
     "text": [
      "<class 'pandas.core.frame.DataFrame'>\n",
      "Int64Index: 882 entries, 0 to 884\n",
      "Data columns (total 10 columns):\n",
      " #   Column       Non-Null Count  Dtype         \n",
      "---  ------       --------------  -----         \n",
      " 0   Pclass       882 non-null    int64         \n",
      " 1   Gendr        882 non-null    object        \n",
      " 2   Age          882 non-null    float64       \n",
      " 3   SibSp        882 non-null    int64         \n",
      " 4   Parch        882 non-null    int64         \n",
      " 5   Ticket       882 non-null    object        \n",
      " 6   Embarked     882 non-null    object        \n",
      " 7   Survived     882 non-null    int64         \n",
      " 8   ticket_date  882 non-null    datetime64[ns]\n",
      " 9   new_ticket   882 non-null    int64         \n",
      "dtypes: datetime64[ns](1), float64(1), int64(5), object(3)\n",
      "memory usage: 108.1+ KB\n"
     ]
    }
   ],
   "source": [
    "data.info()"
   ]
  },
  {
   "cell_type": "code",
   "execution_count": 172,
   "id": "caee90ba",
   "metadata": {},
   "outputs": [
    {
     "data": {
      "text/plain": [
       "0      1912\n",
       "1      1912\n",
       "2      1912\n",
       "3      1912\n",
       "4      1912\n",
       "       ... \n",
       "880    1912\n",
       "881    1912\n",
       "882    1912\n",
       "883    1912\n",
       "884    1912\n",
       "Name: ticket_date, Length: 882, dtype: int64"
      ]
     },
     "execution_count": 172,
     "metadata": {},
     "output_type": "execute_result"
    }
   ],
   "source": [
    "data['ticket_date'].dt.year"
   ]
  },
  {
   "cell_type": "code",
   "execution_count": 174,
   "id": "cda5a487",
   "metadata": {},
   "outputs": [],
   "source": [
    "acc = datetime.strptime('1912-04-15', '%Y-%m-%d')"
   ]
  },
  {
   "cell_type": "code",
   "execution_count": 176,
   "id": "be5f1dfe",
   "metadata": {},
   "outputs": [],
   "source": [
    "data['buy_before'] = acc - data['ticket_date']"
   ]
  },
  {
   "cell_type": "code",
   "execution_count": 180,
   "id": "807199d4",
   "metadata": {},
   "outputs": [
    {
     "name": "stdout",
     "output_type": "stream",
     "text": [
      "<class 'pandas.core.frame.DataFrame'>\n",
      "Int64Index: 882 entries, 0 to 884\n",
      "Data columns (total 11 columns):\n",
      " #   Column       Non-Null Count  Dtype          \n",
      "---  ------       --------------  -----          \n",
      " 0   Pclass       882 non-null    int64          \n",
      " 1   Gendr        882 non-null    object         \n",
      " 2   Age          882 non-null    float64        \n",
      " 3   SibSp        882 non-null    int64          \n",
      " 4   Parch        882 non-null    int64          \n",
      " 5   Ticket       882 non-null    object         \n",
      " 6   Embarked     882 non-null    object         \n",
      " 7   Survived     882 non-null    int64          \n",
      " 8   ticket_date  882 non-null    datetime64[ns] \n",
      " 9   new_ticket   882 non-null    int64          \n",
      " 10  buy_before   882 non-null    timedelta64[ns]\n",
      "dtypes: datetime64[ns](1), float64(1), int64(5), object(3), timedelta64[ns](1)\n",
      "memory usage: 115.0+ KB\n"
     ]
    }
   ],
   "source": [
    "data.info()"
   ]
  },
  {
   "cell_type": "code",
   "execution_count": 181,
   "id": "09a6dcfd",
   "metadata": {},
   "outputs": [
    {
     "data": {
      "text/html": [
       "<div>\n",
       "<style scoped>\n",
       "    .dataframe tbody tr th:only-of-type {\n",
       "        vertical-align: middle;\n",
       "    }\n",
       "\n",
       "    .dataframe tbody tr th {\n",
       "        vertical-align: top;\n",
       "    }\n",
       "\n",
       "    .dataframe thead th {\n",
       "        text-align: right;\n",
       "    }\n",
       "</style>\n",
       "<table border=\"1\" class=\"dataframe\">\n",
       "  <thead>\n",
       "    <tr style=\"text-align: right;\">\n",
       "      <th></th>\n",
       "      <th>Pclass</th>\n",
       "      <th>Gendr</th>\n",
       "      <th>Age</th>\n",
       "      <th>SibSp</th>\n",
       "      <th>Parch</th>\n",
       "      <th>Ticket</th>\n",
       "      <th>Embarked</th>\n",
       "      <th>Survived</th>\n",
       "      <th>ticket_date</th>\n",
       "      <th>new_ticket</th>\n",
       "      <th>buy_before</th>\n",
       "    </tr>\n",
       "  </thead>\n",
       "  <tbody>\n",
       "    <tr>\n",
       "      <th>0</th>\n",
       "      <td>3</td>\n",
       "      <td>male</td>\n",
       "      <td>22.0</td>\n",
       "      <td>1</td>\n",
       "      <td>0</td>\n",
       "      <td>A/5 21171</td>\n",
       "      <td>S</td>\n",
       "      <td>0</td>\n",
       "      <td>1912-01-12</td>\n",
       "      <td>21171</td>\n",
       "      <td>94 days</td>\n",
       "    </tr>\n",
       "    <tr>\n",
       "      <th>1</th>\n",
       "      <td>1</td>\n",
       "      <td>female</td>\n",
       "      <td>38.0</td>\n",
       "      <td>1</td>\n",
       "      <td>0</td>\n",
       "      <td>PC 17599</td>\n",
       "      <td>C</td>\n",
       "      <td>1</td>\n",
       "      <td>1912-03-29</td>\n",
       "      <td>17599</td>\n",
       "      <td>17 days</td>\n",
       "    </tr>\n",
       "    <tr>\n",
       "      <th>2</th>\n",
       "      <td>3</td>\n",
       "      <td>female</td>\n",
       "      <td>26.0</td>\n",
       "      <td>0</td>\n",
       "      <td>0</td>\n",
       "      <td>STON/O2. 3101282</td>\n",
       "      <td>S</td>\n",
       "      <td>1</td>\n",
       "      <td>1912-02-23</td>\n",
       "      <td>3101282</td>\n",
       "      <td>52 days</td>\n",
       "    </tr>\n",
       "    <tr>\n",
       "      <th>3</th>\n",
       "      <td>1</td>\n",
       "      <td>female</td>\n",
       "      <td>28.0</td>\n",
       "      <td>1</td>\n",
       "      <td>0</td>\n",
       "      <td>113803</td>\n",
       "      <td>S</td>\n",
       "      <td>1</td>\n",
       "      <td>1912-03-28</td>\n",
       "      <td>113803</td>\n",
       "      <td>18 days</td>\n",
       "    </tr>\n",
       "    <tr>\n",
       "      <th>4</th>\n",
       "      <td>3</td>\n",
       "      <td>male</td>\n",
       "      <td>35.0</td>\n",
       "      <td>0</td>\n",
       "      <td>0</td>\n",
       "      <td>373450</td>\n",
       "      <td>S</td>\n",
       "      <td>0</td>\n",
       "      <td>1912-04-03</td>\n",
       "      <td>373450</td>\n",
       "      <td>12 days</td>\n",
       "    </tr>\n",
       "  </tbody>\n",
       "</table>\n",
       "</div>"
      ],
      "text/plain": [
       "   Pclass   Gendr   Age  SibSp  Parch            Ticket Embarked  Survived  \\\n",
       "0       3    male  22.0      1      0         A/5 21171        S         0   \n",
       "1       1  female  38.0      1      0          PC 17599        C         1   \n",
       "2       3  female  26.0      0      0  STON/O2. 3101282        S         1   \n",
       "3       1  female  28.0      1      0            113803        S         1   \n",
       "4       3    male  35.0      0      0            373450        S         0   \n",
       "\n",
       "  ticket_date  new_ticket buy_before  \n",
       "0  1912-01-12       21171    94 days  \n",
       "1  1912-03-29       17599    17 days  \n",
       "2  1912-02-23     3101282    52 days  \n",
       "3  1912-03-28      113803    18 days  \n",
       "4  1912-04-03      373450    12 days  "
      ]
     },
     "execution_count": 181,
     "metadata": {},
     "output_type": "execute_result"
    }
   ],
   "source": [
    "data.head()"
   ]
  },
  {
   "cell_type": "code",
   "execution_count": 184,
   "id": "f1f18515",
   "metadata": {},
   "outputs": [],
   "source": [
    "data['buy_before'] = data['buy_before'].dt.days # 숫자만"
   ]
  },
  {
   "cell_type": "code",
   "execution_count": 185,
   "id": "c3cc8a24",
   "metadata": {},
   "outputs": [
    {
     "name": "stdout",
     "output_type": "stream",
     "text": [
      "<class 'pandas.core.frame.DataFrame'>\n",
      "Int64Index: 882 entries, 0 to 884\n",
      "Data columns (total 11 columns):\n",
      " #   Column       Non-Null Count  Dtype         \n",
      "---  ------       --------------  -----         \n",
      " 0   Pclass       882 non-null    int64         \n",
      " 1   Gendr        882 non-null    object        \n",
      " 2   Age          882 non-null    float64       \n",
      " 3   SibSp        882 non-null    int64         \n",
      " 4   Parch        882 non-null    int64         \n",
      " 5   Ticket       882 non-null    object        \n",
      " 6   Embarked     882 non-null    object        \n",
      " 7   Survived     882 non-null    int64         \n",
      " 8   ticket_date  882 non-null    datetime64[ns]\n",
      " 9   new_ticket   882 non-null    int64         \n",
      " 10  buy_before   882 non-null    int64         \n",
      "dtypes: datetime64[ns](1), float64(1), int64(6), object(3)\n",
      "memory usage: 115.0+ KB\n"
     ]
    }
   ],
   "source": [
    "data.info()"
   ]
  },
  {
   "cell_type": "code",
   "execution_count": 186,
   "id": "e4695775",
   "metadata": {},
   "outputs": [
    {
     "data": {
      "text/plain": [
       "0      104\n",
       "1       27\n",
       "2       62\n",
       "3       28\n",
       "4       22\n",
       "      ... \n",
       "880     87\n",
       "881     26\n",
       "882     18\n",
       "883     55\n",
       "884     51\n",
       "Name: buy_before, Length: 882, dtype: int64"
      ]
     },
     "execution_count": 186,
     "metadata": {},
     "output_type": "execute_result"
    }
   ],
   "source": [
    "data['buy_before'] + 10"
   ]
  },
  {
   "cell_type": "code",
   "execution_count": null,
   "id": "e3fe32ad",
   "metadata": {},
   "outputs": [],
   "source": []
  }
 ],
 "metadata": {
  "kernelspec": {
   "display_name": "Python 3 (ipykernel)",
   "language": "python",
   "name": "python3"
  },
  "language_info": {
   "codemirror_mode": {
    "name": "ipython",
    "version": 3
   },
   "file_extension": ".py",
   "mimetype": "text/x-python",
   "name": "python",
   "nbconvert_exporter": "python",
   "pygments_lexer": "ipython3",
   "version": "3.9.7"
  }
 },
 "nbformat": 4,
 "nbformat_minor": 5
}
