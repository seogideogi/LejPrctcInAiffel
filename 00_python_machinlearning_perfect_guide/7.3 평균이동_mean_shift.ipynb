{
 "cells": [
  {
   "cell_type": "markdown",
   "id": "3d401202-7fea-4472-809b-7f9709d0b34e",
   "metadata": {},
   "source": [
    "Make_blobs()   cluster_std  0.7 / 3개의 군집데이터 / bandwidth 0.8 설정  의\n",
    "### 평균이동 군집화 예제"
   ]
  },
  {
   "cell_type": "code",
   "execution_count": 22,
   "id": "1c0cd4f9-b07d-49bf-a4e9-455286526fbf",
   "metadata": {},
   "outputs": [],
   "source": [
    "import numpy as np\n",
    "from sklearn.datasets import make_blobs\n",
    "from sklearn.cluster import MeanShift\n",
    "\n",
    "X, y = make_blobs(n_samples=200, n_features=2, centers=3, \n",
    "                  cluster_std=0.7, random_state=0)\n",
    "\n"
   ]
  },
  {
   "cell_type": "code",
   "execution_count": 18,
   "id": "da2de582-2fd0-4bec-a5b3-17a64e709d00",
   "metadata": {},
   "outputs": [
    {
     "data": {
      "text/plain": [
       "array([[-1.67173659,  3.5340075 ],\n",
       "       [ 0.73273157,  4.41323161],\n",
       "       [ 1.08473328,  4.56850109],\n",
       "       [-1.45849654,  3.32594984],\n",
       "       [ 1.1850368 ,  5.23225746],\n",
       "       [-0.98562693,  2.08916581],\n",
       "       [ 2.42001293,  0.49461208],\n",
       "       [ 1.70664481,  2.2483361 ],\n",
       "       [ 1.06510854,  4.58517988],\n",
       "       [-1.66036146,  2.6414876 ],\n",
       "       [ 0.69404622,  5.15949888],\n",
       "       [-1.04126281,  2.80618085],\n",
       "       [ 1.50899649,  4.38895984],\n",
       "       [ 1.25347478,  3.53864427],\n",
       "       [ 0.34116122,  4.3401491 ],\n",
       "       [-1.12980082,  2.76200969],\n",
       "       [ 2.60569709,  0.57117029],\n",
       "       [ 2.15463474,  0.67413377],\n",
       "       [ 0.40706768,  3.09538951],\n",
       "       [-2.94838314,  4.36302726],\n",
       "       [-1.12193896,  3.16264038],\n",
       "       [ 1.53393915,  0.31915668],\n",
       "       [ 1.00830104,  4.17275863],\n",
       "       [ 1.63934646,  4.19528026],\n",
       "       [-3.10579897,  2.20212747],\n",
       "       [-0.15345841,  4.15486913],\n",
       "       [ 1.60473464, -0.65871855],\n",
       "       [-2.06180476,  1.91142823],\n",
       "       [-0.92635727,  3.71665357],\n",
       "       [-1.57004249,  2.84276857],\n",
       "       [ 1.30223379,  3.22841675],\n",
       "       [ 0.98362009,  5.55389667],\n",
       "       [-1.55642403,  2.71706123],\n",
       "       [ 0.68673679,  3.78056896],\n",
       "       [ 1.48591254, -0.12883337],\n",
       "       [ 2.42199124,  0.95955912],\n",
       "       [ 1.22572656,  4.79838855],\n",
       "       [ 2.25121474,  0.82895839],\n",
       "       [ 2.50335959, -0.23420557],\n",
       "       [-2.8170527 ,  2.58330046],\n",
       "       [ 1.39415514,  0.61062887],\n",
       "       [-1.98359002,  2.6442149 ],\n",
       "       [-2.76488093,  3.16671952],\n",
       "       [-1.0440313 ,  3.82917462],\n",
       "       [ 2.28356135,  4.93801859],\n",
       "       [ 1.83747356,  5.14545322],\n",
       "       [ 0.50423722,  4.32606872],\n",
       "       [-0.77894743,  2.6005122 ],\n",
       "       [ 0.15508369,  5.66432216],\n",
       "       [ 1.02283213,  4.51551766],\n",
       "       [ 0.53224461,  4.04986851],\n",
       "       [ 1.96225112,  0.68921004],\n",
       "       [-1.98350953,  2.55304974],\n",
       "       [-1.63727092,  4.49758871],\n",
       "       [-1.60428247,  3.63200316],\n",
       "       [-1.77430624,  1.78635033],\n",
       "       [ 2.1648221 ,  1.06019039],\n",
       "       [ 2.6998687 ,  1.12077302],\n",
       "       [ 1.37988365,  4.1579782 ],\n",
       "       [ 2.01804661,  5.63090975],\n",
       "       [-2.46088494,  1.97518001],\n",
       "       [-0.37320956,  3.03284169],\n",
       "       [ 0.95654252,  4.60361964],\n",
       "       [ 1.63714627,  0.73111845],\n",
       "       [ 1.79684023,  0.73009824],\n",
       "       [-1.32646343,  3.34407295],\n",
       "       [ 0.97670961,  0.94194706],\n",
       "       [ 1.41629196,  1.67957506],\n",
       "       [-1.49986263,  1.75818169],\n",
       "       [ 2.0074984 ,  2.09700357],\n",
       "       [ 1.83895844, -0.275539  ],\n",
       "       [ 0.22674324,  5.04190354],\n",
       "       [ 0.67166259,  5.59827194],\n",
       "       [-1.80651833,  3.17692138],\n",
       "       [ 0.09931333,  4.84803058],\n",
       "       [-1.49225753,  3.263568  ],\n",
       "       [ 1.73639477,  0.90989907],\n",
       "       [ 3.63678379,  0.86808365],\n",
       "       [ 1.38610602,  0.65547642],\n",
       "       [-3.38832458,  3.34230593],\n",
       "       [-1.9665653 ,  2.58116328],\n",
       "       [ 1.10046838,  4.02254067],\n",
       "       [ 0.90401688,  4.59120628],\n",
       "       [ 3.72346886,  1.5587993 ],\n",
       "       [ 2.42156118,  0.77758123],\n",
       "       [ 1.58137542,  3.78427181],\n",
       "       [ 0.61951355,  3.99713532],\n",
       "       [-1.78218949,  3.02757496],\n",
       "       [ 0.3734121 ,  5.64083279],\n",
       "       [ 2.17193897,  1.34218567],\n",
       "       [-2.33705269,  2.69927769],\n",
       "       [-1.00387218,  2.08562079],\n",
       "       [ 2.33459996, -1.04315127],\n",
       "       [ 0.36671207,  3.89859256],\n",
       "       [ 2.88688838,  1.11952349],\n",
       "       [ 0.78866772,  4.8655068 ],\n",
       "       [ 1.25790923,  3.82442026],\n",
       "       [-1.60961884,  2.44175752],\n",
       "       [-2.00839034,  2.06802808],\n",
       "       [ 2.53934465,  1.38398806],\n",
       "       [ 1.80747178, -0.06480225],\n",
       "       [ 2.04921553,  5.33233847],\n",
       "       [-1.86266308,  3.35213307],\n",
       "       [ 0.50554777,  4.05210011],\n",
       "       [-1.6204951 ,  3.67230293],\n",
       "       [-0.16486876,  4.62773491],\n",
       "       [ 2.82502924,  1.35634827],\n",
       "       [ 0.34944349,  4.57461908],\n",
       "       [-0.81082279,  4.76132034],\n",
       "       [ 1.53757342,  1.97777388],\n",
       "       [ 0.61870648,  3.4773448 ],\n",
       "       [-0.57173172,  2.43526783],\n",
       "       [ 1.13413233,  0.57455444],\n",
       "       [-0.50029891,  3.51466862],\n",
       "       [ 0.70514131,  4.0921754 ],\n",
       "       [ 1.28697434,  4.53735936],\n",
       "       [ 1.77385056,  3.43940925],\n",
       "       [ 2.71986209,  0.95894953],\n",
       "       [-1.94596177,  2.13675437],\n",
       "       [-1.53788149,  3.03053198],\n",
       "       [ 1.63784769,  0.86086655],\n",
       "       [ 1.73075034,  1.23470069],\n",
       "       [-1.07658389,  1.81844588],\n",
       "       [ 1.23976795,  3.53420677],\n",
       "       [ 1.6090616 ,  0.61957339],\n",
       "       [ 0.242283  ,  3.30977477],\n",
       "       [-2.75602742,  3.23353638],\n",
       "       [ 0.69987166,  1.02980868],\n",
       "       [-2.31568208,  2.40640783],\n",
       "       [ 1.40612564,  4.949332  ],\n",
       "       [-1.33059482,  2.22269573],\n",
       "       [ 1.33129753,  1.37477982],\n",
       "       [ 1.05842489,  0.55233974],\n",
       "       [ 1.01138721,  1.20523785],\n",
       "       [ 1.44687641,  4.58901061],\n",
       "       [ 1.8376472 ,  0.96584378],\n",
       "       [ 1.98635075,  0.43322886],\n",
       "       [ 1.64133197,  4.19783728],\n",
       "       [ 1.35511678, -0.18367611],\n",
       "       [-1.18128477,  2.8366095 ],\n",
       "       [-1.6220688 ,  3.71370622],\n",
       "       [-1.83554986,  2.72163341],\n",
       "       [ 2.02212543,  4.16017654],\n",
       "       [ 1.22306604,  0.54289221],\n",
       "       [ 2.65504895,  0.44194574],\n",
       "       [ 0.75818331,  4.34310307],\n",
       "       [-2.02019421,  3.57816477],\n",
       "       [-2.44147281,  4.07857374],\n",
       "       [ 1.28219918,  0.93417922],\n",
       "       [ 0.53117782,  4.77729063],\n",
       "       [ 2.02776955,  0.07999821],\n",
       "       [-2.25858137,  3.76568396],\n",
       "       [-2.01133891,  3.9933462 ],\n",
       "       [-2.21676153,  1.88759776],\n",
       "       [ 1.48663347,  4.39407536],\n",
       "       [ 3.56953269,  1.83323322],\n",
       "       [ 2.59552091,  1.47411657],\n",
       "       [ 1.67526449,  1.18889869],\n",
       "       [ 0.49007258,  4.19904315],\n",
       "       [ 0.16066519,  4.93436587],\n",
       "       [ 0.08583768,  2.17587119],\n",
       "       [-0.93776213,  2.74326126],\n",
       "       [-1.33474256,  2.2942417 ],\n",
       "       [-1.79631988,  2.98392837],\n",
       "       [ 1.80141578,  4.17783994],\n",
       "       [ 0.08693058,  4.98236502],\n",
       "       [ 2.03823923,  0.38104202],\n",
       "       [-0.99023979,  3.16728723],\n",
       "       [ 2.04335323,  1.16306987],\n",
       "       [ 1.15026768,  1.08459927],\n",
       "       [ 0.35482006,  2.9172298 ],\n",
       "       [ 2.49292954, -0.2237767 ],\n",
       "       [-0.21811905,  5.6693301 ],\n",
       "       [ 2.86189962,  1.65339667],\n",
       "       [-1.06043586,  2.59537841],\n",
       "       [-1.03798401,  2.92052188],\n",
       "       [ 2.29447557,  3.36035598],\n",
       "       [-2.71557809,  3.18897859],\n",
       "       [ 0.43732883,  4.68126176],\n",
       "       [ 1.19746266,  1.48871774],\n",
       "       [ 1.12206256,  4.98743465],\n",
       "       [-1.71431749,  2.12827433],\n",
       "       [ 2.35364863,  1.37149928],\n",
       "       [ 3.42440614,  1.17072899],\n",
       "       [ 3.1014067 , -0.55132586],\n",
       "       [ 2.56509832,  3.28573136],\n",
       "       [-2.03062709,  2.34878717],\n",
       "       [ 1.25203946,  0.59118963],\n",
       "       [ 1.07710058,  5.32177878],\n",
       "       [ 2.3223295 ,  5.34014768],\n",
       "       [-0.87461015,  3.15585775],\n",
       "       [-1.73119017,  2.38483771],\n",
       "       [ 0.94721064,  1.32492923],\n",
       "       [ 1.49288076,  0.41497882],\n",
       "       [ 1.24593982,  1.44450233],\n",
       "       [ 2.84391267,  0.1417116 ],\n",
       "       [-2.00571164,  4.07956782],\n",
       "       [ 2.69239276,  1.11971641],\n",
       "       [ 1.19541747,  3.70592031],\n",
       "       [ 1.54734936, -0.07069111]])"
      ]
     },
     "execution_count": 18,
     "metadata": {},
     "output_type": "execute_result"
    }
   ],
   "source": [
    "X"
   ]
  },
  {
   "cell_type": "code",
   "execution_count": 20,
   "id": "144c75d8-822d-4313-af87-72de91f66614",
   "metadata": {},
   "outputs": [
    {
     "data": {
      "text/plain": [
       "array([2, 0, 0, 2, 0, 2, 1, 1, 0, 2, 0, 2, 0, 0, 0, 2, 1, 1, 0, 2, 2, 1,\n",
       "       0, 0, 2, 0, 1, 2, 2, 2, 0, 0, 2, 0, 1, 1, 0, 1, 1, 2, 1, 2, 2, 2,\n",
       "       0, 0, 0, 2, 0, 0, 0, 1, 2, 2, 2, 2, 1, 1, 0, 0, 2, 2, 0, 1, 1, 2,\n",
       "       1, 1, 2, 1, 1, 0, 0, 2, 0, 2, 1, 1, 1, 2, 2, 0, 0, 1, 1, 0, 0, 2,\n",
       "       0, 1, 2, 2, 1, 0, 1, 0, 0, 2, 2, 1, 1, 0, 2, 0, 2, 0, 1, 0, 0, 1,\n",
       "       0, 2, 1, 2, 0, 0, 0, 1, 2, 2, 1, 1, 2, 0, 1, 0, 2, 1, 2, 0, 2, 1,\n",
       "       1, 1, 0, 1, 1, 0, 1, 2, 2, 2, 0, 1, 1, 0, 2, 2, 1, 0, 1, 2, 2, 2,\n",
       "       0, 1, 1, 1, 0, 0, 2, 2, 2, 2, 0, 0, 1, 2, 1, 1, 0, 1, 0, 1, 2, 2,\n",
       "       0, 2, 0, 1, 0, 2, 1, 1, 1, 0, 2, 1, 0, 0, 2, 2, 1, 1, 1, 1, 2, 1,\n",
       "       0, 1])"
      ]
     },
     "execution_count": 20,
     "metadata": {},
     "output_type": "execute_result"
    }
   ],
   "source": [
    "y"
   ]
  },
  {
   "cell_type": "code",
   "execution_count": 24,
   "id": "b88d2c44-9302-4c87-892d-e30ca96c5956",
   "metadata": {},
   "outputs": [
    {
     "name": "stdout",
     "output_type": "stream",
     "text": [
      "cluster labels 유형: [0 1 2 3 4 5]\n"
     ]
    }
   ],
   "source": [
    "meanshift= MeanShift(bandwidth=0.8)\n",
    "cluster_labels = meanshift.fit_predict(X)\n",
    "print('cluster labels 유형:', np.unique(cluster_labels))"
   ]
  },
  {
   "cell_type": "markdown",
   "id": "07f19666-6c52-43ce-890e-ebca70e9f311",
   "metadata": {},
   "source": [
    "* 지나친 세분화 ( 위 ) 총 6개\n",
    "\n",
    "* bandwidth 올리기 (아래)"
   ]
  },
  {
   "cell_type": "code",
   "execution_count": 29,
   "id": "5f50218c-b64e-4567-9f50-5b62ec64bebf",
   "metadata": {},
   "outputs": [
    {
     "name": "stdout",
     "output_type": "stream",
     "text": [
      "cluster labels 유형: [0 1 2]\n"
     ]
    }
   ],
   "source": [
    "meanshift= MeanShift(bandwidth=1)\n",
    "cluster_labels = meanshift.fit_predict(X)\n",
    "print('cluster labels 유형:', np.unique(cluster_labels))"
   ]
  },
  {
   "cell_type": "markdown",
   "id": "d7c0f106-0250-4310-ae05-515c80661d00",
   "metadata": {},
   "source": [
    "* 3개의 군집 ( 위 )\n",
    "* badwidth 최적화 찾기 ( 아래 )"
   ]
  },
  {
   "cell_type": "code",
   "execution_count": 33,
   "id": "880aab1e-bb0a-4429-a38c-6bfa51542e29",
   "metadata": {},
   "outputs": [
    {
     "name": "stdout",
     "output_type": "stream",
     "text": [
      "bandwidth 값: 1.816\n"
     ]
    }
   ],
   "source": [
    "from sklearn.cluster import estimate_bandwidth\n",
    "\n",
    "bandwidth = estimate_bandwidth(X)\n",
    "print('bandwidth 값:', round(bandwidth,3))"
   ]
  },
  {
   "cell_type": "markdown",
   "id": "bb5980b1-2254-4785-855e-e416b61949b0",
   "metadata": {},
   "source": [
    "* badwidth 최적화 적용 하여 평균 이동 하기\n",
    "\n",
    "* 결과는 군집 3개"
   ]
  },
  {
   "cell_type": "code",
   "execution_count": 36,
   "id": "193e5be9-3c45-49a4-9873-128bed126a8f",
   "metadata": {},
   "outputs": [
    {
     "name": "stdout",
     "output_type": "stream",
     "text": [
      "cluster labels 유형: [0 1 2]\n"
     ]
    }
   ],
   "source": [
    "import pandas as pd\n",
    "\n",
    "\n",
    "clusterDF = pd.DataFrame(data=X, columns=['ftr1', 'ftr2'])\n",
    "clusterDF['target'] = y\n",
    "\n",
    "# estimate_bandwidth()로 최적의 bandwidth 계산\n",
    "best_bandwidth = estimate_bandwidth(X)\n",
    "\n",
    "meanshift= MeanShift(bandwidth=best_bandwidth)\n",
    "cluster_labels = meanshift.fit_predict(X)\n",
    "print('cluster labels 유형:',np.unique(cluster_labels))"
   ]
  },
  {
   "cell_type": "markdown",
   "id": "5ab814db-5a0b-4650-8f27-12e5b6c5e784",
   "metadata": {},
   "source": [
    "3개의 군집 시각화"
   ]
  },
  {
   "cell_type": "code",
   "execution_count": 54,
   "id": "8f46d915-7104-4d04-9674-aaaa02514c9d",
   "metadata": {},
   "outputs": [
    {
     "data": {
      "image/png": "[encoded data removed]",
      "text/plain": [
       "<Figure size 640x480 with 1 Axes>"
      ]
     },
     "metadata": {},
     "output_type": "display_data"
    }
   ],
   "source": [
    "import matplotlib.pyplot as plt\n",
    "%matplotlib inline\n",
    "\n",
    "clusterDF['meanshift_label']  = cluster_labels\n",
    "centers = meanshift.cluster_centers_\n",
    "unique_labels = np.unique(cluster_labels)\n",
    "markers=['o', 's', '^', 'x', '*']\n",
    "\n",
    "for label in unique_labels:\n",
    "    label_cluster = clusterDF[clusterDF['meanshift_label']==label]\n",
    "    center_x_y = centers[label]\n",
    "    # 군집별로 다른 마커로 산점도 적용\n",
    "    plt.scatter(x=label_cluster['ftr1'], y=label_cluster['ftr2'], edgecolor='k', marker=markers[label] )\n",
    "    \n",
    "    # 군집별 중심 표현\n",
    "    plt.scatter(x=center_x_y[0], y=center_x_y[1], s=200, color='gray', alpha=0.9, marker=markers[label])\n",
    "    plt.scatter(x=center_x_y[0], y=center_x_y[1], s=70, color='k', edgecolor='k', marker='$%d$' % label)\n",
    "    \n",
    "plt.show()"
   ]
  },
  {
   "cell_type": "markdown",
   "id": "5777dfaa-fc39-4fdc-bf0e-49b45109c791",
   "metadata": {},
   "source": [
    "target 과 군집 label 값 비교"
   ]
  },
  {
   "cell_type": "code",
   "execution_count": 57,
   "id": "47cf21d7-7982-4957-adcb-1447488a8267",
   "metadata": {},
   "outputs": [
    {
     "name": "stdout",
     "output_type": "stream",
     "text": [
      "target  meanshift_label\n",
      "0       0                  67\n",
      "1       1                  67\n",
      "2       2                  66\n",
      "Name: count, dtype: int64\n"
     ]
    }
   ],
   "source": [
    "print(clusterDF.groupby('target')['meanshift_label'].value_counts())"
   ]
  },
  {
   "cell_type": "markdown",
   "id": "c52c16b0-f68a-444e-9c05-51ab8d383f1b",
   "metadata": {},
   "source": [
    "깔끔하네?"
   ]
  }
 ],
 "metadata": {
  "kernelspec": {
   "display_name": "Python 3 (ipykernel)",
   "language": "python",
   "name": "python3"
  },
  "language_info": {
   "codemirror_mode": {
    "name": "ipython",
    "version": 3
   },
   "file_extension": ".py",
   "mimetype": "text/x-python",
   "name": "python",
   "nbconvert_exporter": "python",
   "pygments_lexer": "ipython3",
   "version": "3.12.7"
  }
 },
 "nbformat": 4,
 "nbformat_minor": 5
}
