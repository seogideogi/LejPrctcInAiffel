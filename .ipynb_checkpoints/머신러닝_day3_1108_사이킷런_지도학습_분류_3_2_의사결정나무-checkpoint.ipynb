{
 "cells": [
  {
   "cell_type": "markdown",
   "id": "8f26b25e",
   "metadata": {},
   "source": [
    "# 3-2 의사결정나무"
   ]
  },
  {
   "cell_type": "code",
   "execution_count": 1,
   "id": "725d8f58",
   "metadata": {},
   "outputs": [],
   "source": [
    "import pandas as pd\n",
    "from sklearn.model_selection import train_test_split\n",
    "from sklearn.metrics import accuracy_score"
   ]
  },
  {
   "cell_type": "code",
   "execution_count": 2,
   "id": "8b36c993",
   "metadata": {},
   "outputs": [
    {
     "data": {
      "text/plain": [
       "((284, 30), (285, 30), (284,), (285,))"
      ]
     },
     "execution_count": 2,
     "metadata": {},
     "output_type": "execute_result"
    }
   ],
   "source": [
    "# 데이터 생성\n",
    "from sklearn.datasets import load_breast_cancer\n",
    "\n",
    "def make_dataset():\n",
    "    iris = load_breast_cancer()\n",
    "    df = pd.DataFrame(iris.data, columns=iris.feature_names)\n",
    "    df['target'] = iris.target\n",
    "    X_train, X_test, y_train, y_test = train_test_split(\n",
    "        df.drop('target', axis=1), df['target'], test_size=0.5, random_state=1004)\n",
    "    return X_train, X_test, y_train, y_test\n",
    "\n",
    "X_train, X_test, y_train, y_test = make_dataset()\n",
    "X_train.shape, X_test.shape, y_train.shape, y_test.shape"
   ]
  },
  {
   "cell_type": "markdown",
   "id": "b71654f4",
   "metadata": {},
   "source": [
    "## 의사결정 나무\n",
    "\n",
    "\n",
    "* 지도학습(분류) 기법\n",
    "* 트리의 루트(root)에서 시작, 정보이득(information gain)이 최대가 되는 특성으로 데이터를 나눔\n",
    "* 데이터 특성을 나누는 기준(불순도를 측정하는 기준)은 '지니'와 '엔트로피'\n",
    "* 데이터가 한 종류만 있다면 엔트로피/지니 불순도는 0에 가깝고, 서로 다른 데이터의 비율이 비슷하면 1에 가까움\n",
    "* 정보이득(information gain)이 최대라는 것은 불순도를 최소화 하는 것 (1-불순도)"
   ]
  },
  {
   "cell_type": "code",
   "execution_count": 6,
   "id": "f742073e",
   "metadata": {},
   "outputs": [
    {
     "data": {
      "text/plain": [
       "0.9263157894736842"
      ]
     },
     "execution_count": 6,
     "metadata": {},
     "output_type": "execute_result"
    }
   ],
   "source": [
    "#의사결정나무\n",
    "from sklearn.tree import DecisionTreeClassifier\n",
    "\n",
    "model = DecisionTreeClassifier(random_state = 0) # random_state 필수 지정\n",
    "\n",
    "# 학습\n",
    "model.fit(X_train , y_train)\n",
    "\n",
    "# 예측\n",
    "pred = model.predict(X_test)\n",
    "\n",
    "# 평가\n",
    "accuracy_score(y_test, pred)"
   ]
  },
  {
   "cell_type": "markdown",
   "id": "d50a2528",
   "metadata": {},
   "source": [
    "## 의사결정나무 하이퍼 파라미터\n",
    "\n",
    "DecisionTreeClassifier 에는 아래와 같은 하이퍼 파라미터들이 속해 있음.\n",
    "\n",
    "* criterion (기본값 gini) : 불순도 지표 (또는 엔트로피 불순도 entropy)\n",
    "* <span style=\"background-color:#fff5b1\">max_depth (기본값 None)</span> : 최대 한도 깊이. <u>주로 튜닝하게 되는 값</u>. 깊이의 제한은 사실 없으나 ... 자유롭게 사용 할 경우 오버피팅 되는 경우가 많음.\n",
    "* min_samples_split (기본값 2) : 자식 노드를 갖기 위한 최소한의 데이터 수\n",
    "* min_samples_leaf (기본값 1) : 리프 노드가 되기 위한 최소 샘플 수"
   ]
  },
  {
   "cell_type": "code",
   "execution_count": 15,
   "id": "2f43920e",
   "metadata": {},
   "outputs": [
    {
     "data": {
      "text/plain": [
       "0.9228070175438596"
      ]
     },
     "execution_count": 15,
     "metadata": {},
     "output_type": "execute_result"
    }
   ],
   "source": [
    "#의사결정나무 하이퍼 파라미터\n",
    "\n",
    "from sklearn.tree import DecisionTreeClassifier\n",
    "\n",
    "# random_state 필수 지정, \n",
    "model = DecisionTreeClassifier(\n",
    "    random_state = 0\n",
    "    , max_depth =7 \n",
    "    , min_samples_split = 3\n",
    "    , min_samples_leaf=2\n",
    "    , criterion = 'entropy')\n",
    "\n",
    "# max_depth 제한 걸어보기 : 3 , 평가 점수 낮아짐\n",
    "# max_depth 제한 걸어보기 : 5 , 0.9263157894736842 위 결과와 동일\n",
    "# max_depth 제한 걸어보기 : 6 , 0.9263157894736842 위 결과와 동일\n",
    "# max_depth 제한 걸어보기 : 7 , 0.9263157894736842 위 결과와 동일\n",
    "\n",
    "# 데이터 크기가 크지 않아서 5 이상의 결과가 같게 나옴\n",
    "\n",
    "# min_samples_leaf : 2 값 약간 떨어짐. \n",
    "\n",
    "\n",
    "#### 이런식으로 각 파라미터 변경해 가며 결과값을 찾는 것.\n",
    "\n",
    "# 학습\n",
    "model.fit(X_train , y_train)\n",
    "\n",
    "# 예측\n",
    "pred = model.predict(X_test)\n",
    "\n",
    "# 평가\n",
    "accuracy_score(y_test, pred)"
   ]
  },
  {
   "cell_type": "code",
   "execution_count": null,
   "id": "073588ad",
   "metadata": {},
   "outputs": [],
   "source": []
  }
 ],
 "metadata": {
  "kernelspec": {
   "display_name": "Python 3 (ipykernel)",
   "language": "python",
   "name": "python3"
  },
  "language_info": {
   "codemirror_mode": {
    "name": "ipython",
    "version": 3
   },
   "file_extension": ".py",
   "mimetype": "text/x-python",
   "name": "python",
   "nbconvert_exporter": "python",
   "pygments_lexer": "ipython3",
   "version": "3.9.7"
  }
 },
 "nbformat": 4,
 "nbformat_minor": 5
}
