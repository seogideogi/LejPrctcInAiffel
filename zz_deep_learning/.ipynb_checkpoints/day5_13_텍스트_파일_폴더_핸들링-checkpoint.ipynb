{
 "cells": [
  {
   "cell_type": "code",
   "execution_count": 14,
   "id": "80bdb121",
   "metadata": {},
   "outputs": [
    {
     "name": "stdout",
     "output_type": "stream",
     "text": [
      "문서 1과 문서2의 유사도 : 0.0\n"
     ]
    }
   ],
   "source": [
    "import numpy as np\n",
    "from numpy import dot\n",
    "from numpy.linalg import norm\n",
    "\n",
    "from functools import reduce\n",
    "import operator\n",
    "\n",
    "def cos_sim(A, B):\n",
    "  return dot(A, B)/(norm(A)*norm(B))\n",
    "# end of def\n",
    "\n",
    "word_1 = {'남자': [-1.0, 0.0, 0.0, 0.0] }\n",
    "word_2 = {'사과': [0.0, 0.0, 1.0, 0.5]  }\n",
    "\n",
    "\n",
    "word_1_lst = list( reduce ( operator.add   ,    word_1.values()  ) )\n",
    "word_2_lst = list( reduce ( operator.add   ,    word_2.values()  ) )\n",
    "\n",
    "\n",
    "print('문서 1과 문서2의 유사도 :', cos_sim( word_1_lst, word_2_lst )  )\n"
   ]
  },
  {
   "cell_type": "code",
   "execution_count": null,
   "id": "7bee9f23",
   "metadata": {},
   "outputs": [],
   "source": []
  }
 ],
 "metadata": {
  "kernelspec": {
   "display_name": "Python 3 (ipykernel)",
   "language": "python",
   "name": "python3"
  },
  "language_info": {
   "codemirror_mode": {
    "name": "ipython",
    "version": 3
   },
   "file_extension": ".py",
   "mimetype": "text/x-python",
   "name": "python",
   "nbconvert_exporter": "python",
   "pygments_lexer": "ipython3",
   "version": "3.9.7"
  }
 },
 "nbformat": 4,
 "nbformat_minor": 5
}
