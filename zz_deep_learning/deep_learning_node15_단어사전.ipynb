{
 "cells": [
  {
   "cell_type": "markdown",
   "id": "78c51f67",
   "metadata": {},
   "source": [
    "# 데이터 다운로드 및 분석"
   ]
  },
  {
   "cell_type": "code",
   "execution_count": 4,
   "id": "1de84984",
   "metadata": {},
   "outputs": [],
   "source": [
    "import os\n",
    "\n",
    "import matplotlib.pyplot as plt\n",
    "import tensorflow as tf\n",
    "import numpy as np\n",
    "\n",
    "%matplotlib inline"
   ]
  },
  {
   "cell_type": "code",
   "execution_count": 5,
   "id": "c900ef30",
   "metadata": {},
   "outputs": [
    {
     "name": "stdout",
     "output_type": "stream",
     "text": [
      "Data Size: 94123\n",
      "Example:\n",
      ">> 개인용 컴퓨터 사용의 상당 부분은 \"이것보다 뛰어날 수 있느냐?\"\n",
      ">> 북한의 핵무기 계획을 포기하도록 하려는 압력이 거세지고 있는 가운데, 일본과 북한의 외교관들이 외교 관계를 정상화하려는 회담을 재개했다.\n",
      ">> \"경호 로보트가 침입자나 화재를 탐지하기 위해서 개인적으로, 그리고 전문적으로 사용되고 있습니다.\"\n",
      ">> 수자원부 당국은 논란이 되고 있고, 막대한 비용이 드는 이 사업에 대해 내년에 건설을 시작할 계획이다.\n",
      ">> 또한 근력 운동은 활발하게 걷는 것이나 최소한 20분 동안 뛰는 것과 같은 유산소 활동에서 얻는 운동 효과를 심장과 폐에 주지 않기 때문에, 연구학자들은 근력 운동이 심장에 큰 영향을 미치는지 여부에 대해 논쟁을 해왔다.\n"
     ]
    }
   ],
   "source": [
    "import os\n",
    "path_to_file = os.getenv('HOME')+'/aiffel/sp_tokenizer/data/korean-english-park.train.ko'\n",
    "\n",
    "with open(path_to_file, \"r\") as f:\n",
    "    raw = f.read().splitlines()\n",
    "\n",
    "print(\"Data Size:\", len(raw))\n",
    "\n",
    "print(\"Example:\")\n",
    "for sen in raw[0:100][::20]: print(\">>\", sen)"
   ]
  },
  {
   "cell_type": "code",
   "execution_count": 6,
   "id": "d1dd975f",
   "metadata": {},
   "outputs": [
    {
     "name": "stdout",
     "output_type": "stream",
     "text": [
      "문장의 최단 길이: 1\n",
      "문장의 최장 길이: 377\n",
      "문장의 평균 길이: 60\n"
     ]
    },
    {
     "data": {
      "image/png": "[encoded data removed]",
      "text/plain": [
       "<Figure size 432x288 with 1 Axes>"
      ]
     },
     "metadata": {
      "needs_background": "light"
     },
     "output_type": "display_data"
    }
   ],
   "source": [
    "min_len = 999\n",
    "max_len = 0\n",
    "sum_len = 0\n",
    "\n",
    "for sen in raw:\n",
    "    length = len(sen)\n",
    "    if min_len > length: min_len = length\n",
    "    if max_len < length: max_len = length\n",
    "    sum_len += length\n",
    "\n",
    "print(\"문장의 최단 길이:\", min_len)\n",
    "print(\"문장의 최장 길이:\", max_len)\n",
    "print(\"문장의 평균 길이:\", sum_len // len(raw))\n",
    "\n",
    "sentence_length = np.zeros((max_len), dtype=int)\n",
    "\n",
    "for sen in raw:\n",
    "    sentence_length[len(sen)-1] += 1\n",
    "\n",
    "plt.bar(range(max_len), sentence_length, width=1.0)\n",
    "plt.title(\"Sentence Length Distribution\")\n",
    "plt.show()"
   ]
  },
  {
   "cell_type": "markdown",
   "id": "de4cc0ac",
   "metadata": {},
   "source": [
    "### 공백, 특수문자 포함 , 음절의 수가 n인 문장 or 단어"
   ]
  },
  {
   "cell_type": "code",
   "execution_count": 7,
   "id": "539c707e",
   "metadata": {},
   "outputs": [
    {
     "name": "stdout",
     "output_type": "stream",
     "text": [
      "11.지각\n",
      "면접 이후\n",
      "-남자들-\n",
      "*산부인과\n",
      "*심장질환\n",
      "햇볕 쬐기\n",
      "7. 지압\n",
      "세부사항:\n",
      "세부사항:\n",
      "세부사항:\n",
      "배신자!”\n",
      "▲레스토랑\n",
      "▲버스투어\n",
      "“나중에”\n",
      "나를 봐\"\n",
      "분열 조장\n",
      "문화·연예\n",
      "문화·연예\n",
      "문화·연예\n",
      "문화·연예\n",
      "인권 침해\n",
      "산업자원부\n",
      "해외 송금\n",
      "산업자원부\n"
     ]
    }
   ],
   "source": [
    "def check_sentence_with_length(raw, length):\n",
    "    count = 0\n",
    "    \n",
    "    for sen in raw:\n",
    "        if len(sen) == length:\n",
    "            print(sen)\n",
    "            count += 1\n",
    "            if count > 100: \n",
    "                return\n",
    "# end of check_sentence_with_length\n",
    "\n",
    "n = 5\n",
    "\n",
    "### 공백, 특수문자 포함 , 음절의 수가 1인 문장 or 단어\n",
    "check_sentence_with_length(raw, n)"
   ]
  },
  {
   "cell_type": "code",
   "execution_count": 8,
   "id": "c8a2ba2d",
   "metadata": {},
   "outputs": [
    {
     "name": "stdout",
     "output_type": "stream",
     "text": [
      "Outlier Index: 21\n"
     ]
    }
   ],
   "source": [
    "for idx, _sum in enumerate(sentence_length):\n",
    "    ## 1500 은 뭐야?\n",
    "    # 문장의 수가 1500을 초과하는 문장 길이를 추출합니다.  <------- 의미 해깔리게 함. 강의 작성자는 음절 포함 특수문자 공백의 수를 문장의 길이라 정의 함\n",
    "    ## (위 주석 정정) 공백, 특수문자 ,포함 된 음절의 갯수를 문장의 길이라 정의 했음.\n",
    "    if _sum > 2000:\n",
    "        print(\"Outlier Index:\", idx+1)"
   ]
  },
  {
   "cell_type": "markdown",
   "id": "905a9248",
   "metadata": {},
   "source": [
    "위에서 찾은 outlier index 중 하나인, 길이가 11인 문장들은 어떤 것들이 있는지 확인"
   ]
  },
  {
   "cell_type": "code",
   "execution_count": 9,
   "id": "933fce4c",
   "metadata": {},
   "outputs": [
    {
     "name": "stdout",
     "output_type": "stream",
     "text": [
      "미국과 영국의 과학자들이 악수를 했다.\n",
      "인력은 기계에 의해 보강되어야만 했다.\n",
      "\"시장은 그들에게 넓게 열려 있습니다.\n",
      "아디다스는 또 다른 이점도 갖고 있다.\n",
      "공부를 위해서만 이용하겠다고 말입니다.\n",
      "환경법규의 도입은 고통스러운 과정이다.\n",
      "- 여보, 이쪽이야, 아니면 저쪽이야?\n",
      "인도는 훨씬 늦게 게임에 뛰어 들었다.\n",
      "요즘 대부분의 기업들이 그렇지 않은가?\n",
      "카리스마적인 지도자들은 위험을 즐긴다.\n",
      "우리가 하려고 하는 일의 모델은 없다.\n",
      "정상 회담은 오늘 늦게 끝날 것입니다.\n",
      "그리고 공화당의 추정은 절반만 맞았다.\n",
      "하지만 증가하고 있는 노인 인구수에따라\n",
      "민간부문에서 그런 일을 할 수는 없다고\n",
      "금년초 이라크 정보부는 \"사담 후세인:\n",
      "실제로 이 방법은 만족스럽지가 못하다.\n",
      "카자흐스탄으로부터 중국으로 입국하려다가\n",
      "클립퍼 칩에 대한 이야기로 들어 가자.\n",
      "북한의 무기 개발에 대한 CIA 보고서\n",
      "어려움을 겪고 있는 멕시코 경제에 대한\n",
      "그는 ''미국은 우리의 최악의 적이다.\n",
      "수로가 오염되고 야생동물이 밀렵되었다.\n",
      "이런 지역들을 보살피고 보호해야 한다.\n",
      "학습 방법은 훨씬 더 흠칫한 것입니다.\n",
      "포옹은 심장에 좋은 약 일 수 도 있다\n",
      "(경찰은 심문을 위해 그를 구금했다.)\n",
      "금년에는 이 숫자가 58%로 증가했다.\n",
      "(금고를 뒤져 많은 서류를 가져갔다.)\n",
      "김치는 열량은 적고 비타민은 풍부하다.\n",
      "smear campaign (흑색선전)\n",
      "아들은 아버지로부터 사업을 이어받는다.\n",
      "그것은 한계 효과가 나타나는 시기이다.\n",
      "\"사람들에게 선택권이 주어져야 합니다.\n",
      "로야 저가는 임시 의사 결정 집단이다.\n",
      "160석이 여성 대표들에게 보장되었다.\n",
      "걷기 용으로 고안된 신발이 가장 좋다.\n",
      "이것을 일주일에 5번 정도 해야 한다.\n",
      "해외 판권은 이미 16개국에서 팔렸다.\n",
      "그리고 나는 이렇게 엄숙히 서약합니다:\n",
      "하지만 오늘의 주제를 그는 알것입니다:\n",
      "(그 사건들은 전쟁 발발로 발전했다.)\n",
      "\"그는 정말로 국민들을 실망시켰습니다.\n",
      "\"제국의 반격\"과 새 영화 \"스타워즈:\n",
      "남북간 해상 교전으로 남한 경비정 침몰\n",
      "공룡들은 필연적으로 굶어 죽게 되었다.\n",
      "新 나치주의자의 시락 대통령 암살 기도\n",
      "그는 또 사무실 출입문에 불을 질렀다.\n",
      "영화 ‘월E’는 완벽한 영화는 아니다.\n",
      "부상자수는 지난주 초 12명 증가했다.\n",
      "이는 지난 2005년 사실상 중단됐다.\n",
      "프라나브 메타는 빛이 없이 살고 있다.\n",
      "일부 학부모들은 황당함을 금치 못했다.\n",
      "부상자 중 8명은 경찰관으로 알려졌다.\n",
      "그는 자전거로 통근하는 것을 좋아한다.\n",
      "짐바브웨 대선은 3월 29일 실시됐다.\n",
      "시이저 흉상 만으로도 대단한 발견이다.\n",
      "은퇴를 결정한 것에 대한 후회는 없다.\n",
      "이 교회 소속 신도는 약 30명 이다.\n",
      "이 공격으로 의원 포함 3명이 숨졌다.\n",
      "기내에서 맨 앞 좌석이 가장 한적하다.\n",
      "8명의 대의원은 아직 배정되지 않았다.\n",
      "남아공은 2010년 월드컵을 개최한다.\n",
      "그는 군인들과 무사히 탈출에 성공했다.\n",
      "경찰 당국은 부상자는 없었다고 밝혔다.\n",
      "이들은 매일 같은 일상을 되풀이 한다.\n",
      "이 경우,탐정처럼 병원을 찾아야 한다.\n",
      "미국은 그를 매우 악한 인물로 평했다.\n",
      "이들이 펼친 현수막에는 “하나의 세계.\n",
      "최근들어 남성 게이샤가 증가하고 있다.\n",
      "아직 구속수사 여부는 밝혀지지 않았다.\n",
      "Eyewitness to Murder:\n",
      "상점으로서는 현금 지불을 더 선호한다.\n",
      "이번 사고로 고속도로 전체가 폐쇄됐다.\n",
      "이라크 전쟁은 지난주 5주년을 맞았다.\n",
      "또한 고령화에 따른 문제점도 제기했다.\n",
      "2004년 총선의 투표율은 75%였다.\n",
      "강아지의 생사 여부는 밝혀지지 않았다.\n",
      "텍사스주 프라이머리도 결과는 비슷했다.\n",
      "남편 앤서니에게는 3명의 자식이 있다.\n",
      "텍사스는 193명의 대의원이 걸려있다.\n",
      "이번 비행에는 승객이 탑승하지 않았다.\n",
      "마다가스카르 인구는 1940만 명이다.\n",
      "* 죠셉 라이델 워싱턴주 아메리칸 대학\n",
      "취미로 수집한 페니가 대박을 터뜨렸다.\n",
      "무엇인가를 기념하는 것은 좋은 것이다.\n",
      "미 경기후퇴가 현실화되고 있는 것이다.\n",
      "그는 5일 동안 집에서 병을 앓았었다.\n",
      "관계당국은 검거사실을 18일 발표했다.\n",
      "ABC가 이 시상식을 방영할 계획이다.\n",
      "자살폭탄테러로 민간인도 희생되고 있다.\n",
      "현재 수천명이 교회 뜰에 대피해 있다.\n",
      "한편 CES는 일반에 공개되지 않는다.\n",
      "이 조사의 표본오차는 ±5%포인트였다.\n",
      "이들은 성명을 통해 “쿠퍼는 누구인가?\n",
      "신드는 부토의 고향이며 지지 기반이다.\n",
      "할렘은 최근 관광객들로 넘쳐나고 있다.\n",
      "존 레논의 머리카락이 경매에 올라왔다.\n",
      "팍톤은 머리를 숙인 채 평결을 들었다.\n",
      "그는 4일 오후 사기 혐의로 체포됐다.\n",
      "경찰은 그의 소지품 대부분을 압수했다.\n"
     ]
    }
   ],
   "source": [
    "check_sentence_with_length(raw, 21)"
   ]
  },
  {
   "cell_type": "markdown",
   "id": "c4fe1ea7",
   "metadata": {},
   "source": [
    " 중복 제거는 Python의 기본 자료형 set을 활용할 겁니다. set은 집합을 정의하는 자료형인데, 중복을 허용하지 않아 변환 과정에서 자동으로 중복된 요소를 제거해 주거든요! 대신 list의 순서가 뒤죽박죽될 수 있으니, 만약 번역 데이터처럼 쌍을 이뤄야 하는 경우라면 주의해서 사용하셔야 합니다!\n",
    "\n",
    "중복을 제거한 후, 앞에서 분포를 확인한 소스를 다시 실행시켜 보겠습니다!"
   ]
  },
  {
   "cell_type": "code",
   "execution_count": 10,
   "id": "9cac4202",
   "metadata": {},
   "outputs": [
    {
     "name": "stdout",
     "output_type": "stream",
     "text": [
      "Data Size: 77591\n",
      "문장의 최단 길이: 1\n",
      "문장의 최장 길이: 377\n",
      "문장의 평균 길이: 64\n"
     ]
    },
    {
     "data": {
      "image/png": "[encoded data removed]",
      "text/plain": [
       "<Figure size 432x288 with 1 Axes>"
      ]
     },
     "metadata": {
      "needs_background": "light"
     },
     "output_type": "display_data"
    }
   ],
   "source": [
    "min_len = 999\n",
    "max_len = 0\n",
    "sum_len = 0\n",
    "\n",
    "cleaned_corpus = list(set(raw))  # set를 사용해서 중복을 제거합니다.\n",
    "print(\"Data Size:\", len(cleaned_corpus))\n",
    "\n",
    "for sen in cleaned_corpus:\n",
    "    length = len(sen)\n",
    "    if min_len > length: min_len = length\n",
    "    if max_len < length: max_len = length\n",
    "    sum_len += length\n",
    "\n",
    "print(\"문장의 최단 길이:\", min_len)\n",
    "print(\"문장의 최장 길이:\", max_len)\n",
    "print(\"문장의 평균 길이:\", sum_len // len(cleaned_corpus))\n",
    "\n",
    "sentence_length = np.zeros((max_len), dtype=int)\n",
    "\n",
    "for sen in cleaned_corpus:   # 중복이 제거된 코퍼스 기준\n",
    "    sentence_length[len(sen)-1] += 1\n",
    "\n",
    "plt.bar(range(max_len), sentence_length, width=1.0)\n",
    "plt.title(\"Sentence Length Distribution\")\n",
    "plt.show()"
   ]
  },
  {
   "cell_type": "markdown",
   "id": "088a85b9",
   "metadata": {},
   "source": [
    "이제서야 깔끔한 데이터를 얻은 느낌이 드네요. 데이터의 개수도 17000개 가량 줄어 77591개가 되었습니다.\n",
    "\n",
    "마지막으로 '모든 데이터를 다 사용할 것이냐' 가 문제인데, 후에 미니 배치를 만들 것을 생각하면 모든 데이터를 다 사용하는 것은 연산 측면에서 비효율적입니다. 미니 배치 특성상 각 데이터의 크기가 모두 동일해야 하기 때문에 가장 긴 데이터를 기준으로 Padding 처리를 해야 합니다. 위의 데이터에서 만약 길이가 100인 문장까지만 사용한다면 데이터는 [ (77591 - 길이 100 초과 문장 수) x 100 ] 의 형태를 갖겠지만 모두 사용할 경우 [ 77591 x 377 ] 로 전자보다 최소 3.7배 큰 메모리를 차지합니다. 학습 시간도 그만큼 더 오래 걸리고요.\n",
    "\n",
    "길이별로 정렬하여 미니 배치를 구성해 Padding을 최소화하는 방법도 있지만 이는 데이터를 섞는 데 편향성이 생길 수 있으므로 지양해야 합니다. 여기서는 길이 150 이상의 데이터를 제거하고 사용하도록 할게요!\n",
    "\n",
    "그리고 앞서 확인한 것처럼 너무 짧은 데이터는 오히려 노이즈로 작용할 수 있습니다. 따라서 길이가 10 미만인 데이터도 제거하도록 하죠! 최종 데이터 분포도 함께 확인해봅시다."
   ]
  },
  {
   "cell_type": "code",
   "execution_count": 11,
   "id": "af36bb59",
   "metadata": {},
   "outputs": [
    {
     "data": {
      "image/png": "[encoded data removed]",
      "text/plain": [
       "<Figure size 432x288 with 1 Axes>"
      ]
     },
     "metadata": {
      "needs_background": "light"
     },
     "output_type": "display_data"
    }
   ],
   "source": [
    "max_len = 150\n",
    "min_len = 10\n",
    "\n",
    "# 길이 조건에 맞는 문장만 선택합니다.\n",
    "filtered_corpus = [s for s in cleaned_corpus if (len(s) < max_len) & (len(s) >= min_len)]\n",
    "\n",
    "# 분포도를 다시 그려봅니다.\n",
    "sentence_length = np.zeros((max_len), dtype=int)\n",
    "\n",
    "for sen in filtered_corpus:\n",
    "    sentence_length[len(sen)-1] += 1\n",
    "\n",
    "plt.bar(range(max_len), sentence_length, width=1.0)\n",
    "plt.title(\"Sentence Length Distribution\")\n",
    "plt.show()"
   ]
  },
  {
   "cell_type": "markdown",
   "id": "d896d66b",
   "metadata": {},
   "source": [
    "# 공백 기반 토큰화\n",
    "정제된 데이터 filtered_corpus를 공백 기반으로 토큰화하여 리스트 split_corpus에 저장한 후, 아래 tokenize() 함수를 사용해 단어 사전과 Tensor 데이터를 얻으세요! 그리고 단어 사전의 크기를 확인"
   ]
  },
  {
   "cell_type": "code",
   "execution_count": 12,
   "id": "1d1e0785",
   "metadata": {},
   "outputs": [],
   "source": [
    "def tokenize(corpus):  # corpus: Tokenized Sentence's List\n",
    "    tokenizer = tf.keras.preprocessing.text.Tokenizer(filters='')\n",
    "    tokenizer.fit_on_texts(corpus)\n",
    "\n",
    "    tensor = tokenizer.texts_to_sequences(corpus)\n",
    "\n",
    "    tensor = tf.keras.preprocessing.sequence.pad_sequences(tensor, padding='post')\n",
    "\n",
    "    return tensor, tokenizer\n",
    "# end of def tokenize"
   ]
  },
  {
   "cell_type": "code",
   "execution_count": 13,
   "id": "9522eaea",
   "metadata": {},
   "outputs": [],
   "source": [
    "# 정제된 데이터 filtered_corpus를 공백 기반으로 토큰화하여 저장하는 코드를 직접 작성해 보세요.\n",
    "split_corpus = []\n",
    "\n",
    "for kor in filtered_corpus :\n",
    "    split_corpus.append(kor.split())"
   ]
  },
  {
   "cell_type": "markdown",
   "id": "188687e4",
   "metadata": {},
   "source": [
    "단어 사전의 길이를 확인"
   ]
  },
  {
   "cell_type": "code",
   "execution_count": 14,
   "id": "89665e3b",
   "metadata": {},
   "outputs": [
    {
     "name": "stdout",
     "output_type": "stream",
     "text": [
      "Split Vocab Size: 237435\n"
     ]
    }
   ],
   "source": [
    "split_tensor, split_tokenizer = tokenize(split_corpus)\n",
    "\n",
    "print(\"Split Vocab Size:\", len(split_tokenizer.index_word))"
   ]
  },
  {
   "cell_type": "code",
   "execution_count": 16,
   "id": "4268f19c",
   "metadata": {},
   "outputs": [
    {
     "name": "stdout",
     "output_type": "stream",
     "text": [
      "0 : 이\n",
      "1 : 밝혔다.\n",
      "2 : 있다.\n",
      "3 : 말했다.\n",
      "4 : 수\n",
      "5 : 있는\n",
      "6 : 그는\n",
      "7 : 대한\n",
      "8 : 위해\n",
      "9 : 전했다.\n",
      "10 : 지난\n",
      "11 : 이번\n"
     ]
    }
   ],
   "source": [
    "for idx, word in enumerate(split_tokenizer.word_index):\n",
    "    print(idx, \":\", word)\n",
    "\n",
    "    if idx > 10: break"
   ]
  },
  {
   "cell_type": "code",
   "execution_count": 17,
   "id": "a007f526",
   "metadata": {},
   "outputs": [
    {
     "data": {
      "text/plain": [
       "<keras_preprocessing.text.Tokenizer at 0x7829a5b10250>"
      ]
     },
     "execution_count": 17,
     "metadata": {},
     "output_type": "execute_result"
    }
   ],
   "source": [
    "split_tokenizer"
   ]
  },
  {
   "cell_type": "code",
   "execution_count": 18,
   "id": "449c63f5",
   "metadata": {},
   "outputs": [
    {
     "data": {
      "text/plain": [
       "array([[   270,      7,   2584, ...,      0,      0,      0],\n",
       "       [    23,      1,  83716, ...,      0,      0,      0],\n",
       "       [  7072,  30597,   1276, ...,      0,      0,      0],\n",
       "       ...,\n",
       "       [237428, 237429,  45448, ...,      0,      0,      0],\n",
       "       [237432,   7754,   9432, ...,      0,      0,      0],\n",
       "       [   159,   1002,     38, ...,      0,      0,      0]], dtype=int32)"
      ]
     },
     "execution_count": 18,
     "metadata": {},
     "output_type": "execute_result"
    }
   ],
   "source": [
    "split_tensor"
   ]
  },
  {
   "cell_type": "markdown",
   "id": "340c6f34",
   "metadata": {},
   "source": [
    "# 형태소 기반 토큰화\n",
    "한국어 형태소 분석기\n",
    "* Khaiii\n",
    "* KoNLPy\n",
    "\n",
    "이번 코스에서는 KoNLPy, 그중에서도 가장 성능이 준수한 MeCab클래스를 활용해 실습하도록 하겠습니다!"
   ]
  },
  {
   "cell_type": "code",
   "execution_count": 23,
   "id": "f6096244",
   "metadata": {},
   "outputs": [
    {
     "name": "stdout",
     "output_type": "stream",
     "text": [
      "Collecting python-mecab-ko\n",
      "  Downloading python_mecab_ko-1.3.7-cp39-cp39-manylinux_2_17_x86_64.manylinux2014_x86_64.whl (578 kB)\n",
      "     |████████████████████████████████| 578 kB 3.9 MB/s            \n",
      "\u001b[?25hCollecting python-mecab-ko-dic\n",
      "  Downloading python_mecab_ko_dic-2.1.1.post2-py3-none-any.whl (34.5 MB)\n",
      "     |████████████████████████████████| 34.5 MB 62.0 MB/s            \n",
      "\u001b[?25hInstalling collected packages: python-mecab-ko-dic, python-mecab-ko\n",
      "Successfully installed python-mecab-ko-1.3.7 python-mecab-ko-dic-2.1.1.post2\n",
      "\u001b[33mWARNING: Running pip as the 'root' user can result in broken permissions and conflicting behaviour with the system package manager. It is recommended to use a virtual environment instead: https://pip.pypa.io/warnings/venv\u001b[0m\n"
     ]
    }
   ],
   "source": [
    "!pip install python-mecab-ko"
   ]
  },
  {
   "cell_type": "code",
   "execution_count": 28,
   "id": "daeeb711",
   "metadata": {},
   "outputs": [],
   "source": [
    "# 위에서 사용한 코드를 활용해 MeCab 단어 사전을 만들어보세요. \n",
    "# Hint : mecab.morphs()를 사용해서 형태소분석을 합니다.\n",
    "from konlpy.tag import Mecab\n",
    "\n",
    "mecab = Mecab()\n",
    "\n",
    "\n",
    "def mecab_split(sentence):\n",
    "    return mecab.morphs(sentence)\n",
    "\n",
    "mecab_corpus = []\n",
    "\n",
    "for kor in filtered_corpus:\n",
    "    mecab_corpus.append(mecab_split(kor))"
   ]
  },
  {
   "cell_type": "code",
   "execution_count": 30,
   "id": "6ac9414e",
   "metadata": {},
   "outputs": [
    {
     "name": "stdout",
     "output_type": "stream",
     "text": [
      "MeCab Vocab Size: 52279\n"
     ]
    }
   ],
   "source": [
    "mecab_tensor, mecab_tokenizer = tokenize(mecab_corpus)\n",
    "\n",
    "print(\"MeCab Vocab Size:\", len(mecab_tokenizer.index_word))"
   ]
  },
  {
   "cell_type": "markdown",
   "id": "c0e0f6c1",
   "metadata": {},
   "source": [
    "* 한국어를 처리할 때는 공백 기반 토큰화를 절대 피할 것\n",
    "\n",
    "두 가지 방법으로 mecab_tensor[100] 을 원문으로 되돌려 보세요!\n",
    "(여기서 띄어쓰기는 고려하지 않습니다!)"
   ]
  },
  {
   "cell_type": "code",
   "execution_count": 31,
   "id": "399dc3bb",
   "metadata": {},
   "outputs": [
    {
     "name": "stdout",
     "output_type": "stream",
     "text": [
      "한편 유로 2008 결승전 이 열린 에른스트 하펠 스타디움 에 는 5 만 명 에 달하 는 양국 을 응원 하 는 관중 들 이 입장 했으며 빈 도심 의 광장 에 도 7 만 명 의 축구 팬 들 이 모여 대형 스크린 을 통해 경기 를 관람 했 다 .\n"
     ]
    }
   ],
   "source": [
    "# Case 1\n",
    "texts = mecab_tokenizer.sequences_to_texts([mecab_tensor[100]])\n",
    "print(texts[0])"
   ]
  },
  {
   "cell_type": "code",
   "execution_count": 32,
   "id": "f060f3eb",
   "metadata": {},
   "outputs": [
    {
     "name": "stdout",
     "output_type": "stream",
     "text": [
      "한편 유로 2008 결승전 이 열린 에른스트 하펠 스타디움 에 는 5 만 명 에 달하 는 양국 을 응원 하 는 관중 들 이 입장 했으며 빈 도심 의 광장 에 도 7 만 명 의 축구 팬 들 이 모여 대형 스크린 을 통해 경기 를 관람 했 다 . \n"
     ]
    }
   ],
   "source": [
    "# Case 2\n",
    "sentence = \"\"\n",
    "\n",
    "for w in mecab_tensor[100]:\n",
    "    if w == 0: continue\n",
    "    sentence += mecab_tokenizer.index_word[w] + \" \"\n",
    "\n",
    "print(sentence)"
   ]
  },
  {
   "cell_type": "code",
   "execution_count": null,
   "id": "207cc20d",
   "metadata": {},
   "outputs": [],
   "source": []
  }
 ],
 "metadata": {
  "kernelspec": {
   "display_name": "Python 3 (ipykernel)",
   "language": "python",
   "name": "python3"
  },
  "language_info": {
   "codemirror_mode": {
    "name": "ipython",
    "version": 3
   },
   "file_extension": ".py",
   "mimetype": "text/x-python",
   "name": "python",
   "nbconvert_exporter": "python",
   "pygments_lexer": "ipython3",
   "version": "3.9.7"
  }
 },
 "nbformat": 4,
 "nbformat_minor": 5
}
