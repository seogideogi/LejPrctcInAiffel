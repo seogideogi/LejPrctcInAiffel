{
 "cells": [
  {
   "cell_type": "markdown",
   "id": "cc97967f",
   "metadata": {},
   "source": [
    "### 데이터 생성\n",
    "선형회귀(Linear Regression)를 위한 딥러닝 모델 을 만들어보도록 하겠습니다. \n",
    "\n",
    "* 데이터셋을 make_regression 함수를 이용하여 입력 X와 정답 y로\n",
    "* 샘플 갯수(n_samples) 200개\n",
    "* 특징 갯수(n_featrues) 1개\n",
    "* 바이어스(bias)는 5.0\n",
    "* 노이즈(noise)는 5.0\n",
    "* random_state는 123"
   ]
  },
  {
   "cell_type": "code",
   "execution_count": 1,
   "id": "0a198134",
   "metadata": {},
   "outputs": [
    {
     "name": "stderr",
     "output_type": "stream",
     "text": [
      "Matplotlib is building the font cache; this may take a moment.\n"
     ]
    }
   ],
   "source": [
    "import numpy as np\n",
    "import matplotlib.pyplot as plt\n",
    "from sklearn.datasets import make_regression\n",
    "\n",
    "X, y = make_regression(n_samples=200, n_features=1, \n",
    "                       bias=5.0, noise=5.0, random_state=123)"
   ]
  },
  {
   "cell_type": "code",
   "execution_count": 7,
   "id": "754a91c0",
   "metadata": {},
   "outputs": [
    {
     "name": "stdout",
     "output_type": "stream",
     "text": [
      "X.shape :  (200, 1)\n",
      "y.shape :  (200,)\n"
     ]
    }
   ],
   "source": [
    "print( 'X.shape : ' , X.shape)\n",
    "print( 'y.shape : ' , y.shape)"
   ]
  },
  {
   "cell_type": "code",
   "execution_count": 8,
   "id": "394c49fa",
   "metadata": {},
   "outputs": [
    {
     "name": "stdout",
     "output_type": "stream",
     "text": [
      "y.shape :  (200, 1)\n"
     ]
    }
   ],
   "source": [
    "y = np.expand_dims(y, axis=1)\n",
    "print( 'y.shape : ' , y.shape)"
   ]
  },
  {
   "cell_type": "code",
   "execution_count": 11,
   "id": "c79315b5",
   "metadata": {},
   "outputs": [
    {
     "name": "stdout",
     "output_type": "stream",
     "text": [
      "(160, 1) (160, 1)\n",
      "(40, 1) (40, 1)\n"
     ]
    }
   ],
   "source": [
    "from sklearn.model_selection import train_test_split\n",
    "\n",
    "x_train, x_test, y_train, y_test = train_test_split(X, y, \n",
    "                                                    test_size=0.2, \n",
    "                                                    shuffle=True,\n",
    "                                                    random_state=123)\n",
    "\n",
    "print(x_train.shape, y_train.shape)\n",
    "print(x_test.shape, y_test.shape)"
   ]
  },
  {
   "cell_type": "markdown",
   "id": "d092acc8",
   "metadata": {},
   "source": [
    "### 모델 생성\n",
    "* 딥러닝라이브러리 Tensorflow와 keras를 임포트\n",
    "* 케라스(Keras)의 모델, 레이어, 옵티마이저, 유틸    임포트. .. models, layers, optimizer, utils"
   ]
  },
  {
   "cell_type": "code",
   "execution_count": 12,
   "id": "0b8d7f13",
   "metadata": {},
   "outputs": [],
   "source": [
    "import tensorflow as tf\n",
    "from tensorflow import keras\n",
    "from tensorflow.keras import models, layers, optimizers, utils"
   ]
  },
  {
   "cell_type": "markdown",
   "id": "18189d34",
   "metadata": {},
   "source": [
    "모델은 간단하게 Sequential()을 이용해 선언하고, Dense 레이어 하나를 추가해줍니다. 레이어의 유닛수는 1개이고, activation은 선형 회귀이니 'linear'로 지정하며, input_shape은 (1,) 으로 1차원 모양으로 입력 모양을 가집니다. 최종 모델의 구조를 summary() 함수를 통해 확인"
   ]
  },
  {
   "cell_type": "code",
   "execution_count": 13,
   "id": "2e9e9f64",
   "metadata": {},
   "outputs": [],
   "source": [
    "model = keras.Sequential()\n",
    "model.add(layers.Dense(1, activation='linear', input_shape=(1,)))"
   ]
  },
  {
   "cell_type": "code",
   "execution_count": 14,
   "id": "ef265fa5",
   "metadata": {},
   "outputs": [
    {
     "data": {
      "image/png": "[encoded data removed]",
      "text/plain": [
       "<IPython.core.display.Image object>"
      ]
     },
     "execution_count": 14,
     "metadata": {},
     "output_type": "execute_result"
    }
   ],
   "source": [
    "utils.plot_model(model)"
   ]
  },
  {
   "cell_type": "markdown",
   "id": "83c608fc",
   "metadata": {},
   "source": [
    "### 모델 학습\n",
    "\n",
    "* 딥러닝 모델의 학습 진행 방식을 결정하는 옵티마이저(optimizer)로 SGD(Stochastic Gradient Descent) 를 사용\n",
    "* compile() 함수를 통해서 손실 함수(loss function), 옵티마이저(optimizer), 지표(metrics)를 지정\n",
    "\n",
    "* 모델의 학습에 필요한 손실 함수로 mse를 지정하여 Mean Square Error를 사용하고, 옵티마이저는 정의했던 SGD를 사용합니다. \n",
    "\n",
    "* 지표로는 mae와 mse를 사용하는데 여기서 MAE는 Mean Absolute Error를 의미합니다.\n",
    "\n",
    "* 모델 학습을 진행하기위해 fit() 함수를 호출합니다. \n",
    "\n",
    "* 학습을 위해 x_train과 y_train를 지정하고, 학습 반복 횟수인 epochs를 40으로 지정합니다."
   ]
  },
  {
   "cell_type": "code",
   "execution_count": 16,
   "id": "12713751",
   "metadata": {},
   "outputs": [
    {
     "name": "stdout",
     "output_type": "stream",
     "text": [
      "Epoch 1/40\n",
      "5/5 [==============================] - 2s 2ms/step - loss: 644.1600 - mae: 20.3249 - mse: 644.1600\n",
      "Epoch 2/40\n",
      "5/5 [==============================] - 0s 2ms/step - loss: 517.0123 - mae: 18.2934 - mse: 517.0123\n",
      "Epoch 3/40\n",
      "5/5 [==============================] - 0s 2ms/step - loss: 416.3866 - mae: 16.3618 - mse: 416.3866\n",
      "Epoch 4/40\n",
      "5/5 [==============================] - 0s 1ms/step - loss: 336.0362 - mae: 14.7610 - mse: 336.0362\n",
      "Epoch 5/40\n",
      "5/5 [==============================] - 0s 1ms/step - loss: 271.6155 - mae: 13.2726 - mse: 271.6155\n",
      "Epoch 6/40\n",
      "5/5 [==============================] - 0s 1ms/step - loss: 220.4473 - mae: 11.9238 - mse: 220.4473\n",
      "Epoch 7/40\n",
      "5/5 [==============================] - 0s 2ms/step - loss: 180.0120 - mae: 10.7783 - mse: 180.0120\n",
      "Epoch 8/40\n",
      "5/5 [==============================] - 0s 1ms/step - loss: 147.6062 - mae: 9.7570 - mse: 147.6062\n",
      "Epoch 9/40\n",
      "5/5 [==============================] - 0s 1ms/step - loss: 121.5450 - mae: 8.8568 - mse: 121.5450\n",
      "Epoch 10/40\n",
      "5/5 [==============================] - 0s 1ms/step - loss: 101.0566 - mae: 8.0507 - mse: 101.0566\n",
      "Epoch 11/40\n",
      "5/5 [==============================] - 0s 2ms/step - loss: 84.6785 - mae: 7.3651 - mse: 84.6785\n",
      "Epoch 12/40\n",
      "5/5 [==============================] - 0s 2ms/step - loss: 71.7284 - mae: 6.7718 - mse: 71.7284\n",
      "Epoch 13/40\n",
      "5/5 [==============================] - 0s 2ms/step - loss: 61.3120 - mae: 6.2729 - mse: 61.3120\n",
      "Epoch 14/40\n",
      "5/5 [==============================] - 0s 1ms/step - loss: 53.0317 - mae: 5.8370 - mse: 53.0317\n",
      "Epoch 15/40\n",
      "5/5 [==============================] - 0s 2ms/step - loss: 46.5007 - mae: 5.4551 - mse: 46.5007\n",
      "Epoch 16/40\n",
      "5/5 [==============================] - 0s 2ms/step - loss: 41.2153 - mae: 5.0947 - mse: 41.2153\n",
      "Epoch 17/40\n",
      "5/5 [==============================] - 0s 2ms/step - loss: 36.9902 - mae: 4.8137 - mse: 36.9902\n",
      "Epoch 18/40\n",
      "5/5 [==============================] - 0s 1ms/step - loss: 33.6826 - mae: 4.5839 - mse: 33.6826\n",
      "Epoch 19/40\n",
      "5/5 [==============================] - 0s 2ms/step - loss: 30.9960 - mae: 4.3930 - mse: 30.9960\n",
      "Epoch 20/40\n",
      "5/5 [==============================] - 0s 1ms/step - loss: 28.8871 - mae: 4.2091 - mse: 28.8871\n",
      "Epoch 21/40\n",
      "5/5 [==============================] - 0s 2ms/step - loss: 27.2053 - mae: 4.0867 - mse: 27.2053\n",
      "Epoch 22/40\n",
      "5/5 [==============================] - 0s 2ms/step - loss: 25.8717 - mae: 3.9865 - mse: 25.8717\n",
      "Epoch 23/40\n",
      "5/5 [==============================] - 0s 2ms/step - loss: 24.7848 - mae: 3.9008 - mse: 24.7848\n",
      "Epoch 24/40\n",
      "5/5 [==============================] - 0s 6ms/step - loss: 23.9296 - mae: 3.8463 - mse: 23.9296\n",
      "Epoch 25/40\n",
      "5/5 [==============================] - 0s 2ms/step - loss: 23.2610 - mae: 3.7982 - mse: 23.2610\n",
      "Epoch 26/40\n",
      "5/5 [==============================] - 0s 2ms/step - loss: 22.7307 - mae: 3.7585 - mse: 22.7307\n",
      "Epoch 27/40\n",
      "5/5 [==============================] - 0s 2ms/step - loss: 22.3061 - mae: 3.7304 - mse: 22.3061\n",
      "Epoch 28/40\n",
      "5/5 [==============================] - 0s 2ms/step - loss: 21.9803 - mae: 3.7012 - mse: 21.9803\n",
      "Epoch 29/40\n",
      "5/5 [==============================] - 0s 2ms/step - loss: 21.6946 - mae: 3.6881 - mse: 21.6946\n",
      "Epoch 30/40\n",
      "5/5 [==============================] - 0s 2ms/step - loss: 21.4864 - mae: 3.6714 - mse: 21.4864\n",
      "Epoch 31/40\n",
      "5/5 [==============================] - 0s 2ms/step - loss: 21.3235 - mae: 3.6560 - mse: 21.3235\n",
      "Epoch 32/40\n",
      "5/5 [==============================] - 0s 3ms/step - loss: 21.1574 - mae: 3.6429 - mse: 21.1574\n",
      "Epoch 33/40\n",
      "5/5 [==============================] - 0s 2ms/step - loss: 21.0539 - mae: 3.6348 - mse: 21.0539\n",
      "Epoch 34/40\n",
      "5/5 [==============================] - 0s 2ms/step - loss: 20.9755 - mae: 3.6281 - mse: 20.9755\n",
      "Epoch 35/40\n",
      "5/5 [==============================] - 0s 2ms/step - loss: 20.8806 - mae: 3.6214 - mse: 20.8806\n",
      "Epoch 36/40\n",
      "5/5 [==============================] - 0s 2ms/step - loss: 20.8451 - mae: 3.6184 - mse: 20.8451\n",
      "Epoch 37/40\n",
      "5/5 [==============================] - 0s 1ms/step - loss: 20.8013 - mae: 3.6118 - mse: 20.8013\n",
      "Epoch 38/40\n",
      "5/5 [==============================] - 0s 1ms/step - loss: 20.7529 - mae: 3.6083 - mse: 20.7529\n",
      "Epoch 39/40\n",
      "5/5 [==============================] - 0s 2ms/step - loss: 20.7509 - mae: 3.6077 - mse: 20.7509\n",
      "Epoch 40/40\n",
      "5/5 [==============================] - 0s 1ms/step - loss: 20.7137 - mae: 3.6043 - mse: 20.7137\n"
     ]
    }
   ],
   "source": [
    "optimizer= optimizers.SGD()\n",
    "model.compile(loss='mse', optimizer=optimizer, metrics=['mae', 'mse'])\n",
    "history = model.fit(x_train, y_train, epochs=40)"
   ]
  },
  {
   "cell_type": "markdown",
   "id": "207b8d0e",
   "metadata": {},
   "source": [
    "* 모델이 학습하면서 각 epoch 마다 저장한 mae와 mse 지표를 차트를 통해서 확인"
   ]
  },
  {
   "cell_type": "code",
   "execution_count": 17,
   "id": "d8b7258c",
   "metadata": {},
   "outputs": [
    {
     "data": {
      "image/png": "[encoded data removed]",
      "text/plain": [
       "<Figure size 432x288 with 1 Axes>"
      ]
     },
     "metadata": {
      "needs_background": "light"
     },
     "output_type": "display_data"
    }
   ],
   "source": [
    "plt.plot(history.history['mae'])\n",
    "plt.plot(history.history['mse'])\n",
    "plt.xlabel('Epoch')\n",
    "plt.legend(['mae','mse'])\n",
    "plt.show()"
   ]
  },
  {
   "cell_type": "markdown",
   "id": "3930791a",
   "metadata": {},
   "source": [
    "### 모델평가\n",
    "* evaluate() 함수를 이용하여 데이터셋인 x_test, y_test에 대해서 지표인 mae와 mse를 확인"
   ]
  },
  {
   "cell_type": "code",
   "execution_count": 18,
   "id": "2139081c",
   "metadata": {},
   "outputs": [
    {
     "name": "stdout",
     "output_type": "stream",
     "text": [
      "2/2 [==============================] - 0s 4ms/step - loss: 21.9309 - mae: 3.9887 - mse: 21.9309\n"
     ]
    },
    {
     "data": {
      "text/plain": [
       "[21.93086814880371, 3.9887282848358154, 21.93086814880371]"
      ]
     },
     "execution_count": 18,
     "metadata": {},
     "output_type": "execute_result"
    }
   ],
   "source": [
    "model.evaluate(x_test, y_test)"
   ]
  },
  {
   "cell_type": "markdown",
   "id": "defd0eab",
   "metadata": {},
   "source": [
    "### 모델예측\n",
    "* 학습된 모델을 통해 입력 데이터 X에 대한 예측값을 predict()를 통해 결과로 받아옵니다. \n",
    "* 실제 데이터의 결과값 y와 모델의 예측 결과인 result를 살펴봅니다.\n",
    "\n",
    "\n",
    "\n",
    "\n"
   ]
  },
  {
   "cell_type": "code",
   "execution_count": 22,
   "id": "b70eb589",
   "metadata": {},
   "outputs": [
    {
     "data": {
      "image/png": "[encoded data removed]",
      "text/plain": [
       "<Figure size 432x288 with 1 Axes>"
      ]
     },
     "metadata": {
      "needs_background": "light"
     },
     "output_type": "display_data"
    }
   ],
   "source": [
    "pred = model.predict(X)\n",
    "\n",
    "plt.scatter(X, y)\n",
    "plt.plot(X, pred, 'r')\n",
    "plt.show()"
   ]
  },
  {
   "cell_type": "markdown",
   "id": "b52aae23",
   "metadata": {},
   "source": [
    "* layers로 접근하여 살펴볼 수 있음"
   ]
  },
  {
   "cell_type": "code",
   "execution_count": 26,
   "id": "04b9bfc6",
   "metadata": {},
   "outputs": [
    {
     "name": "stdout",
     "output_type": "stream",
     "text": [
      "[<keras.layers.core.Dense object at 0x7b563e1ddf10>]\n"
     ]
    }
   ],
   "source": [
    "print(model.layers)"
   ]
  },
  {
   "cell_type": "code",
   "execution_count": 25,
   "id": "ec0d5fdf",
   "metadata": {},
   "outputs": [
    {
     "name": "stdout",
     "output_type": "stream",
     "text": [
      "dense\n",
      "dense\n"
     ]
    }
   ],
   "source": [
    "layer = model.layers[0]\n",
    "print(layer.name)\n",
    "layer = model.get_layer('dense')\n",
    "print(layer.name)"
   ]
  },
  {
   "cell_type": "markdown",
   "id": "8f5d448d",
   "metadata": {},
   "source": [
    "* 레이어에서 사용하는 가중치(weights)와 바이어스(biases)를 get_weights() 함수를 통해서 얻을 수 있습니다. \n",
    "* 레이어에 있는 가중치와 바이어스를 통해 선형 회귀식을 얻을 수 있습니다."
   ]
  },
  {
   "cell_type": "code",
   "execution_count": 27,
   "id": "bc09da5a",
   "metadata": {},
   "outputs": [
    {
     "name": "stdout",
     "output_type": "stream",
     "text": [
      "weights -  [[22.895754]]\n",
      "biases -  [4.1801505]\n"
     ]
    }
   ],
   "source": [
    "weights, biases = layer.get_weights()\n",
    "\n",
    "print('weights - ', weights)\n",
    "print('biases - ', biases)"
   ]
  },
  {
   "cell_type": "markdown",
   "id": "391334bb",
   "metadata": {},
   "source": [
    "* 모델에서 학습된 가중치(weights)와 바이어스(biases)를 통해 선형회귀식을 np.array(weights * X + biases)로 표현할 수 있습니다."
   ]
  },
  {
   "cell_type": "code",
   "execution_count": 28,
   "id": "21f0262c",
   "metadata": {},
   "outputs": [
    {
     "data": {
      "image/png": "[encoded data removed]",
      "text/plain": [
       "<Figure size 432x288 with 1 Axes>"
      ]
     },
     "metadata": {
      "needs_background": "light"
     },
     "output_type": "display_data"
    }
   ],
   "source": [
    "plt.scatter(X, y)\n",
    "plt.plot(X, np.array( weights * X + biases), 'r')\n",
    "plt.show()"
   ]
  },
  {
   "cell_type": "code",
   "execution_count": null,
   "id": "c26b0643",
   "metadata": {},
   "outputs": [],
   "source": []
  }
 ],
 "metadata": {
  "kernelspec": {
   "display_name": "Python 3 (ipykernel)",
   "language": "python",
   "name": "python3"
  },
  "language_info": {
   "codemirror_mode": {
    "name": "ipython",
    "version": 3
   },
   "file_extension": ".py",
   "mimetype": "text/x-python",
   "name": "python",
   "nbconvert_exporter": "python",
   "pygments_lexer": "ipython3",
   "version": "3.9.7"
  }
 },
 "nbformat": 4,
 "nbformat_minor": 5
}
